{
 "cells": [
  {
   "cell_type": "code",
   "execution_count": null,
   "id": "21d781ff",
   "metadata": {},
   "outputs": [],
   "source": [
    "# Hierarchical Clustering : \n",
    "    # It has 2 different types : Agglomerative and Divisive.\n",
    "    # Agglomerative : Each point creates its own clusters and then the closest 2 points creates new clusters and it goes like this until there exists a 1 last cluster.\n",
    "    # Divisive is the opposite of agglomerative. We start with 1 big cluster and then we split these clusters into 2 clusters. It goes like that until we have different clusters of each data points.\n",
    "    \n",
    "    # Traditional hierarchical clustering algorithms use a similarity or distance matrix. It merges or splits one cluster at a time.\n",
    "    # It produces a set of nested clusters organized as a hierarchical tree.\n",
    "    # It can be visualized as a dendrogram(tree). A tree like diagram that records sequences of merges or splits. In y axis, you get the distance and in x axis, you get datapoints.\n",
    "    \n",
    "    # Do not have to assume any particular number of clusters. You decide the numbers by looking at the dendrogram.\n",
    "    \n",
    "    # Agglomerative Clustering : Compute distance matrix and let each data point to be a cluster at first. \n",
    "    # Then repeat : Merge two closest clusters and update the distance matrix. Until only a single cluster remains.\n",
    "    # Key operation is the computation of the distance of two clusters. Different approaches defining the distance between clusters distinguish the different algorithms.\n",
    "    # It is a more popular hierarchical clustering technique.\n",
    "    # Distance is known as inter-cluster similarity. \n",
    "    # How to define distance ? MIN : Take closest two points from clusters and then calculate distances, single linkage.\n",
    "    # MAX : Take the outermost two points from clusters .\n",
    "    # Group Average : Distance between centroids. Find the centers and then calculate the distance between them.\n",
    "    # Ward's method uses squared error and tries to minimize the variance between clusters.\n",
    "    \n",
    "    # The dendrogram for clusters : Choose a distance D at which to cut dendrogram. The points below the cut point will be clusters.\n",
    "    # Where and how to cut dendrogram ? Look at the inconsistent links.\n",
    "    # Dendrogram shows the distance between points and there fore if there is high increase in distances in case of merge then you can cut at that point. Inconsistency.\n",
    "    \n",
    "    # One important parameter in clustering is the distance measure used. L1 norm (Manhattan distance), L2 norm(Euclidean distance), L infinity norm: max(x,y)\n",
    "    # In Euclidean distance, feature with high range will start the dominate the whole process. Therefore you have to scaler features to the same scale or according to their importance.\n",
    "    # Hamming distance : Can be used for categorical attributes. red,tall,heavy vs green tall light. then d(x,y) = 2 beucase two points are different from each other.\n",
    "    # Edit distance for strings : How many operations you need to convert a string to another string. x = abcde and y = bcduve.   delete a , insert u, insert v. Then edit distance is 3.\n",
    "    # It does not cate about the meaning of the words. If you would like to work with strings then you can use pretrained models to get the vector of these words and use as a feature.\n",
    "    # There are some distances that cares about trend.\n",
    "    \n",
    "    "
   ]
  },
  {
   "cell_type": "code",
   "execution_count": 29,
   "id": "52efb37f",
   "metadata": {},
   "outputs": [],
   "source": [
    "from scipy.cluster import hierarchy as hie\n",
    "import numpy as np\n",
    "import seaborn as sns\n",
    "from matplotlib import pyplot as plt\n",
    "from scipy.spatial import distance\n",
    "from sklearn.cluster import AgglomerativeClustering"
   ]
  },
  {
   "cell_type": "code",
   "execution_count": 5,
   "id": "b11f1248",
   "metadata": {},
   "outputs": [],
   "source": [
    "X = np.array([[5,3],[10,15],[15,12],[24,10],[30,30],[85,70],[71,80],[60,78],[70,55],[80,91]])\n",
    "\n",
    "labels = range(1,11)"
   ]
  },
  {
   "cell_type": "code",
   "execution_count": 7,
   "id": "27966ebd",
   "metadata": {},
   "outputs": [
    {
     "data": {
      "text/plain": [
       "<AxesSubplot:>"
      ]
     },
     "execution_count": 7,
     "metadata": {},
     "output_type": "execute_result"
    },
    {
     "data": {
      "image/png": "[encoded data removed]",
      "text/plain": [
       "<Figure size 432x288 with 1 Axes>"
      ]
     },
     "metadata": {
      "needs_background": "light"
     },
     "output_type": "display_data"
    }
   ],
   "source": [
    "sns.scatterplot(x=X[:,0],y = X[:,1], s = 50)"
   ]
  },
  {
   "cell_type": "code",
   "execution_count": 11,
   "id": "3f416a0e",
   "metadata": {},
   "outputs": [],
   "source": [
    "#### SINGLE LINKAGE DISTANCE (MIN)"
   ]
  },
  {
   "cell_type": "code",
   "execution_count": 12,
   "id": "2334723b",
   "metadata": {},
   "outputs": [],
   "source": [
    "l = hie.linkage(X,method = \"single\",metric = \"euclidean\")"
   ]
  },
  {
   "cell_type": "code",
   "execution_count": 15,
   "id": "33397f41",
   "metadata": {},
   "outputs": [
    {
     "data": {
      "image/png": "[encoded data removed]",
      "text/plain": [
       "<Figure size 432x288 with 1 Axes>"
      ]
     },
     "metadata": {
      "needs_background": "light"
     },
     "output_type": "display_data"
    }
   ],
   "source": [
    "hie.dendrogram(l,labels = labels)\n",
    "plt.show()\n"
   ]
  },
  {
   "cell_type": "code",
   "execution_count": 17,
   "id": "aff12afb",
   "metadata": {},
   "outputs": [],
   "source": [
    "distance_four_to_two = distance.euclidean(X[3],X[1]) # distance between 4th sample to the 2nd sample\n"
   ]
  },
  {
   "cell_type": "code",
   "execution_count": 18,
   "id": "d392b4ee",
   "metadata": {},
   "outputs": [],
   "source": [
    "distance_four_to_three = distance.euclidean(X[3],X[2])"
   ]
  },
  {
   "cell_type": "code",
   "execution_count": 19,
   "id": "cb45d0e3",
   "metadata": {},
   "outputs": [],
   "source": [
    "distancefour_tocluster2_3 = np.min([distance_four_to_two,distance_four_to_three])"
   ]
  },
  {
   "cell_type": "code",
   "execution_count": 20,
   "id": "05ab5ea7",
   "metadata": {},
   "outputs": [],
   "source": [
    "distance_one_to_two = distance.euclidean(X[0],X[1]) \n",
    "distance_one_to_three = distance.euclidean(X[0],X[2]) "
   ]
  },
  {
   "cell_type": "code",
   "execution_count": 21,
   "id": "c60ce5d3",
   "metadata": {},
   "outputs": [
    {
     "name": "stdout",
     "output_type": "stream",
     "text": [
      "Distance between 4 and cluster (2,3) :  9.219544457292887\n",
      "Distance between 1 and cluster (2,3) :  13.0\n"
     ]
    }
   ],
   "source": [
    "distanceone_tocluster2_3 = np.min([distance_one_to_two,distance_one_to_three])\n",
    "    \n",
    "print(\"Distance between 4 and cluster (2,3) : \", distancefour_tocluster2_3)\n",
    "\n",
    "print(\"Distance between 1 and cluster (2,3) : \", distanceone_tocluster2_3)"
   ]
  },
  {
   "cell_type": "code",
   "execution_count": 22,
   "id": "5a86a343",
   "metadata": {},
   "outputs": [],
   "source": [
    "#### COMPLETE LINKAGE DISTANCE (MAX):"
   ]
  },
  {
   "cell_type": "code",
   "execution_count": 24,
   "id": "bda94c96",
   "metadata": {},
   "outputs": [
    {
     "data": {
      "image/png": "[encoded data removed]",
      "text/plain": [
       "<Figure size 432x288 with 1 Axes>"
      ]
     },
     "metadata": {
      "needs_background": "light"
     },
     "output_type": "display_data"
    }
   ],
   "source": [
    "l = hie.linkage(X,method = \"complete\",metric = \"euclidean\")\n",
    "hie.dendrogram(l,labels = labels)\n",
    "plt.show()"
   ]
  },
  {
   "cell_type": "code",
   "execution_count": 25,
   "id": "b87abd0a",
   "metadata": {},
   "outputs": [],
   "source": [
    "#### AVERAGE LINKAGE DISTANCE :"
   ]
  },
  {
   "cell_type": "code",
   "execution_count": 27,
   "id": "b4b9b91c",
   "metadata": {},
   "outputs": [
    {
     "data": {
      "image/png": "[encoded data removed]",
      "text/plain": [
       "<Figure size 432x288 with 1 Axes>"
      ]
     },
     "metadata": {
      "needs_background": "light"
     },
     "output_type": "display_data"
    }
   ],
   "source": [
    "l = hie.linkage(X,method = \"average\", metric=\"euclidean\")\n",
    "hie.dendrogram(l,labels=labels)\n",
    "plt.show()"
   ]
  },
  {
   "cell_type": "code",
   "execution_count": 28,
   "id": "6ff9b9d8",
   "metadata": {},
   "outputs": [],
   "source": [
    "##### SKLEARN USAGE"
   ]
  },
  {
   "cell_type": "code",
   "execution_count": 38,
   "id": "22673893",
   "metadata": {},
   "outputs": [
    {
     "data": {
      "text/html": [
       "<style>#sk-container-id-1 {color: black;background-color: white;}#sk-container-id-1 pre{padding: 0;}#sk-container-id-1 div.sk-toggleable {background-color: white;}#sk-container-id-1 label.sk-toggleable__label {cursor: pointer;display: block;width: 100%;margin-bottom: 0;padding: 0.3em;box-sizing: border-box;text-align: center;}#sk-container-id-1 label.sk-toggleable__label-arrow:before {content: \"▸\";float: left;margin-right: 0.25em;color: #696969;}#sk-container-id-1 label.sk-toggleable__label-arrow:hover:before {color: black;}#sk-container-id-1 div.sk-estimator:hover label.sk-toggleable__label-arrow:before {color: black;}#sk-container-id-1 div.sk-toggleable__content {max-height: 0;max-width: 0;overflow: hidden;text-align: left;background-color: #f0f8ff;}#sk-container-id-1 div.sk-toggleable__content pre {margin: 0.2em;color: black;border-radius: 0.25em;background-color: #f0f8ff;}#sk-container-id-1 input.sk-toggleable__control:checked~div.sk-toggleable__content {max-height: 200px;max-width: 100%;overflow: auto;}#sk-container-id-1 input.sk-toggleable__control:checked~label.sk-toggleable__label-arrow:before {content: \"▾\";}#sk-container-id-1 div.sk-estimator input.sk-toggleable__control:checked~label.sk-toggleable__label {background-color: #d4ebff;}#sk-container-id-1 div.sk-label input.sk-toggleable__control:checked~label.sk-toggleable__label {background-color: #d4ebff;}#sk-container-id-1 input.sk-hidden--visually {border: 0;clip: rect(1px 1px 1px 1px);clip: rect(1px, 1px, 1px, 1px);height: 1px;margin: -1px;overflow: hidden;padding: 0;position: absolute;width: 1px;}#sk-container-id-1 div.sk-estimator {font-family: monospace;background-color: #f0f8ff;border: 1px dotted black;border-radius: 0.25em;box-sizing: border-box;margin-bottom: 0.5em;}#sk-container-id-1 div.sk-estimator:hover {background-color: #d4ebff;}#sk-container-id-1 div.sk-parallel-item::after {content: \"\";width: 100%;border-bottom: 1px solid gray;flex-grow: 1;}#sk-container-id-1 div.sk-label:hover label.sk-toggleable__label {background-color: #d4ebff;}#sk-container-id-1 div.sk-serial::before {content: \"\";position: absolute;border-left: 1px solid gray;box-sizing: border-box;top: 0;bottom: 0;left: 50%;z-index: 0;}#sk-container-id-1 div.sk-serial {display: flex;flex-direction: column;align-items: center;background-color: white;padding-right: 0.2em;padding-left: 0.2em;position: relative;}#sk-container-id-1 div.sk-item {position: relative;z-index: 1;}#sk-container-id-1 div.sk-parallel {display: flex;align-items: stretch;justify-content: center;background-color: white;position: relative;}#sk-container-id-1 div.sk-item::before, #sk-container-id-1 div.sk-parallel-item::before {content: \"\";position: absolute;border-left: 1px solid gray;box-sizing: border-box;top: 0;bottom: 0;left: 50%;z-index: -1;}#sk-container-id-1 div.sk-parallel-item {display: flex;flex-direction: column;z-index: 1;position: relative;background-color: white;}#sk-container-id-1 div.sk-parallel-item:first-child::after {align-self: flex-end;width: 50%;}#sk-container-id-1 div.sk-parallel-item:last-child::after {align-self: flex-start;width: 50%;}#sk-container-id-1 div.sk-parallel-item:only-child::after {width: 0;}#sk-container-id-1 div.sk-dashed-wrapped {border: 1px dashed gray;margin: 0 0.4em 0.5em 0.4em;box-sizing: border-box;padding-bottom: 0.4em;background-color: white;}#sk-container-id-1 div.sk-label label {font-family: monospace;font-weight: bold;display: inline-block;line-height: 1.2em;}#sk-container-id-1 div.sk-label-container {text-align: center;}#sk-container-id-1 div.sk-container {/* jupyter's `normalize.less` sets `[hidden] { display: none; }` but bootstrap.min.css set `[hidden] { display: none !important; }` so we also need the `!important` here to be able to override the default hidden behavior on the sphinx rendered scikit-learn.org. See: https://github.com/scikit-learn/scikit-learn/issues/21755 */display: inline-block !important;position: relative;}#sk-container-id-1 div.sk-text-repr-fallback {display: none;}</style><div id=\"sk-container-id-1\" class=\"sk-top-container\"><div class=\"sk-text-repr-fallback\"><pre>AgglomerativeClustering()</pre><b>In a Jupyter environment, please rerun this cell to show the HTML representation or trust the notebook. <br />On GitHub, the HTML representation is unable to render, please try loading this page with nbviewer.org.</b></div><div class=\"sk-container\" hidden><div class=\"sk-item\"><div class=\"sk-estimator sk-toggleable\"><input class=\"sk-toggleable__control sk-hidden--visually\" id=\"sk-estimator-id-1\" type=\"checkbox\" checked><label for=\"sk-estimator-id-1\" class=\"sk-toggleable__label sk-toggleable__label-arrow\">AgglomerativeClustering</label><div class=\"sk-toggleable__content\"><pre>AgglomerativeClustering()</pre></div></div></div></div></div>"
      ],
      "text/plain": [
       "AgglomerativeClustering()"
      ]
     },
     "execution_count": 38,
     "metadata": {},
     "output_type": "execute_result"
    }
   ],
   "source": [
    "cluster = AgglomerativeClustering(n_clusters = 2, affinity = \"euclidean\",linkage = \"ward\")\n",
    "\n",
    "cluster.fit(X)"
   ]
  },
  {
   "cell_type": "code",
   "execution_count": 39,
   "id": "7e9cefae",
   "metadata": {},
   "outputs": [
    {
     "data": {
      "text/plain": [
       "<AxesSubplot:>"
      ]
     },
     "execution_count": 39,
     "metadata": {},
     "output_type": "execute_result"
    },
    {
     "data": {
      "image/png": "[encoded data removed]",
      "text/plain": [
       "<Figure size 432x288 with 1 Axes>"
      ]
     },
     "metadata": {
      "needs_background": "light"
     },
     "output_type": "display_data"
    }
   ],
   "source": [
    "sns.scatterplot(x = X[:,0], y = X[:,1], s = 50, c = cluster.labels_, cmap = \"viridis\")"
   ]
  },
  {
   "cell_type": "code",
   "execution_count": null,
   "id": "e2ccd6b9",
   "metadata": {},
   "outputs": [],
   "source": []
  }
 ],
 "metadata": {
  "kernelspec": {
   "display_name": "Python 3 (ipykernel)",
   "language": "python",
   "name": "python3"
  },
  "language_info": {
   "codemirror_mode": {
    "name": "ipython",
    "version": 3
   },
   "file_extension": ".py",
   "mimetype": "text/x-python",
   "name": "python",
   "nbconvert_exporter": "python",
   "pygments_lexer": "ipython3",
   "version": "3.9.7"
  }
 },
 "nbformat": 4,
 "nbformat_minor": 5
}
