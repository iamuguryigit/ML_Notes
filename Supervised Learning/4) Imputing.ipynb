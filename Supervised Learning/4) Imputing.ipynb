{
 "cells": [
  {
   "cell_type": "code",
   "execution_count": null,
   "id": "74abca4a",
   "metadata": {},
   "outputs": [],
   "source": [
    "# MISSING VALUES -- Imputing :\n",
    "    \n",
    "# Categoric : Get the most frequent one of the features and fill with it.\n",
    "\n",
    "# Numeric : SimpleImputer , kNN Imputer, Iterative Imputer,  MissingIndicator for both categoric and numeric.\n"
   ]
  },
  {
   "cell_type": "code",
   "execution_count": 1,
   "id": "887664d5",
   "metadata": {},
   "outputs": [],
   "source": [
    "import numpy as np\n",
    "import pandas as pd\n",
    "from matplotlib import pyplot as plt\n",
    "import seaborn as sns\n",
    "\n",
    "from sklearn.experimental import enable_iterative_imputer\n",
    "from sklearn import datasets as dat\n",
    "from sklearn import model_selection as mod\n",
    "from sklearn import linear_model as lin\n",
    "from sklearn import metrics as met\n",
    "from sklearn import preprocessing as pre\n",
    "from sklearn import pipeline as pip\n",
    "from sklearn import impute as imp\n",
    "from sklearn import tree\n",
    "from sklearn import ensemble as ens\n",
    "from sklearn import compose as com\n"
   ]
  },
  {
   "cell_type": "code",
   "execution_count": 2,
   "id": "75f8965d",
   "metadata": {},
   "outputs": [
    {
     "name": "stdout",
     "output_type": "stream",
     "text": [
      ".. _california_housing_dataset:\n",
      "\n",
      "California Housing dataset\n",
      "--------------------------\n",
      "\n",
      "**Data Set Characteristics:**\n",
      "\n",
      "    :Number of Instances: 20640\n",
      "\n",
      "    :Number of Attributes: 8 numeric, predictive attributes and the target\n",
      "\n",
      "    :Attribute Information:\n",
      "        - MedInc        median income in block group\n",
      "        - HouseAge      median house age in block group\n",
      "        - AveRooms      average number of rooms per household\n",
      "        - AveBedrms     average number of bedrooms per household\n",
      "        - Population    block group population\n",
      "        - AveOccup      average number of household members\n",
      "        - Latitude      block group latitude\n",
      "        - Longitude     block group longitude\n",
      "\n",
      "    :Missing Attribute Values: None\n",
      "\n",
      "This dataset was obtained from the StatLib repository.\n",
      "https://www.dcc.fc.up.pt/~ltorgo/Regression/cal_housing.html\n",
      "\n",
      "The target variable is the median house value for California districts,\n",
      "expressed in hundreds of thousands of dollars ($100,000).\n",
      "\n",
      "This dataset was derived from the 1990 U.S. census, using one row per census\n",
      "block group. A block group is the smallest geographical unit for which the U.S.\n",
      "Census Bureau publishes sample data (a block group typically has a population\n",
      "of 600 to 3,000 people).\n",
      "\n",
      "An household is a group of people residing within a home. Since the average\n",
      "number of rooms and bedrooms in this dataset are provided per household, these\n",
      "columns may take surpinsingly large values for block groups with few households\n",
      "and many empty houses, such as vacation resorts.\n",
      "\n",
      "It can be downloaded/loaded using the\n",
      ":func:`sklearn.datasets.fetch_california_housing` function.\n",
      "\n",
      ".. topic:: References\n",
      "\n",
      "    - Pace, R. Kelley and Ronald Barry, Sparse Spatial Autoregressions,\n",
      "      Statistics and Probability Letters, 33 (1997) 291-297\n",
      "\n"
     ]
    }
   ],
   "source": [
    "housing = dat.fetch_california_housing()\n",
    "\n",
    "X = housing.data\n",
    "y = housing.target\n",
    "\n",
    "print(housing.DESCR)"
   ]
  },
  {
   "cell_type": "code",
   "execution_count": 3,
   "id": "6aae2056",
   "metadata": {},
   "outputs": [
    {
     "data": {
      "text/plain": [
       "<seaborn.axisgrid.FacetGrid at 0x265f7bdac70>"
      ]
     },
     "execution_count": 3,
     "metadata": {},
     "output_type": "execute_result"
    },
    {
     "data": {
      "image/png": "[encoded data removed]",
      "text/plain": [
       "<Figure size 360x360 with 1 Axes>"
      ]
     },
     "metadata": {
      "needs_background": "light"
     },
     "output_type": "display_data"
    }
   ],
   "source": [
    "sns.displot(y)"
   ]
  },
  {
   "cell_type": "code",
   "execution_count": 4,
   "id": "a0c4a62c",
   "metadata": {},
   "outputs": [],
   "source": [
    "# shuffle dataset\n",
    "np.random.seed(42)\n",
    "rnd_index = np.random.permutation(len(X))\n",
    "X = X[rnd_index]    \n",
    "y = y[rnd_index] "
   ]
  },
  {
   "cell_type": "code",
   "execution_count": 5,
   "id": "e00fbdc7",
   "metadata": {},
   "outputs": [],
   "source": [
    "ratio1 = 10\n",
    "\n",
    "X = X[:int(len(X)/ratio1)]\n",
    "y = y[:int(len(y)/ratio1)]"
   ]
  },
  {
   "cell_type": "code",
   "execution_count": 6,
   "id": "787e1401",
   "metadata": {},
   "outputs": [
    {
     "data": {
      "text/plain": [
       "0    0\n",
       "1    0\n",
       "2    0\n",
       "3    0\n",
       "4    0\n",
       "5    0\n",
       "6    0\n",
       "7    0\n",
       "dtype: int64"
      ]
     },
     "execution_count": 6,
     "metadata": {},
     "output_type": "execute_result"
    }
   ],
   "source": [
    "pd.DataFrame(X).isnull().sum() # how many null values does a feature has."
   ]
  },
  {
   "cell_type": "code",
   "execution_count": 7,
   "id": "9a511124",
   "metadata": {},
   "outputs": [
    {
     "name": "stdout",
     "output_type": "stream",
     "text": [
      "<class 'pandas.core.frame.DataFrame'>\n",
      "RangeIndex: 2064 entries, 0 to 2063\n",
      "Data columns (total 8 columns):\n",
      " #   Column  Non-Null Count  Dtype  \n",
      "---  ------  --------------  -----  \n",
      " 0   0       2064 non-null   float64\n",
      " 1   1       2064 non-null   float64\n",
      " 2   2       2064 non-null   float64\n",
      " 3   3       2064 non-null   float64\n",
      " 4   4       2064 non-null   float64\n",
      " 5   5       2064 non-null   float64\n",
      " 6   6       2064 non-null   float64\n",
      " 7   7       2064 non-null   float64\n",
      "dtypes: float64(8)\n",
      "memory usage: 129.1 KB\n"
     ]
    }
   ],
   "source": [
    "pd.DataFrame(X).info()"
   ]
  },
  {
   "cell_type": "code",
   "execution_count": 8,
   "id": "d3d9eaae",
   "metadata": {},
   "outputs": [],
   "source": [
    "X_org = X.copy()\n",
    "ratio2 = 5\n",
    "num = (X.shape[0]*X.shape[1])//ratio2  #how many null values will I put into the features.\n",
    "for i in range(num):\n",
    "     rand_row = np.random.randint(0,X.shape[0])\n",
    "     rand_col = np.random.randint(0,X.shape[1])\n",
    "     while X[rand_row][rand_col] == np.nan :\n",
    "         rand_row = np.random.randint(0,X.shape[0])\n",
    "         rand_col = np.random.randint(0,X.shape[1])\n",
    "     X[rand_row][rand_col] = np.nan"
   ]
  },
  {
   "cell_type": "code",
   "execution_count": 9,
   "id": "ca904511",
   "metadata": {},
   "outputs": [
    {
     "data": {
      "text/plain": [
       "0    357\n",
       "1    389\n",
       "2    385\n",
       "3    396\n",
       "4    358\n",
       "5    367\n",
       "6    367\n",
       "7    385\n",
       "dtype: int64"
      ]
     },
     "execution_count": 9,
     "metadata": {},
     "output_type": "execute_result"
    }
   ],
   "source": [
    "pd.DataFrame(X).isnull().sum()"
   ]
  },
  {
   "cell_type": "code",
   "execution_count": 14,
   "id": "5db3ee6f",
   "metadata": {},
   "outputs": [
    {
     "name": "stdout",
     "output_type": "stream",
     "text": [
      "0.9259203297982376\n"
     ]
    }
   ],
   "source": [
    "x_values = []\n",
    "y_values = []\n",
    "\n",
    "pipe_sgd = pip.Pipeline([\n",
    "     (\"scaler\",pre.StandardScaler()),\n",
    "     (\"sgd\",lin.SGDRegressor())\n",
    "     ])\n",
    "\n",
    "score = mod.cross_val_score(pipe_sgd,X_org,y,cv =3, scoring = \"neg_root_mean_squared_error\").mean() *-1\n",
    "print(score)"
   ]
  },
  {
   "cell_type": "code",
   "execution_count": 15,
   "id": "2618d799",
   "metadata": {},
   "outputs": [
    {
     "data": {
      "image/png": "[encoded data removed]",
      "text/plain": [
       "<Figure size 432x288 with 1 Axes>"
      ]
     },
     "metadata": {
      "needs_background": "light"
     },
     "output_type": "display_data"
    }
   ],
   "source": [
    "x_values.append(\"org_data\")\n",
    "y_values.append(score)\n",
    "\n",
    "plt.bar(x_values,y_values)\n",
    "plt.show()"
   ]
  },
  {
   "cell_type": "code",
   "execution_count": 16,
   "id": "cbbdb440",
   "metadata": {},
   "outputs": [],
   "source": [
    "for s in [\"mean\",\"median\"]:\n",
    "     pipe_sgd = pip.Pipeline([\n",
    "         (\"scaler\",pre.StandardScaler()),\n",
    "         (\"imp\",imp.SimpleImputer(strategy = s)),#put it after the scaling operation. does not matter for simple imputer but it differs for others. \n",
    "         # strategy = \"constant\",fill_value = 0\n",
    "         (\"sgd\",lin.SGDRegressor()) \n",
    "         ])\n",
    "    \n",
    "     score = mod.cross_val_score(pipe_sgd,X,y,cv =3, scoring = \"neg_root_mean_squared_error\").mean() *-1\n",
    "     x_values.append(\"SimpleImp_\"+ s)\n",
    "     y_values.append(score)"
   ]
  },
  {
   "cell_type": "code",
   "execution_count": 17,
   "id": "f0c2f850",
   "metadata": {},
   "outputs": [
    {
     "data": {
      "image/png": "[encoded data removed]",
      "text/plain": [
       "<Figure size 432x288 with 1 Axes>"
      ]
     },
     "metadata": {
      "needs_background": "light"
     },
     "output_type": "display_data"
    }
   ],
   "source": [
    "plt.bar(x_values,y_values)\n",
    "plt.xticks(rotation = 90) # x eksenindeki yazıları rotate edip karışmamasını sağlamak için.\n",
    "plt.show() #missing valueları doldurmazsan crossval den uyarı alırsın çalışmaz."
   ]
  },
  {
   "cell_type": "code",
   "execution_count": 20,
   "id": "1d0a1226",
   "metadata": {},
   "outputs": [
    {
     "data": {
      "image/png": "[encoded data removed]",
      "text/plain": [
       "<Figure size 432x288 with 1 Axes>"
      ]
     },
     "metadata": {
      "needs_background": "light"
     },
     "output_type": "display_data"
    }
   ],
   "source": [
    "x_values = []\n",
    "y_values = []\n",
    "\n",
    "for k in [5,20]:\n",
    "     for w in [\"uniform\",\"distance\"]:\n",
    "         pipe_sgd = pip.Pipeline([\n",
    "             (\"scaler\",pre.StandardScaler()),\n",
    "             (\"imp\",imp.KNNImputer(n_neighbors = k,weights = w)),\n",
    "             (\"sgd\",lin.SGDRegressor()) \n",
    "             ])\n",
    "        \n",
    "         score = mod.cross_val_score(pipe_sgd,X,y,cv =3, scoring = \"neg_root_mean_squared_error\").mean() *-1\n",
    "         x_values.append(\"KNN_k=\"+ str(k) + \"_w=\" + w)\n",
    "         y_values.append(score)\n",
    "\n",
    "plt.bar(x_values,y_values)\n",
    "plt.xticks(rotation = 90) # rotate x axis 90 degree.\n",
    "plt.grid(True)\n",
    "plt.ylim(0.9,1.1)\n",
    "plt.show()"
   ]
  },
  {
   "cell_type": "code",
   "execution_count": null,
   "id": "447442ae",
   "metadata": {},
   "outputs": [],
   "source": [
    "# ITERATIVE IMPUTER\n",
    " # Using a model to predict the missing values. \n",
    " # After you predicted every points you start predicting them again because at first you used mean etc to fill the non-targeted missing values. it has a max iteration parameter.\n",
    " # You can use any model. Models like SGDRegressor will require Scaling. Also, it does not work with Categoric features.\n",
    " # imputation_order : ascending : it starts filling with the less missing columns.\n",
    "    "
   ]
  },
  {
   "cell_type": "code",
   "execution_count": 24,
   "id": "a1ee76eb",
   "metadata": {},
   "outputs": [],
   "source": [
    "x_values = []\n",
    "y_values = []\n",
    "\n",
    "for est in [lin.LinearRegression(),lin.SGDRegressor(random_state = 42),lin.BayesianRidge(),tree.DecisionTreeRegressor(random_state = 42)]:\n",
    "     for order in [\"ascending\",\"descending\"]:\n",
    "         pipe_sgd = pip.Pipeline([\n",
    "             (\"scaler\",pre.StandardScaler()),\n",
    "             (\"imp\",imp.IterativeImputer(estimator = est ,imputation_order = order,max_iter = 5)),\n",
    "             (\"sgd\",lin.SGDRegressor()) \n",
    "             ])\n",
    "        \n",
    "         score = mod.cross_val_score(pipe_sgd,X,y,cv =3, scoring = \"neg_root_mean_squared_error\").mean() *-1\n",
    "         x_values.append(\"Iterative_est=\" + est.__class__.__name__ + \"_order=\" + order)\n",
    "         y_values.append(score) \n",
    "\n",
    "# you are using models to predict the missing values then you start training your data to predict y_test. Dont confuse, these two may not necessarily be the same.\n",
    "\n"
   ]
  },
  {
   "cell_type": "code",
   "execution_count": 28,
   "id": "0bf4d006",
   "metadata": {},
   "outputs": [
    {
     "data": {
      "text/plain": [
       "(['Iterative_est=LinearRegression_order=ascending',\n",
       "  'Iterative_est=LinearRegression_order=descending',\n",
       "  'Iterative_est=SGDRegressor_order=ascending',\n",
       "  'Iterative_est=SGDRegressor_order=descending',\n",
       "  'Iterative_est=BayesianRidge_order=ascending',\n",
       "  'Iterative_est=BayesianRidge_order=descending',\n",
       "  'Iterative_est=DecisionTreeRegressor_order=ascending',\n",
       "  'Iterative_est=DecisionTreeRegressor_order=descending'],\n",
       " [0.9579860089215043,\n",
       "  0.9657626342846845,\n",
       "  0.9566348090249873,\n",
       "  0.9594551959284502,\n",
       "  0.9702630674521567,\n",
       "  0.9579513433674195,\n",
       "  0.9562797698671622,\n",
       "  0.9283835437714135])"
      ]
     },
     "execution_count": 28,
     "metadata": {},
     "output_type": "execute_result"
    }
   ],
   "source": [
    "x_values,y_values"
   ]
  },
  {
   "cell_type": "code",
   "execution_count": 33,
   "id": "fd90cea5",
   "metadata": {},
   "outputs": [
    {
     "data": {
      "text/plain": [
       "'Iterative_est=DecisionTreeRegressor_order=descending'"
      ]
     },
     "execution_count": 33,
     "metadata": {},
     "output_type": "execute_result"
    }
   ],
   "source": [
    "best_score = min(y_values)\n",
    "best_index = y_values.index(best_score)\n",
    "x_values[best_index]"
   ]
  },
  {
   "cell_type": "code",
   "execution_count": 60,
   "id": "6438b1b8",
   "metadata": {},
   "outputs": [],
   "source": [
    "d = {\n",
    "       \"name\" : [\"Ahmet\",\"Ali\",\"Ayse\",\"Fatma\"],\n",
    "       \"city\" : [\"Istanbul\",\"Izmir\",\"np.nan\",\"Istanbul\"],\n",
    "       \"age\"  : [20,30,np.nan,25],\n",
    "       \"salary\": [np.nan,5000,7500,10000]\n",
    "       }\n",
    "\n",
    "data = pd.DataFrame(d)"
   ]
  },
  {
   "cell_type": "code",
   "execution_count": 48,
   "id": "5b4ad669",
   "metadata": {},
   "outputs": [
    {
     "data": {
      "text/html": [
       "<div>\n",
       "<style scoped>\n",
       "    .dataframe tbody tr th:only-of-type {\n",
       "        vertical-align: middle;\n",
       "    }\n",
       "\n",
       "    .dataframe tbody tr th {\n",
       "        vertical-align: top;\n",
       "    }\n",
       "\n",
       "    .dataframe thead th {\n",
       "        text-align: right;\n",
       "    }\n",
       "</style>\n",
       "<table border=\"1\" class=\"dataframe\">\n",
       "  <thead>\n",
       "    <tr style=\"text-align: right;\">\n",
       "      <th></th>\n",
       "      <th>name</th>\n",
       "      <th>city</th>\n",
       "      <th>age</th>\n",
       "      <th>salary</th>\n",
       "    </tr>\n",
       "  </thead>\n",
       "  <tbody>\n",
       "    <tr>\n",
       "      <th>0</th>\n",
       "      <td>Ahmet</td>\n",
       "      <td>Istanbul</td>\n",
       "      <td>20.0</td>\n",
       "      <td>NaN</td>\n",
       "    </tr>\n",
       "    <tr>\n",
       "      <th>1</th>\n",
       "      <td>Ali</td>\n",
       "      <td>Izmir</td>\n",
       "      <td>30.0</td>\n",
       "      <td>5000.0</td>\n",
       "    </tr>\n",
       "    <tr>\n",
       "      <th>2</th>\n",
       "      <td>Ayse</td>\n",
       "      <td>np.nan</td>\n",
       "      <td>NaN</td>\n",
       "      <td>7500.0</td>\n",
       "    </tr>\n",
       "    <tr>\n",
       "      <th>3</th>\n",
       "      <td>Fatma</td>\n",
       "      <td>Istanbul</td>\n",
       "      <td>25.0</td>\n",
       "      <td>10000.0</td>\n",
       "    </tr>\n",
       "  </tbody>\n",
       "</table>\n",
       "</div>"
      ],
      "text/plain": [
       "    name      city   age   salary\n",
       "0  Ahmet  Istanbul  20.0      NaN\n",
       "1    Ali     Izmir  30.0   5000.0\n",
       "2   Ayse    np.nan   NaN   7500.0\n",
       "3  Fatma  Istanbul  25.0  10000.0"
      ]
     },
     "execution_count": 48,
     "metadata": {},
     "output_type": "execute_result"
    }
   ],
   "source": [
    "data"
   ]
  },
  {
   "cell_type": "code",
   "execution_count": 51,
   "id": "0f20b440",
   "metadata": {},
   "outputs": [
    {
     "data": {
      "text/plain": [
       "array([[-1.22474487,  0.        ],\n",
       "       [ 1.22474487, -1.22474487],\n",
       "       [ 0.        ,  0.        ],\n",
       "       [ 0.        ,  1.22474487]])"
      ]
     },
     "execution_count": 51,
     "metadata": {},
     "output_type": "execute_result"
    }
   ],
   "source": [
    "pipe_num = pip.Pipeline([\n",
    "     (\"scaler\",pre.StandardScaler()),\n",
    "     (\"imp\",imp.SimpleImputer(strategy = \"mean\"))\n",
    "         ])\n",
    "\n",
    "pipe_num.fit_transform(data.select_dtypes(exclude = object)) "
   ]
  },
  {
   "cell_type": "code",
   "execution_count": 52,
   "id": "5cab3aeb",
   "metadata": {},
   "outputs": [
    {
     "data": {
      "text/plain": [
       "<4x7 sparse matrix of type '<class 'numpy.float64'>'\n",
       "\twith 8 stored elements in Compressed Sparse Row format>"
      ]
     },
     "execution_count": 52,
     "metadata": {},
     "output_type": "execute_result"
    }
   ],
   "source": [
    "pipe_cat= pip.Pipeline([\n",
    "     (\"imp\",imp.SimpleImputer(strategy = \"most_frequent\")),\n",
    "     (\"one_hot\", pre.OneHotEncoder(handle_unknown = \"error\")) \n",
    "     ])\n",
    "\n",
    "pipe_cat.fit_transform(data.select_dtypes(include = \"object\")) \n"
   ]
  },
  {
   "cell_type": "code",
   "execution_count": 63,
   "id": "26a6eba0",
   "metadata": {},
   "outputs": [
    {
     "data": {
      "text/plain": [
       "array([[-1.22474487,  0.        ,  1.        ,  0.        ,  0.        ,\n",
       "         0.        ,  1.        ,  0.        ,  0.        ],\n",
       "       [ 1.22474487, -1.22474487,  0.        ,  1.        ,  0.        ,\n",
       "         0.        ,  0.        ,  1.        ,  0.        ],\n",
       "       [ 0.        ,  0.        ,  0.        ,  0.        ,  1.        ,\n",
       "         0.        ,  0.        ,  0.        ,  1.        ],\n",
       "       [ 0.        ,  1.22474487,  0.        ,  0.        ,  0.        ,\n",
       "         1.        ,  1.        ,  0.        ,  0.        ]])"
      ]
     },
     "execution_count": 63,
     "metadata": {},
     "output_type": "execute_result"
    }
   ],
   "source": [
    "# COLUMN TRANSFORM:\n",
    "# You try to use different imputing methods to different columns. Then you can use column Transformer.\n",
    "\n",
    "ct = com.ColumnTransformer([\n",
    "     (\"num\", pipe_num, [\"age\",\"salary\"]),\n",
    "     (\"cat\",pipe_cat,[\"name\",\"city\"])\n",
    "     ],remainder = \"passthrough\") \n",
    "# by default drops remainder columns. You have to define remainder parameter according to your needs. \n",
    "\n",
    "ct.fit_transform(data) # the order will be age,salary,name and city.\n"
   ]
  }
 ],
 "metadata": {
  "kernelspec": {
   "display_name": "Python 3 (ipykernel)",
   "language": "python",
   "name": "python3"
  },
  "language_info": {
   "codemirror_mode": {
    "name": "ipython",
    "version": 3
   },
   "file_extension": ".py",
   "mimetype": "text/x-python",
   "name": "python",
   "nbconvert_exporter": "python",
   "pygments_lexer": "ipython3",
   "version": "3.9.12"
  }
 },
 "nbformat": 4,
 "nbformat_minor": 5
}
