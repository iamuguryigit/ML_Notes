{
 "cells": [
  {
   "cell_type": "code",
   "execution_count": 8,
   "id": "2655bc5d",
   "metadata": {},
   "outputs": [],
   "source": [
    "# Model based on a geometric intuition not a probabilistic one.\n",
    "# You are trying to find the hyperplane maximizing the margin which is the distance between the points of classes closest to the line.\n",
    "# min w*w/2 subject to yi*(w*xi+b) >= 1\n",
    "# Points known as supper vectors are the points on the line, it can be more than one and these vectors support the decision boundary.\n",
    "# Model is not affected from points far away from the decision boundary. Therefore model is known as one of the robust classifiers.\n",
    "# The part solving the linear separable problem known as hard margin and if data is not linearly separable then SVM will not be able to return a result.\n",
    "# Therefore we are chaning the optimization problem by adding slack variables.\n",
    "# min w*w + C*sum(slacks) s.t yj(w*xj+b) >= 1-slackj and slackj >= 0\n",
    "# To solve the problem you are creating a slack variable for every point in your data. If slack variable equals to 0, everything is same as before but if it is different than 0 then you are starting to shift the decision bounday.\n",
    "# In summary you are bending the decision bounday and punishing the optimization by multiplying with C.\n",
    "# If you keep C low, it means. you are tolerating it but if you make C infinite then it is becoming the hard svm case. w's will be so big and decision boundary will try to pass through a very narrow place.\n",
    "\n",
    "# If the decision boundary is not linear then we are using feature transformations.\n",
    "# Feature transformation : mapping function phi(x1,x2) = x1**2 + x2**2. We can transform the original feature space x E Rn into a new feature space phi(x).\n",
    "# For ex, take x to (x,x**2)\n",
    "# You are transforming features to high dimensional space so feature space will be bigger so fast and you need to write them explicity therefore kernel trick is needed.\n",
    "\n",
    "# By using kernel trick, we are trying to find a solution which is linear in high dimension but not a linear in lower dimension.\n",
    "# You are writing K(xi,yi) instead of xi*xj in the optimization dual problem. Instead of writing explicitly, kernel allows you to do it implicity. We have some special kernels.\n",
    "# In summary, you are taking features in the original space and taking them into the higher dimension and getting dot product to find similarities.\n",
    "\n",
    "# Linear kernel: k(xt,xp) = xt*xp . It shows how these features are similar.\n",
    "# Polynomial kernel : (1+xt*x)**d for any d>0. Contains all polynomial terms up to degree d.\n",
    "\n",
    "# Gaussian kernels: Also called the radial basis function kernel. e**(-norm(x-xp)**2/2*sigma**2) for sigma >0. You are taking your date to infinite dimension.\n",
    "\n",
    "# C: Regularization parameter\n",
    "# Choosing a better kernel\n",
    "# Varying parameters of the kernel (width of Gaussian,sigma)\n",
    "\n",
    "# If you have multiple class labels you should choos one vs all. It transforms to a binary problem.\n",
    "# The other choice is all vs all. For ex, red vs green, red vs blue, green vs blue.\n",
    "\n",
    "# If you have an imbalanced dataset, then most probably SVM will find a decision boundary to away from the points and predict the majority class. You need to adjust C parameter and you can adjust it according to the classes. If - labels are minority than penalize it more.\n",
    "# If you have large number of features and small training set then use no kernel or linear kernel.\n",
    "# If you have small number of features and large dataset then use Gaussian kernel.\n",
    "\n",
    "# The one of the most critical part of training SVM is scaling.\n",
    "\n"
   ]
  },
  {
   "cell_type": "code",
   "execution_count": 9,
   "id": "00c1562b",
   "metadata": {
    "collapsed": true
   },
   "outputs": [
    {
     "name": "stdout",
     "output_type": "stream",
     "text": [
      "Requirement already satisfied: opendatasets in ./opt/anaconda3/lib/python3.9/site-packages (0.1.22)\n",
      "Requirement already satisfied: click in ./opt/anaconda3/lib/python3.9/site-packages (from opendatasets) (8.0.3)\n",
      "Requirement already satisfied: kaggle in ./opt/anaconda3/lib/python3.9/site-packages (from opendatasets) (1.5.12)\n",
      "Requirement already satisfied: tqdm in ./opt/anaconda3/lib/python3.9/site-packages (from opendatasets) (4.62.3)\n",
      "Requirement already satisfied: six>=1.10 in ./opt/anaconda3/lib/python3.9/site-packages (from kaggle->opendatasets) (1.16.0)\n",
      "Requirement already satisfied: requests in ./opt/anaconda3/lib/python3.9/site-packages (from kaggle->opendatasets) (2.26.0)\n",
      "Requirement already satisfied: python-slugify in ./opt/anaconda3/lib/python3.9/site-packages (from kaggle->opendatasets) (5.0.2)\n",
      "Requirement already satisfied: python-dateutil in ./opt/anaconda3/lib/python3.9/site-packages (from kaggle->opendatasets) (2.8.2)\n",
      "Requirement already satisfied: certifi in ./opt/anaconda3/lib/python3.9/site-packages (from kaggle->opendatasets) (2021.10.8)\n",
      "Requirement already satisfied: urllib3 in ./opt/anaconda3/lib/python3.9/site-packages (from kaggle->opendatasets) (1.26.7)\n",
      "Requirement already satisfied: text-unidecode>=1.3 in ./opt/anaconda3/lib/python3.9/site-packages (from python-slugify->kaggle->opendatasets) (1.3)\n",
      "Requirement already satisfied: charset-normalizer~=2.0.0 in ./opt/anaconda3/lib/python3.9/site-packages (from requests->kaggle->opendatasets) (2.0.4)\n",
      "Requirement already satisfied: idna<4,>=2.5 in ./opt/anaconda3/lib/python3.9/site-packages (from requests->kaggle->opendatasets) (3.2)\n",
      "\u001b[33mWARNING: There was an error checking the latest version of pip.\u001b[0m\u001b[33m\n",
      "\u001b[0mPlease provide your Kaggle credentials to download this dataset. Learn more: http://bit.ly/kaggle-creds\n",
      "Your Kaggle username: uguryigit34\n",
      "Your Kaggle Key: ········\n",
      "Downloading wine-quality.zip to ./wine-quality\n"
     ]
    },
    {
     "name": "stderr",
     "output_type": "stream",
     "text": [
      "100%|███████████████████████████████████████| 98.0k/98.0k [00:00<00:00, 279kB/s]"
     ]
    },
    {
     "name": "stdout",
     "output_type": "stream",
     "text": [
      "\n"
     ]
    },
    {
     "name": "stderr",
     "output_type": "stream",
     "text": [
      "\n"
     ]
    }
   ],
   "source": [
    "!pip install opendatasets\n",
    "import opendatasets as od\n",
    "od.download(\"https://www.kaggle.com/datasets/rajyellow46/wine-quality\") # download data from kaggle datasets"
   ]
  },
  {
   "cell_type": "code",
   "execution_count": 54,
   "id": "d862f9f6",
   "metadata": {},
   "outputs": [],
   "source": [
    "import pandas as pd\n",
    "import seaborn as sns\n",
    "from sklearn import model_selection as mod\n",
    "from sklearn.svm import LinearSVC,SVC\n",
    "from sklearn import metrics as met\n",
    "from sklearn import preprocessing as pre"
   ]
  },
  {
   "cell_type": "code",
   "execution_count": 12,
   "id": "ea574fde",
   "metadata": {},
   "outputs": [],
   "source": [
    "data = pd.read_csv(\"/Users/uguryigit/wine-quality/winequalityN.csv\")"
   ]
  },
  {
   "cell_type": "code",
   "execution_count": 14,
   "id": "5cff93c9",
   "metadata": {},
   "outputs": [
    {
     "data": {
      "text/html": [
       "<div>\n",
       "<style scoped>\n",
       "    .dataframe tbody tr th:only-of-type {\n",
       "        vertical-align: middle;\n",
       "    }\n",
       "\n",
       "    .dataframe tbody tr th {\n",
       "        vertical-align: top;\n",
       "    }\n",
       "\n",
       "    .dataframe thead th {\n",
       "        text-align: right;\n",
       "    }\n",
       "</style>\n",
       "<table border=\"1\" class=\"dataframe\">\n",
       "  <thead>\n",
       "    <tr style=\"text-align: right;\">\n",
       "      <th></th>\n",
       "      <th>fixed acidity</th>\n",
       "      <th>volatile acidity</th>\n",
       "      <th>citric acid</th>\n",
       "      <th>residual sugar</th>\n",
       "      <th>chlorides</th>\n",
       "      <th>free sulfur dioxide</th>\n",
       "      <th>total sulfur dioxide</th>\n",
       "      <th>density</th>\n",
       "      <th>pH</th>\n",
       "      <th>sulphates</th>\n",
       "      <th>alcohol</th>\n",
       "      <th>quality</th>\n",
       "    </tr>\n",
       "  </thead>\n",
       "  <tbody>\n",
       "    <tr>\n",
       "      <th>count</th>\n",
       "      <td>6487.000000</td>\n",
       "      <td>6489.000000</td>\n",
       "      <td>6494.000000</td>\n",
       "      <td>6495.000000</td>\n",
       "      <td>6495.000000</td>\n",
       "      <td>6497.000000</td>\n",
       "      <td>6497.000000</td>\n",
       "      <td>6497.000000</td>\n",
       "      <td>6488.000000</td>\n",
       "      <td>6493.000000</td>\n",
       "      <td>6497.000000</td>\n",
       "      <td>6497.000000</td>\n",
       "    </tr>\n",
       "    <tr>\n",
       "      <th>mean</th>\n",
       "      <td>7.216579</td>\n",
       "      <td>0.339691</td>\n",
       "      <td>0.318722</td>\n",
       "      <td>5.444326</td>\n",
       "      <td>0.056042</td>\n",
       "      <td>30.525319</td>\n",
       "      <td>115.744574</td>\n",
       "      <td>0.994697</td>\n",
       "      <td>3.218395</td>\n",
       "      <td>0.531215</td>\n",
       "      <td>10.491801</td>\n",
       "      <td>5.818378</td>\n",
       "    </tr>\n",
       "    <tr>\n",
       "      <th>std</th>\n",
       "      <td>1.296750</td>\n",
       "      <td>0.164649</td>\n",
       "      <td>0.145265</td>\n",
       "      <td>4.758125</td>\n",
       "      <td>0.035036</td>\n",
       "      <td>17.749400</td>\n",
       "      <td>56.521855</td>\n",
       "      <td>0.002999</td>\n",
       "      <td>0.160748</td>\n",
       "      <td>0.148814</td>\n",
       "      <td>1.192712</td>\n",
       "      <td>0.873255</td>\n",
       "    </tr>\n",
       "    <tr>\n",
       "      <th>min</th>\n",
       "      <td>3.800000</td>\n",
       "      <td>0.080000</td>\n",
       "      <td>0.000000</td>\n",
       "      <td>0.600000</td>\n",
       "      <td>0.009000</td>\n",
       "      <td>1.000000</td>\n",
       "      <td>6.000000</td>\n",
       "      <td>0.987110</td>\n",
       "      <td>2.720000</td>\n",
       "      <td>0.220000</td>\n",
       "      <td>8.000000</td>\n",
       "      <td>3.000000</td>\n",
       "    </tr>\n",
       "    <tr>\n",
       "      <th>25%</th>\n",
       "      <td>6.400000</td>\n",
       "      <td>0.230000</td>\n",
       "      <td>0.250000</td>\n",
       "      <td>1.800000</td>\n",
       "      <td>0.038000</td>\n",
       "      <td>17.000000</td>\n",
       "      <td>77.000000</td>\n",
       "      <td>0.992340</td>\n",
       "      <td>3.110000</td>\n",
       "      <td>0.430000</td>\n",
       "      <td>9.500000</td>\n",
       "      <td>5.000000</td>\n",
       "    </tr>\n",
       "    <tr>\n",
       "      <th>50%</th>\n",
       "      <td>7.000000</td>\n",
       "      <td>0.290000</td>\n",
       "      <td>0.310000</td>\n",
       "      <td>3.000000</td>\n",
       "      <td>0.047000</td>\n",
       "      <td>29.000000</td>\n",
       "      <td>118.000000</td>\n",
       "      <td>0.994890</td>\n",
       "      <td>3.210000</td>\n",
       "      <td>0.510000</td>\n",
       "      <td>10.300000</td>\n",
       "      <td>6.000000</td>\n",
       "    </tr>\n",
       "    <tr>\n",
       "      <th>75%</th>\n",
       "      <td>7.700000</td>\n",
       "      <td>0.400000</td>\n",
       "      <td>0.390000</td>\n",
       "      <td>8.100000</td>\n",
       "      <td>0.065000</td>\n",
       "      <td>41.000000</td>\n",
       "      <td>156.000000</td>\n",
       "      <td>0.996990</td>\n",
       "      <td>3.320000</td>\n",
       "      <td>0.600000</td>\n",
       "      <td>11.300000</td>\n",
       "      <td>6.000000</td>\n",
       "    </tr>\n",
       "    <tr>\n",
       "      <th>max</th>\n",
       "      <td>15.900000</td>\n",
       "      <td>1.580000</td>\n",
       "      <td>1.660000</td>\n",
       "      <td>65.800000</td>\n",
       "      <td>0.611000</td>\n",
       "      <td>289.000000</td>\n",
       "      <td>440.000000</td>\n",
       "      <td>1.038980</td>\n",
       "      <td>4.010000</td>\n",
       "      <td>2.000000</td>\n",
       "      <td>14.900000</td>\n",
       "      <td>9.000000</td>\n",
       "    </tr>\n",
       "  </tbody>\n",
       "</table>\n",
       "</div>"
      ],
      "text/plain": [
       "       fixed acidity  volatile acidity  citric acid  residual sugar  \\\n",
       "count    6487.000000       6489.000000  6494.000000     6495.000000   \n",
       "mean        7.216579          0.339691     0.318722        5.444326   \n",
       "std         1.296750          0.164649     0.145265        4.758125   \n",
       "min         3.800000          0.080000     0.000000        0.600000   \n",
       "25%         6.400000          0.230000     0.250000        1.800000   \n",
       "50%         7.000000          0.290000     0.310000        3.000000   \n",
       "75%         7.700000          0.400000     0.390000        8.100000   \n",
       "max        15.900000          1.580000     1.660000       65.800000   \n",
       "\n",
       "         chlorides  free sulfur dioxide  total sulfur dioxide      density  \\\n",
       "count  6495.000000          6497.000000           6497.000000  6497.000000   \n",
       "mean      0.056042            30.525319            115.744574     0.994697   \n",
       "std       0.035036            17.749400             56.521855     0.002999   \n",
       "min       0.009000             1.000000              6.000000     0.987110   \n",
       "25%       0.038000            17.000000             77.000000     0.992340   \n",
       "50%       0.047000            29.000000            118.000000     0.994890   \n",
       "75%       0.065000            41.000000            156.000000     0.996990   \n",
       "max       0.611000           289.000000            440.000000     1.038980   \n",
       "\n",
       "                pH    sulphates      alcohol      quality  \n",
       "count  6488.000000  6493.000000  6497.000000  6497.000000  \n",
       "mean      3.218395     0.531215    10.491801     5.818378  \n",
       "std       0.160748     0.148814     1.192712     0.873255  \n",
       "min       2.720000     0.220000     8.000000     3.000000  \n",
       "25%       3.110000     0.430000     9.500000     5.000000  \n",
       "50%       3.210000     0.510000    10.300000     6.000000  \n",
       "75%       3.320000     0.600000    11.300000     6.000000  \n",
       "max       4.010000     2.000000    14.900000     9.000000  "
      ]
     },
     "execution_count": 14,
     "metadata": {},
     "output_type": "execute_result"
    }
   ],
   "source": [
    "data.describe()"
   ]
  },
  {
   "cell_type": "code",
   "execution_count": 28,
   "id": "81af0704",
   "metadata": {},
   "outputs": [],
   "source": [
    "data.dropna(inplace = True) #drop na rows"
   ]
  },
  {
   "cell_type": "code",
   "execution_count": 30,
   "id": "b29f276a",
   "metadata": {},
   "outputs": [
    {
     "data": {
      "text/plain": [
       "type                    0\n",
       "fixed acidity           0\n",
       "volatile acidity        0\n",
       "citric acid             0\n",
       "residual sugar          0\n",
       "chlorides               0\n",
       "free sulfur dioxide     0\n",
       "total sulfur dioxide    0\n",
       "density                 0\n",
       "pH                      0\n",
       "sulphates               0\n",
       "alcohol                 0\n",
       "quality                 0\n",
       "dtype: int64"
      ]
     },
     "execution_count": 30,
     "metadata": {},
     "output_type": "execute_result"
    }
   ],
   "source": [
    "data.isnull().sum()"
   ]
  },
  {
   "cell_type": "code",
   "execution_count": 31,
   "id": "8bf13bc7",
   "metadata": {},
   "outputs": [
    {
     "data": {
      "text/plain": [
       "white    4870\n",
       "red      1593\n",
       "Name: type, dtype: int64"
      ]
     },
     "execution_count": 31,
     "metadata": {},
     "output_type": "execute_result"
    }
   ],
   "source": [
    "data.type.value_counts() #target counts"
   ]
  },
  {
   "cell_type": "code",
   "execution_count": 44,
   "id": "b6ee96ed",
   "metadata": {},
   "outputs": [],
   "source": [
    "y = data.type\n",
    "X = data.drop(\"type\",axis = 1)"
   ]
  },
  {
   "cell_type": "code",
   "execution_count": 45,
   "id": "cf6d63b8",
   "metadata": {},
   "outputs": [],
   "source": [
    "X_train,X_test,y_train,y_test = mod.train_test_split(X,y,test_size = 0.2, stratify = y, random_state = 20)"
   ]
  },
  {
   "cell_type": "code",
   "execution_count": 46,
   "id": "32bb0585",
   "metadata": {},
   "outputs": [],
   "source": [
    "scaler = pre.MinMaxScaler() # scale the data before training. range 0-1"
   ]
  },
  {
   "cell_type": "code",
   "execution_count": 47,
   "id": "8c2e14d2",
   "metadata": {},
   "outputs": [
    {
     "data": {
      "text/plain": [
       "MinMaxScaler()"
      ]
     },
     "execution_count": 47,
     "metadata": {},
     "output_type": "execute_result"
    }
   ],
   "source": [
    "scaler.fit(X_train)"
   ]
  },
  {
   "cell_type": "code",
   "execution_count": 48,
   "id": "8a523b93",
   "metadata": {},
   "outputs": [],
   "source": [
    "X_train_scaled = scaler.transform(X_train)\n",
    "X_test_scaled = scaler.transform(X_test)"
   ]
  },
  {
   "cell_type": "code",
   "execution_count": 49,
   "id": "d7fd6eb4",
   "metadata": {},
   "outputs": [],
   "source": [
    "model = LinearSVC()"
   ]
  },
  {
   "cell_type": "code",
   "execution_count": 51,
   "id": "6d24a4b1",
   "metadata": {},
   "outputs": [
    {
     "data": {
      "text/plain": [
       "LinearSVC()"
      ]
     },
     "execution_count": 51,
     "metadata": {},
     "output_type": "execute_result"
    }
   ],
   "source": [
    "model.fit(X_train_scaled,y_train)"
   ]
  },
  {
   "cell_type": "code",
   "execution_count": 52,
   "id": "42f29c41",
   "metadata": {},
   "outputs": [],
   "source": [
    "pred = model.predict(X_test_scaled)"
   ]
  },
  {
   "cell_type": "code",
   "execution_count": 53,
   "id": "a4f68603",
   "metadata": {},
   "outputs": [
    {
     "data": {
      "text/plain": [
       "0.9953596287703016"
      ]
     },
     "execution_count": 53,
     "metadata": {},
     "output_type": "execute_result"
    }
   ],
   "source": [
    "met.accuracy_score(y_test,pred)"
   ]
  },
  {
   "cell_type": "code",
   "execution_count": null,
   "id": "9868de88",
   "metadata": {},
   "outputs": [],
   "source": [
    "#### GAUSSIAN KERNEL"
   ]
  },
  {
   "cell_type": "code",
   "execution_count": 56,
   "id": "a05c59ad",
   "metadata": {},
   "outputs": [],
   "source": [
    "model_rbf = SVC(kernel = \"rbf\")"
   ]
  },
  {
   "cell_type": "code",
   "execution_count": 59,
   "id": "645d9afc",
   "metadata": {},
   "outputs": [
    {
     "data": {
      "text/plain": [
       "SVC()"
      ]
     },
     "execution_count": 59,
     "metadata": {},
     "output_type": "execute_result"
    }
   ],
   "source": [
    "model_rbf.fit(X_train_scaled,y_train)"
   ]
  },
  {
   "cell_type": "code",
   "execution_count": 60,
   "id": "a9030b83",
   "metadata": {},
   "outputs": [],
   "source": [
    "pred_rbf = model_rbf.predict(X_test_scaled)"
   ]
  },
  {
   "cell_type": "code",
   "execution_count": 61,
   "id": "d0187829",
   "metadata": {},
   "outputs": [
    {
     "data": {
      "text/plain": [
       "0.9984532095901005"
      ]
     },
     "execution_count": 61,
     "metadata": {},
     "output_type": "execute_result"
    }
   ],
   "source": [
    "met.accuracy_score(y_test,pred_rbf)"
   ]
  },
  {
   "cell_type": "code",
   "execution_count": 62,
   "id": "d7b2d773",
   "metadata": {},
   "outputs": [],
   "source": [
    "#### HYPERPARAMETER TUNING WITH GRIDSEARCH"
   ]
  },
  {
   "cell_type": "code",
   "execution_count": 63,
   "id": "3561c041",
   "metadata": {},
   "outputs": [],
   "source": [
    "kernel = [\"linear\",\"rbf\"]\n",
    "C = [0.001,0.01,1,10,100]\n",
    "gamma = [\"scale\",0.1,0.01,\"auto\"] # if gamma is so low then points closer to the curve affects, if gamma is so high then far away points will start affecting.\n"
   ]
  },
  {
   "cell_type": "code",
   "execution_count": 66,
   "id": "21994dbd",
   "metadata": {},
   "outputs": [],
   "source": [
    "param_grid = {\"kernel\":kernel,\"C\":C,\"gamma\":gamma}"
   ]
  },
  {
   "cell_type": "code",
   "execution_count": 67,
   "id": "1585f199",
   "metadata": {},
   "outputs": [],
   "source": [
    "grid = mod.GridSearchCV(SVC(),param_grid)"
   ]
  },
  {
   "cell_type": "code",
   "execution_count": 68,
   "id": "3348bcdc",
   "metadata": {},
   "outputs": [
    {
     "data": {
      "text/plain": [
       "GridSearchCV(estimator=SVC(),\n",
       "             param_grid={'C': [0.001, 0.01, 1, 10, 100],\n",
       "                         'gamma': ['scale', 0.1, 0.01, 'auto'],\n",
       "                         'kernel': ['linear', 'rbf']})"
      ]
     },
     "execution_count": 68,
     "metadata": {},
     "output_type": "execute_result"
    }
   ],
   "source": [
    "grid.fit(X_train_scaled,y_train) # Gamma and C parameters are coupled therefore you need to optimize both of them at once.\n"
   ]
  },
  {
   "cell_type": "code",
   "execution_count": 74,
   "id": "50e5deec",
   "metadata": {},
   "outputs": [
    {
     "data": {
      "text/plain": [
       "SVC(C=10)"
      ]
     },
     "execution_count": 74,
     "metadata": {},
     "output_type": "execute_result"
    }
   ],
   "source": [
    "grid.best_estimator_ # shows the best fit"
   ]
  },
  {
   "cell_type": "code",
   "execution_count": 70,
   "id": "9ebdd534",
   "metadata": {},
   "outputs": [],
   "source": [
    "pred = grid.predict(X_test_scaled)"
   ]
  },
  {
   "cell_type": "code",
   "execution_count": 71,
   "id": "5c0bc99a",
   "metadata": {},
   "outputs": [
    {
     "data": {
      "text/plain": [
       "0.9969064191802011"
      ]
     },
     "execution_count": 71,
     "metadata": {},
     "output_type": "execute_result"
    }
   ],
   "source": [
    "met.accuracy_score(y_test,pred)"
   ]
  },
  {
   "cell_type": "code",
   "execution_count": 75,
   "id": "2e4b302c",
   "metadata": {},
   "outputs": [],
   "source": [
    "# It turns the distance to the decision boundary as a probability if you use decision_function."
   ]
  },
  {
   "cell_type": "code",
   "execution_count": 76,
   "id": "69e39392",
   "metadata": {},
   "outputs": [
    {
     "data": {
      "text/plain": [
       "array([ 1.55827425, -1.59770566,  1.23117017, ...,  2.84907503,\n",
       "       -2.08063848,  2.04105297])"
      ]
     },
     "execution_count": 76,
     "metadata": {},
     "output_type": "execute_result"
    }
   ],
   "source": [
    "grid.decision_function(X_test_scaled)"
   ]
  },
  {
   "cell_type": "code",
   "execution_count": 77,
   "id": "660e6960",
   "metadata": {},
   "outputs": [
    {
     "data": {
      "text/plain": [
       "array(['white', 'red', 'white', ..., 'white', 'red', 'white'],\n",
       "      dtype=object)"
      ]
     },
     "execution_count": 77,
     "metadata": {},
     "output_type": "execute_result"
    }
   ],
   "source": [
    "pred"
   ]
  },
  {
   "cell_type": "code",
   "execution_count": null,
   "id": "eedd5c70",
   "metadata": {},
   "outputs": [],
   "source": []
  }
 ],
 "metadata": {
  "kernelspec": {
   "display_name": "Python 3 (ipykernel)",
   "language": "python",
   "name": "python3"
  },
  "language_info": {
   "codemirror_mode": {
    "name": "ipython",
    "version": 3
   },
   "file_extension": ".py",
   "mimetype": "text/x-python",
   "name": "python",
   "nbconvert_exporter": "python",
   "pygments_lexer": "ipython3",
   "version": "3.9.7"
  }
 },
 "nbformat": 4,
 "nbformat_minor": 5
}
