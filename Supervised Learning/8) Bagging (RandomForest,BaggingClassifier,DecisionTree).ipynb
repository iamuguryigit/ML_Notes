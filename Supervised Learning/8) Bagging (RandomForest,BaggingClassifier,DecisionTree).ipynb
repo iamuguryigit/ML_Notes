{
 "cells": [
  {
   "cell_type": "code",
   "execution_count": null,
   "id": "79a93125",
   "metadata": {},
   "outputs": [],
   "source": [
    "# Ensemble Learning : Combining predictions from competing models often gives better predictive accuracy than individual models.\n",
    "# Random Forest is a bagging algorithm. Bagging = Bootstrapping + Aggregating\n",
    "# In summary, you are trying to use variants of the original data to train a model.\n",
    "# Suppose your original data is : 1-2-3-4-5-6-7-8-9-10\n",
    "# In each bootstrap you will randomly choose from the original data\n",
    "# Bootstrap1 : 1-4-5-2-6-5-4-4-2. You dont need to have a unique data in bootstraps.\n",
    "# Bootstrap2 : 9-5-2-4-2-3-6-7-8. and bootstratps goes like this.\n",
    "# Let your trainin data be D. Then you create k bootstrap samples by selecting random samples with REPLACEMENT from D.\n",
    "# Then train model on each bootstrap sample.\n",
    "# Vote or average the predictions of the k models. \n",
    "# A particular training data has a probability of 1-1/n of not being picked. n is the size of bootstrap.\n",
    "# Thus it is probability of ending up in the test data(not selected) is (1-1/n)**n = 0.368\n",
    "# This means training data will containt approximately %63.2 of the initial instances.\n",
    "\n",
    "# WHY DO ENSEMBLES WORK ?\n",
    "# Suppose you have 21 base classifiers with p = 0.7 . Independent and have equal weight of vote. Probability that ensemble classifier makes a correct predictions is : combination(21 i)*p**i*(1-p)**(21-i) = 0.97\n",
    "# AS long as the base classifier is better than random (error < 0.5),ensemble will be superior to base classifier.\n",
    "# If error is >0.5 then it predicts wrong with more confident.\n",
    "\n",
    "# If we go back and think about bagging again:\n",
    "# Create multiple variants of training data D : d1,d2,d3....,dt then build multiple predictive models c1,....,ct and then combine predictions.\n",
    "# If there is high variation in the data, it works pretty well.\n",
    "# Bagging is especiallt useful for models with high variance and noisy data.\n",
    "# High variance models : models whose prediction accuracies varies a lot across different data sets.\n",
    "# In general, the type of base classifiers be same. Unstable classifiers like DecisionTree are uses. More stable models like SVM,logistic regression are not used as base classifier.\n",
    "# Out of Bag Error Estimation : Can make use of the out of bag examples for validation set.\n",
    "# Examples that are not chosen for the bootstraps become a validation data for each bootstraps if you want to use out of bag error estimation. You should choose oob_score = True in the model.\n",
    "# If you won't compare the results of the model with others, then you can use oob_score for validation data.\n",
    "\n",
    "# Random Forest is a special bagging model. Specifically designed for decision trees.\n",
    "# There can be situations where we usually learn the same or very similar classifier. Averaging over these classifiers do not help therefore you need to introduce extra variation inl earner.\n",
    "# Therefore, you can add more randomness on both dataset and feature selections for each bootstraps.\n",
    "# Fix m <= M where M is the number of features.\n",
    "# Method 1 : Choose m features randomly, compute their information gain or gini index and choose the attribute with the large information gain or gini index.\n",
    "# By choosing these features randomly, you are starting to promote of having different decision trees.\n",
    "# Method 2 : Compute the information gain or gini index of all M attributes. Select top m attributes by information gain and randomly select one of the m attributes as splitting node.\n",
    "# There are two sources of randomness.\n",
    "# Bootstrapping : Each tree is grown using a random sample of the data.\n",
    "# Averaging : Combining the average of the predictions of each classifier. These two processes are called as bagging together.\n",
    "# Random feature vectors: At each node, best split is chosen from a random sample of m attributes instead of all attributes.\n",
    "# If you use regression than you get the average of predictions, otherwise you use majority voting or soft voting or etc.\n",
    "# In general m is chosen as sqrt(M).\n",
    "# You can check the variable importance in random forest. Variable importance is computed using the mean decrease in Gini index and expressed relative to the maximum.\n",
    "# Important hyperparameters : \n",
    "# n_estimators : Indicates the number of decision trees we intend to use. Generally the higher the number of trees, the more accurate will our model be.\n",
    "# max_features : This helps in increasing the accuracy of model. It is the maximum number of features to consider when splitting a node.\n",
    "# Advantages : Can handle missing values and anomalies well, are generally good with large dataset, normally prevent overfitting, can handle classification and regression problems.\n",
    "\n",
    "# Price : mode computation per prediction.\n",
    "\n",
    "\n",
    "\n",
    "\n"
   ]
  },
  {
   "cell_type": "code",
   "execution_count": 1,
   "id": "4c4abe38",
   "metadata": {
    "collapsed": true
   },
   "outputs": [
    {
     "name": "stdout",
     "output_type": "stream",
     "text": [
      "Requirement already satisfied: opendatasets in ./opt/anaconda3/lib/python3.9/site-packages (0.1.22)\n",
      "Requirement already satisfied: click in ./opt/anaconda3/lib/python3.9/site-packages (from opendatasets) (8.0.3)\n",
      "Requirement already satisfied: tqdm in ./opt/anaconda3/lib/python3.9/site-packages (from opendatasets) (4.62.3)\n",
      "Requirement already satisfied: kaggle in ./opt/anaconda3/lib/python3.9/site-packages (from opendatasets) (1.5.12)\n",
      "Requirement already satisfied: certifi in ./opt/anaconda3/lib/python3.9/site-packages (from kaggle->opendatasets) (2021.10.8)\n",
      "Requirement already satisfied: urllib3 in ./opt/anaconda3/lib/python3.9/site-packages (from kaggle->opendatasets) (1.26.7)\n",
      "Requirement already satisfied: python-slugify in ./opt/anaconda3/lib/python3.9/site-packages (from kaggle->opendatasets) (5.0.2)\n",
      "Requirement already satisfied: six>=1.10 in ./opt/anaconda3/lib/python3.9/site-packages (from kaggle->opendatasets) (1.16.0)\n",
      "Requirement already satisfied: requests in ./opt/anaconda3/lib/python3.9/site-packages (from kaggle->opendatasets) (2.26.0)\n",
      "Requirement already satisfied: python-dateutil in ./opt/anaconda3/lib/python3.9/site-packages (from kaggle->opendatasets) (2.8.2)\n",
      "Requirement already satisfied: text-unidecode>=1.3 in ./opt/anaconda3/lib/python3.9/site-packages (from python-slugify->kaggle->opendatasets) (1.3)\n",
      "Requirement already satisfied: charset-normalizer~=2.0.0 in ./opt/anaconda3/lib/python3.9/site-packages (from requests->kaggle->opendatasets) (2.0.4)\n",
      "Requirement already satisfied: idna<4,>=2.5 in ./opt/anaconda3/lib/python3.9/site-packages (from requests->kaggle->opendatasets) (3.2)\n",
      "\u001b[33mWARNING: There was an error checking the latest version of pip.\u001b[0m\u001b[33m\n",
      "\u001b[0mPlease provide your Kaggle credentials to download this dataset. Learn more: http://bit.ly/kaggle-creds\n",
      "Your Kaggle username: uguryigit34\n",
      "Your Kaggle Key: ········\n",
      "Downloading cardiovascular-disease-dataset.zip to ./cardiovascular-disease-dataset\n"
     ]
    },
    {
     "name": "stderr",
     "output_type": "stream",
     "text": [
      "100%|█████████████████████████████████████████| 742k/742k [00:00<00:00, 982kB/s]"
     ]
    },
    {
     "name": "stdout",
     "output_type": "stream",
     "text": [
      "\n"
     ]
    },
    {
     "name": "stderr",
     "output_type": "stream",
     "text": [
      "\n"
     ]
    }
   ],
   "source": [
    "!pip install opendatasets\n",
    "import opendatasets as od\n",
    "od.download(\"https://www.kaggle.com/datasets/sulianova/cardiovascular-disease-dataset\") # download data from kaggle datasets"
   ]
  },
  {
   "cell_type": "code",
   "execution_count": 96,
   "id": "b0225cce",
   "metadata": {},
   "outputs": [],
   "source": [
    "import pandas as pd\n",
    "import seaborn as sns\n",
    "from sklearn import model_selection as mod\n",
    "from sklearn import metrics as met\n",
    "from sklearn import preprocessing as pre\n",
    "from sklearn.tree import DecisionTreeClassifier\n",
    "from sklearn.ensemble import BaggingClassifier\n",
    "from sklearn.ensemble import RandomForestClassifier\n",
    "from sklearn import tree\n",
    "from matplotlib import pyplot as plt\n",
    "import seaborn as sns\n",
    "import numpy as np"
   ]
  },
  {
   "cell_type": "code",
   "execution_count": 6,
   "id": "aef069ee",
   "metadata": {},
   "outputs": [],
   "source": [
    "data = pd.read_csv(\"/Users/uguryigit/cardiovascular-disease-dataset/cardio_train.csv\",delimiter = \";\")"
   ]
  },
  {
   "cell_type": "code",
   "execution_count": 8,
   "id": "efbdb43e",
   "metadata": {},
   "outputs": [],
   "source": [
    "data.drop(\"id\",axis = 1,inplace = True)"
   ]
  },
  {
   "cell_type": "code",
   "execution_count": 10,
   "id": "d240595c",
   "metadata": {},
   "outputs": [
    {
     "data": {
      "text/plain": [
       "0    35021\n",
       "1    34979\n",
       "Name: cardio, dtype: int64"
      ]
     },
     "execution_count": 10,
     "metadata": {},
     "output_type": "execute_result"
    }
   ],
   "source": [
    "data.cardio.value_counts() # balanced dataset."
   ]
  },
  {
   "cell_type": "code",
   "execution_count": 11,
   "id": "b41fe494",
   "metadata": {},
   "outputs": [
    {
     "name": "stdout",
     "output_type": "stream",
     "text": [
      "<class 'pandas.core.frame.DataFrame'>\n",
      "RangeIndex: 70000 entries, 0 to 69999\n",
      "Data columns (total 12 columns):\n",
      " #   Column       Non-Null Count  Dtype  \n",
      "---  ------       --------------  -----  \n",
      " 0   age          70000 non-null  int64  \n",
      " 1   gender       70000 non-null  int64  \n",
      " 2   height       70000 non-null  int64  \n",
      " 3   weight       70000 non-null  float64\n",
      " 4   ap_hi        70000 non-null  int64  \n",
      " 5   ap_lo        70000 non-null  int64  \n",
      " 6   cholesterol  70000 non-null  int64  \n",
      " 7   gluc         70000 non-null  int64  \n",
      " 8   smoke        70000 non-null  int64  \n",
      " 9   alco         70000 non-null  int64  \n",
      " 10  active       70000 non-null  int64  \n",
      " 11  cardio       70000 non-null  int64  \n",
      "dtypes: float64(1), int64(11)\n",
      "memory usage: 6.4 MB\n"
     ]
    }
   ],
   "source": [
    "data.info()"
   ]
  },
  {
   "cell_type": "code",
   "execution_count": 12,
   "id": "732276da",
   "metadata": {},
   "outputs": [],
   "source": [
    "X = data.drop([\"cardio\"],axis = 1)\n",
    "y = data[\"cardio\"].values\n"
   ]
  },
  {
   "cell_type": "code",
   "execution_count": 14,
   "id": "796b5b99",
   "metadata": {},
   "outputs": [],
   "source": [
    "X_train,X_test,y_train,y_test = mod.train_test_split(X,y,test_size = 0.2,stratify = y,random_state = 20)"
   ]
  },
  {
   "cell_type": "code",
   "execution_count": 16,
   "id": "82771a65",
   "metadata": {},
   "outputs": [],
   "source": [
    "def generate_one_hot_vector(df): # one hot encoding for categorical features. \n",
    "    df = pd.get_dummies(df,columns = [\"gender\"],drop_first = True) \n",
    "    df = pd.get_dummies(df,columns = [\"cholesterol\"],drop_first = True)\n",
    "    df = pd.get_dummies(df,columns = [\"gluc\"],drop_first = True)\n",
    "    \n",
    "    return df"
   ]
  },
  {
   "cell_type": "code",
   "execution_count": 18,
   "id": "f9b32348",
   "metadata": {},
   "outputs": [],
   "source": [
    "X_train = generate_one_hot_vector(X_train)\n",
    "X_test = generate_one_hot_vector(X_test)"
   ]
  },
  {
   "cell_type": "code",
   "execution_count": 19,
   "id": "dbd23768",
   "metadata": {},
   "outputs": [
    {
     "data": {
      "text/html": [
       "<div>\n",
       "<style scoped>\n",
       "    .dataframe tbody tr th:only-of-type {\n",
       "        vertical-align: middle;\n",
       "    }\n",
       "\n",
       "    .dataframe tbody tr th {\n",
       "        vertical-align: top;\n",
       "    }\n",
       "\n",
       "    .dataframe thead th {\n",
       "        text-align: right;\n",
       "    }\n",
       "</style>\n",
       "<table border=\"1\" class=\"dataframe\">\n",
       "  <thead>\n",
       "    <tr style=\"text-align: right;\">\n",
       "      <th></th>\n",
       "      <th>age</th>\n",
       "      <th>height</th>\n",
       "      <th>weight</th>\n",
       "      <th>ap_hi</th>\n",
       "      <th>ap_lo</th>\n",
       "      <th>smoke</th>\n",
       "      <th>alco</th>\n",
       "      <th>active</th>\n",
       "      <th>gender_2</th>\n",
       "      <th>cholesterol_2</th>\n",
       "      <th>cholesterol_3</th>\n",
       "      <th>gluc_2</th>\n",
       "      <th>gluc_3</th>\n",
       "    </tr>\n",
       "  </thead>\n",
       "  <tbody>\n",
       "    <tr>\n",
       "      <th>18577</th>\n",
       "      <td>18348</td>\n",
       "      <td>164</td>\n",
       "      <td>72.0</td>\n",
       "      <td>140</td>\n",
       "      <td>90</td>\n",
       "      <td>0</td>\n",
       "      <td>0</td>\n",
       "      <td>1</td>\n",
       "      <td>0</td>\n",
       "      <td>1</td>\n",
       "      <td>0</td>\n",
       "      <td>0</td>\n",
       "      <td>0</td>\n",
       "    </tr>\n",
       "    <tr>\n",
       "      <th>15404</th>\n",
       "      <td>21694</td>\n",
       "      <td>178</td>\n",
       "      <td>80.0</td>\n",
       "      <td>150</td>\n",
       "      <td>90</td>\n",
       "      <td>0</td>\n",
       "      <td>0</td>\n",
       "      <td>1</td>\n",
       "      <td>1</td>\n",
       "      <td>0</td>\n",
       "      <td>0</td>\n",
       "      <td>0</td>\n",
       "      <td>0</td>\n",
       "    </tr>\n",
       "    <tr>\n",
       "      <th>4321</th>\n",
       "      <td>18756</td>\n",
       "      <td>160</td>\n",
       "      <td>75.0</td>\n",
       "      <td>110</td>\n",
       "      <td>80</td>\n",
       "      <td>0</td>\n",
       "      <td>0</td>\n",
       "      <td>0</td>\n",
       "      <td>0</td>\n",
       "      <td>0</td>\n",
       "      <td>0</td>\n",
       "      <td>0</td>\n",
       "      <td>0</td>\n",
       "    </tr>\n",
       "    <tr>\n",
       "      <th>55155</th>\n",
       "      <td>16786</td>\n",
       "      <td>170</td>\n",
       "      <td>92.0</td>\n",
       "      <td>125</td>\n",
       "      <td>85</td>\n",
       "      <td>0</td>\n",
       "      <td>0</td>\n",
       "      <td>1</td>\n",
       "      <td>1</td>\n",
       "      <td>0</td>\n",
       "      <td>0</td>\n",
       "      <td>0</td>\n",
       "      <td>0</td>\n",
       "    </tr>\n",
       "    <tr>\n",
       "      <th>32626</th>\n",
       "      <td>17490</td>\n",
       "      <td>179</td>\n",
       "      <td>78.0</td>\n",
       "      <td>120</td>\n",
       "      <td>80</td>\n",
       "      <td>0</td>\n",
       "      <td>0</td>\n",
       "      <td>1</td>\n",
       "      <td>1</td>\n",
       "      <td>0</td>\n",
       "      <td>0</td>\n",
       "      <td>0</td>\n",
       "      <td>0</td>\n",
       "    </tr>\n",
       "    <tr>\n",
       "      <th>...</th>\n",
       "      <td>...</td>\n",
       "      <td>...</td>\n",
       "      <td>...</td>\n",
       "      <td>...</td>\n",
       "      <td>...</td>\n",
       "      <td>...</td>\n",
       "      <td>...</td>\n",
       "      <td>...</td>\n",
       "      <td>...</td>\n",
       "      <td>...</td>\n",
       "      <td>...</td>\n",
       "      <td>...</td>\n",
       "      <td>...</td>\n",
       "    </tr>\n",
       "    <tr>\n",
       "      <th>11108</th>\n",
       "      <td>16058</td>\n",
       "      <td>153</td>\n",
       "      <td>56.0</td>\n",
       "      <td>90</td>\n",
       "      <td>60</td>\n",
       "      <td>0</td>\n",
       "      <td>0</td>\n",
       "      <td>1</td>\n",
       "      <td>0</td>\n",
       "      <td>0</td>\n",
       "      <td>0</td>\n",
       "      <td>0</td>\n",
       "      <td>0</td>\n",
       "    </tr>\n",
       "    <tr>\n",
       "      <th>63349</th>\n",
       "      <td>19010</td>\n",
       "      <td>168</td>\n",
       "      <td>78.0</td>\n",
       "      <td>110</td>\n",
       "      <td>70</td>\n",
       "      <td>1</td>\n",
       "      <td>0</td>\n",
       "      <td>1</td>\n",
       "      <td>1</td>\n",
       "      <td>0</td>\n",
       "      <td>0</td>\n",
       "      <td>0</td>\n",
       "      <td>0</td>\n",
       "    </tr>\n",
       "    <tr>\n",
       "      <th>63155</th>\n",
       "      <td>22112</td>\n",
       "      <td>172</td>\n",
       "      <td>95.0</td>\n",
       "      <td>130</td>\n",
       "      <td>70</td>\n",
       "      <td>0</td>\n",
       "      <td>0</td>\n",
       "      <td>0</td>\n",
       "      <td>0</td>\n",
       "      <td>0</td>\n",
       "      <td>1</td>\n",
       "      <td>0</td>\n",
       "      <td>0</td>\n",
       "    </tr>\n",
       "    <tr>\n",
       "      <th>35788</th>\n",
       "      <td>22709</td>\n",
       "      <td>164</td>\n",
       "      <td>67.0</td>\n",
       "      <td>150</td>\n",
       "      <td>90</td>\n",
       "      <td>0</td>\n",
       "      <td>0</td>\n",
       "      <td>1</td>\n",
       "      <td>0</td>\n",
       "      <td>0</td>\n",
       "      <td>0</td>\n",
       "      <td>0</td>\n",
       "      <td>0</td>\n",
       "    </tr>\n",
       "    <tr>\n",
       "      <th>56318</th>\n",
       "      <td>22825</td>\n",
       "      <td>170</td>\n",
       "      <td>69.0</td>\n",
       "      <td>140</td>\n",
       "      <td>90</td>\n",
       "      <td>0</td>\n",
       "      <td>0</td>\n",
       "      <td>1</td>\n",
       "      <td>1</td>\n",
       "      <td>0</td>\n",
       "      <td>1</td>\n",
       "      <td>0</td>\n",
       "      <td>1</td>\n",
       "    </tr>\n",
       "  </tbody>\n",
       "</table>\n",
       "<p>56000 rows × 13 columns</p>\n",
       "</div>"
      ],
      "text/plain": [
       "         age  height  weight  ap_hi  ap_lo  smoke  alco  active  gender_2  \\\n",
       "18577  18348     164    72.0    140     90      0     0       1         0   \n",
       "15404  21694     178    80.0    150     90      0     0       1         1   \n",
       "4321   18756     160    75.0    110     80      0     0       0         0   \n",
       "55155  16786     170    92.0    125     85      0     0       1         1   \n",
       "32626  17490     179    78.0    120     80      0     0       1         1   \n",
       "...      ...     ...     ...    ...    ...    ...   ...     ...       ...   \n",
       "11108  16058     153    56.0     90     60      0     0       1         0   \n",
       "63349  19010     168    78.0    110     70      1     0       1         1   \n",
       "63155  22112     172    95.0    130     70      0     0       0         0   \n",
       "35788  22709     164    67.0    150     90      0     0       1         0   \n",
       "56318  22825     170    69.0    140     90      0     0       1         1   \n",
       "\n",
       "       cholesterol_2  cholesterol_3  gluc_2  gluc_3  \n",
       "18577              1              0       0       0  \n",
       "15404              0              0       0       0  \n",
       "4321               0              0       0       0  \n",
       "55155              0              0       0       0  \n",
       "32626              0              0       0       0  \n",
       "...              ...            ...     ...     ...  \n",
       "11108              0              0       0       0  \n",
       "63349              0              0       0       0  \n",
       "63155              0              1       0       0  \n",
       "35788              0              0       0       0  \n",
       "56318              0              1       0       1  \n",
       "\n",
       "[56000 rows x 13 columns]"
      ]
     },
     "execution_count": 19,
     "metadata": {},
     "output_type": "execute_result"
    }
   ],
   "source": [
    "X_train"
   ]
  },
  {
   "cell_type": "code",
   "execution_count": 22,
   "id": "d4738647",
   "metadata": {},
   "outputs": [
    {
     "data": {
      "text/plain": [
       "DecisionTreeClassifier(random_state=20)"
      ]
     },
     "execution_count": 22,
     "metadata": {},
     "output_type": "execute_result"
    }
   ],
   "source": [
    "dtc = DecisionTreeClassifier(random_state = 20) \n",
    "dtc.fit(X_train,y_train)"
   ]
  },
  {
   "cell_type": "code",
   "execution_count": 25,
   "id": "0ffb5aad",
   "metadata": {},
   "outputs": [
    {
     "data": {
      "text/plain": [
       "[Text(306.90000000000003, 317.09999999999997, 'ap_hi <= 128.5\\ngini = 0.5\\nsamples = 56000\\nvalue = [28017, 27983]'),\n",
       " Text(153.45000000000002, 190.26, 'age <= 19961.5\\ngini = 0.433\\nsamples = 33017\\nvalue = [22533, 10484]'),\n",
       " Text(76.72500000000001, 63.420000000000016, '\\n  (...)  \\n'),\n",
       " Text(230.175, 63.420000000000016, '\\n  (...)  \\n'),\n",
       " Text(460.35, 190.26, 'ap_hi <= 138.5\\ngini = 0.363\\nsamples = 22983\\nvalue = [5484, 17499]'),\n",
       " Text(383.62500000000006, 63.420000000000016, '\\n  (...)  \\n'),\n",
       " Text(537.075, 63.420000000000016, '\\n  (...)  \\n')]"
      ]
     },
     "execution_count": 25,
     "metadata": {},
     "output_type": "execute_result"
    },
    {
     "data": {
      "image/png": "[encoded data removed]",
      "text/plain": [
       "<Figure size 792x504 with 1 Axes>"
      ]
     },
     "metadata": {
      "needs_background": "light"
     },
     "output_type": "display_data"
    }
   ],
   "source": [
    "plt.figure(figsize = (11,7))\n",
    "tree.plot_tree(dtc,max_depth = 1, feature_names = X_train.columns)"
   ]
  },
  {
   "cell_type": "code",
   "execution_count": 26,
   "id": "a48f8c8d",
   "metadata": {},
   "outputs": [],
   "source": [
    "pred = dtc.predict(X_test)"
   ]
  },
  {
   "cell_type": "code",
   "execution_count": 28,
   "id": "119f26af",
   "metadata": {},
   "outputs": [
    {
     "name": "stdout",
     "output_type": "stream",
     "text": [
      "Accuracy of Decision Tree:  0.6327857142857143\n"
     ]
    }
   ],
   "source": [
    "print(\"Accuracy of Decision Tree: \", met.accuracy_score(y_test,pred))"
   ]
  },
  {
   "cell_type": "code",
   "execution_count": 29,
   "id": "381d69a2",
   "metadata": {},
   "outputs": [],
   "source": [
    "#### BAGGING CLASSIFIER"
   ]
  },
  {
   "cell_type": "code",
   "execution_count": 33,
   "id": "38670874",
   "metadata": {},
   "outputs": [
    {
     "data": {
      "text/plain": [
       "BaggingClassifier(random_state=20)"
      ]
     },
     "execution_count": 33,
     "metadata": {},
     "output_type": "execute_result"
    }
   ],
   "source": [
    "bc = BaggingClassifier(random_state = 20)\n",
    "bc.fit(X_train,y_train)"
   ]
  },
  {
   "cell_type": "code",
   "execution_count": 34,
   "id": "2d30ede2",
   "metadata": {},
   "outputs": [],
   "source": [
    "pred = bc.predict(X_test)"
   ]
  },
  {
   "cell_type": "code",
   "execution_count": 35,
   "id": "7693582b",
   "metadata": {},
   "outputs": [
    {
     "name": "stdout",
     "output_type": "stream",
     "text": [
      "Accuracy of Bagging Classifier :  0.695\n"
     ]
    }
   ],
   "source": [
    "print(\"Accuracy of Bagging Classifier : \", met.accuracy_score(y_test,pred))"
   ]
  },
  {
   "cell_type": "code",
   "execution_count": 36,
   "id": "627c0d65",
   "metadata": {},
   "outputs": [],
   "source": [
    "bc = BaggingClassifier(oob_score = True,random_state = 20) # out of bag score\n"
   ]
  },
  {
   "cell_type": "code",
   "execution_count": 37,
   "id": "9a7713e4",
   "metadata": {},
   "outputs": [
    {
     "name": "stderr",
     "output_type": "stream",
     "text": [
      "/Users/uguryigit/opt/anaconda3/lib/python3.9/site-packages/sklearn/ensemble/_bagging.py:640: UserWarning: Some inputs do not have OOB scores. This probably means too few estimators were used to compute any reliable oob estimates.\n",
      "  warn(\"Some inputs do not have OOB scores. \"\n",
      "/Users/uguryigit/opt/anaconda3/lib/python3.9/site-packages/sklearn/ensemble/_bagging.py:644: RuntimeWarning: invalid value encountered in true_divide\n",
      "  oob_decision_function = (predictions /\n"
     ]
    },
    {
     "data": {
      "text/plain": [
       "BaggingClassifier(oob_score=True, random_state=20)"
      ]
     },
     "execution_count": 37,
     "metadata": {},
     "output_type": "execute_result"
    }
   ],
   "source": [
    "bc.fit(X_train,y_train)"
   ]
  },
  {
   "cell_type": "code",
   "execution_count": 38,
   "id": "9fda983a",
   "metadata": {},
   "outputs": [
    {
     "name": "stdout",
     "output_type": "stream",
     "text": [
      "OOB Score:  0.6595892857142858\n"
     ]
    }
   ],
   "source": [
    "print(\"OOB Score: \", bc.oob_score_)"
   ]
  },
  {
   "cell_type": "code",
   "execution_count": 39,
   "id": "b386f80e",
   "metadata": {},
   "outputs": [],
   "source": [
    "##### Random Forest Classifier"
   ]
  },
  {
   "cell_type": "code",
   "execution_count": 40,
   "id": "d0c6db4d",
   "metadata": {},
   "outputs": [],
   "source": [
    "rfc = RandomForestClassifier(random_state = 20)"
   ]
  },
  {
   "cell_type": "code",
   "execution_count": 41,
   "id": "cf753eae",
   "metadata": {},
   "outputs": [
    {
     "data": {
      "text/plain": [
       "100"
      ]
     },
     "execution_count": 41,
     "metadata": {},
     "output_type": "execute_result"
    }
   ],
   "source": [
    "rfc.fit(X_train,y_train) # n_estimators are default as 20.\n",
    "len(rfc.estimators_)"
   ]
  },
  {
   "cell_type": "code",
   "execution_count": 46,
   "id": "3f330319",
   "metadata": {},
   "outputs": [
    {
     "data": {
      "text/plain": [
       "DecisionTreeClassifier(max_features='auto', random_state=1663920602)"
      ]
     },
     "execution_count": 46,
     "metadata": {},
     "output_type": "execute_result"
    }
   ],
   "source": [
    "rfc.estimators_[1] # Uses decision trees as classifiers."
   ]
  },
  {
   "cell_type": "code",
   "execution_count": 50,
   "id": "f9c75a20",
   "metadata": {},
   "outputs": [
    {
     "name": "stdout",
     "output_type": "stream",
     "text": [
      "0.695\n"
     ]
    }
   ],
   "source": [
    "print(met.accuracy_score(y_test,pred))"
   ]
  },
  {
   "cell_type": "code",
   "execution_count": 51,
   "id": "03dce7ae",
   "metadata": {},
   "outputs": [],
   "source": [
    "rfc = RandomForestClassifier(random_state = 20,oob_score = True)"
   ]
  },
  {
   "cell_type": "code",
   "execution_count": 52,
   "id": "fc2bf687",
   "metadata": {},
   "outputs": [
    {
     "data": {
      "text/plain": [
       "RandomForestClassifier(oob_score=True, random_state=20)"
      ]
     },
     "execution_count": 52,
     "metadata": {},
     "output_type": "execute_result"
    }
   ],
   "source": [
    "rfc.fit(X_train,y_train) #min_samples_leaf = 1. If sample count is less than min_samples_leaf at the node then do not split anymore and take it as a leaf node. It can be used to solve the overfitting problem.\n",
    "#The main difference between min samples leaf and min samples split is that min_samples_leaf guarantees a minimum number of samples in a leaf, while min_samples_split can create arbitrary small leaves, though min_samples_split is more common in the literature.\n"
   ]
  },
  {
   "cell_type": "code",
   "execution_count": 53,
   "id": "35995c69",
   "metadata": {},
   "outputs": [
    {
     "name": "stdout",
     "output_type": "stream",
     "text": [
      "OOB Score:  0.7130178571428571\n"
     ]
    }
   ],
   "source": [
    "print(\"OOB Score: \", rfc.oob_score_)"
   ]
  },
  {
   "cell_type": "code",
   "execution_count": 54,
   "id": "79a4aff2",
   "metadata": {},
   "outputs": [],
   "source": [
    "pred = rfc.predict(X_train)"
   ]
  },
  {
   "cell_type": "code",
   "execution_count": 56,
   "id": "674f15f5",
   "metadata": {},
   "outputs": [
    {
     "name": "stdout",
     "output_type": "stream",
     "text": [
      "0.9998392857142857\n"
     ]
    }
   ],
   "source": [
    "print(met.accuracy_score(y_train,pred)) # creates overfitting."
   ]
  },
  {
   "cell_type": "code",
   "execution_count": 57,
   "id": "e23503a5",
   "metadata": {},
   "outputs": [],
   "source": [
    "pred = rfc.predict(X_test)"
   ]
  },
  {
   "cell_type": "code",
   "execution_count": 58,
   "id": "210b0ef0",
   "metadata": {},
   "outputs": [
    {
     "name": "stdout",
     "output_type": "stream",
     "text": [
      "0.7095\n"
     ]
    }
   ],
   "source": [
    "print(met.accuracy_score(y_test,pred))"
   ]
  },
  {
   "cell_type": "code",
   "execution_count": 59,
   "id": "75f03894",
   "metadata": {},
   "outputs": [
    {
     "data": {
      "text/plain": [
       "RandomForestClassifier(min_samples_leaf=5, oob_score=True, random_state=20)"
      ]
     },
     "execution_count": 59,
     "metadata": {},
     "output_type": "execute_result"
    }
   ],
   "source": [
    "rfc = RandomForestClassifier(min_samples_leaf = 5,random_state = 20,oob_score = True)\n",
    "rfc.fit(X_train,y_train)"
   ]
  },
  {
   "cell_type": "code",
   "execution_count": 60,
   "id": "a568ecd1",
   "metadata": {},
   "outputs": [
    {
     "name": "stdout",
     "output_type": "stream",
     "text": [
      "0.792125\n"
     ]
    }
   ],
   "source": [
    "pred = rfc.predict(X_train)\n",
    "print(met.accuracy_score(y_train,pred))"
   ]
  },
  {
   "cell_type": "code",
   "execution_count": 61,
   "id": "6af58ddc",
   "metadata": {},
   "outputs": [
    {
     "name": "stdout",
     "output_type": "stream",
     "text": [
      "0.7338035714285714\n"
     ]
    }
   ],
   "source": [
    "print(rfc.oob_score_)"
   ]
  },
  {
   "cell_type": "code",
   "execution_count": 63,
   "id": "15ed4cc7",
   "metadata": {},
   "outputs": [
    {
     "name": "stdout",
     "output_type": "stream",
     "text": [
      "0.7324285714285714\n"
     ]
    }
   ],
   "source": [
    "pred = rfc.predict(X_test)\n",
    "print(met.accuracy_score(y_test,pred))"
   ]
  },
  {
   "cell_type": "code",
   "execution_count": 64,
   "id": "2e911991",
   "metadata": {},
   "outputs": [
    {
     "data": {
      "text/plain": [
       "RandomForestClassifier(max_depth=3, n_estimators=2000, oob_score=True,\n",
       "                       random_state=20)"
      ]
     },
     "execution_count": 64,
     "metadata": {},
     "output_type": "execute_result"
    }
   ],
   "source": [
    "rfc = RandomForestClassifier(n_estimators = 2000,max_depth = 3,random_state = 20,oob_score = True)\n",
    "rfc.fit(X_train,y_train)"
   ]
  },
  {
   "cell_type": "code",
   "execution_count": 65,
   "id": "08ea55ba",
   "metadata": {},
   "outputs": [
    {
     "name": "stdout",
     "output_type": "stream",
     "text": [
      "0.7209285714285715\n"
     ]
    }
   ],
   "source": [
    "pred = rfc.predict(X_test)\n",
    "print(met.accuracy_score(y_test,pred))"
   ]
  },
  {
   "cell_type": "code",
   "execution_count": 66,
   "id": "dd14c4a7",
   "metadata": {},
   "outputs": [],
   "source": [
    "#### HyperParameter Optimization"
   ]
  },
  {
   "cell_type": "code",
   "execution_count": 82,
   "id": "f02605f6",
   "metadata": {},
   "outputs": [],
   "source": [
    "n_estimators = [5,10,50,100,250,500,750,1000]\n",
    "\n",
    "oob_scores = []"
   ]
  },
  {
   "cell_type": "code",
   "execution_count": 84,
   "id": "2bdba38e",
   "metadata": {},
   "outputs": [
    {
     "name": "stderr",
     "output_type": "stream",
     "text": [
      "/Users/uguryigit/opt/anaconda3/lib/python3.9/site-packages/sklearn/ensemble/_forest.py:541: UserWarning: Some inputs do not have OOB scores. This probably means too few trees were used to compute any reliable oob estimates.\n",
      "  warn(\"Some inputs do not have OOB scores. \"\n",
      "/Users/uguryigit/opt/anaconda3/lib/python3.9/site-packages/sklearn/ensemble/_forest.py:545: RuntimeWarning: invalid value encountered in true_divide\n",
      "  decision = (predictions[k] /\n"
     ]
    },
    {
     "name": "stdout",
     "output_type": "stream",
     "text": [
      "OOB Score:  0.685625  for n_estimator =  5\n"
     ]
    },
    {
     "name": "stderr",
     "output_type": "stream",
     "text": [
      "/Users/uguryigit/opt/anaconda3/lib/python3.9/site-packages/sklearn/ensemble/_forest.py:541: UserWarning: Some inputs do not have OOB scores. This probably means too few trees were used to compute any reliable oob estimates.\n",
      "  warn(\"Some inputs do not have OOB scores. \"\n",
      "/Users/uguryigit/opt/anaconda3/lib/python3.9/site-packages/sklearn/ensemble/_forest.py:545: RuntimeWarning: invalid value encountered in true_divide\n",
      "  decision = (predictions[k] /\n"
     ]
    },
    {
     "name": "stdout",
     "output_type": "stream",
     "text": [
      "OOB Score:  0.7184821428571428  for n_estimator =  10\n",
      "OOB Score:  0.7338214285714286  for n_estimator =  50\n",
      "OOB Score:  0.7338035714285714  for n_estimator =  100\n",
      "OOB Score:  0.7346071428571429  for n_estimator =  250\n",
      "OOB Score:  0.7348214285714286  for n_estimator =  500\n",
      "OOB Score:  0.735625  for n_estimator =  750\n",
      "OOB Score:  0.735375  for n_estimator =  1000\n"
     ]
    }
   ],
   "source": [
    "for n_estimator in n_estimators:\n",
    "    rfc = RandomForestClassifier(n_estimators = n_estimator,random_state = 20, min_samples_leaf = 5,oob_score = True)\n",
    "    rfc.fit(X_train,y_train)\n",
    "    print(\"OOB Score: \", rfc.oob_score_,\" for n_estimator = \", n_estimator)\n",
    "    oob_scores.append(rfc.oob_score_)"
   ]
  },
  {
   "cell_type": "code",
   "execution_count": 85,
   "id": "8c64f694",
   "metadata": {},
   "outputs": [
    {
     "name": "stderr",
     "output_type": "stream",
     "text": [
      "/var/folders/pm/r8b8p4xs2w119xjf2kgl1_1r0000gn/T/ipykernel_74389/1078600640.py:5: UserWarning: FixedFormatter should only be used together with FixedLocator\n",
      "  graph.set_xticklabels(n_estimators)# you can decide about the number of estimators needed.\n"
     ]
    },
    {
     "data": {
      "text/plain": [
       "[Text(0.1, 0, '5'),\n",
       " Text(1.0, 0, '10'),\n",
       " Text(10.0, 0, '50'),\n",
       " Text(100.0, 0, '100'),\n",
       " Text(1000.0, 0, '250'),\n",
       " Text(10000.0, 0, '500'),\n",
       " Text(100000.0, 0, '750')]"
      ]
     },
     "execution_count": 85,
     "metadata": {},
     "output_type": "execute_result"
    },
    {
     "data": {
      "image/png": "[encoded data removed]",
      "text/plain": [
       "<Figure size 432x288 with 1 Axes>"
      ]
     },
     "metadata": {
      "needs_background": "light"
     },
     "output_type": "display_data"
    }
   ],
   "source": [
    "graph = sns.lineplot(x = n_estimators, y=oob_scores)\n",
    "\n",
    "graph.set(xscale = \"log\") \n",
    "\n",
    "graph.set_xticklabels(n_estimators)# you can decide about the number of estimators needed."
   ]
  },
  {
   "cell_type": "code",
   "execution_count": null,
   "id": "e888c05c",
   "metadata": {},
   "outputs": [],
   "source": [
    "# Default max feature size is sqrt(number of features). This is an another hyperparameter and we can change it."
   ]
  },
  {
   "cell_type": "code",
   "execution_count": 87,
   "id": "2fef3dff",
   "metadata": {},
   "outputs": [
    {
     "name": "stdout",
     "output_type": "stream",
     "text": [
      "OOB Score :  0.7346071428571429  for max _ features =  3\n",
      "OOB Score :  0.7308214285714286  for max _ features =  6\n",
      "OOB Score :  0.7270714285714286  for max _ features =  9\n",
      "OOB Score :  0.7255535714285715  for max _ features =  13\n"
     ]
    }
   ],
   "source": [
    "max_features = [3,6,9,X_train.shape[1]]\n",
    "\n",
    "for max_feature in max_features:\n",
    "    rfc = RandomForestClassifier(random_state = 20, oob_score = True, n_estimators = 250, max_features = max_feature, min_samples_leaf = 5) # min_samples_leaf'de senin kaç tane datan var onla alakalı aslında.\n",
    "    rfc.fit(X_train,y_train)\n",
    "    \n",
    "    print(\"OOB Score : \", rfc.oob_score_ , \" for max _ features = \", max_feature)\n",
    "    \n",
    "# If you use all features then it becomes same as baggin classifier which is not meaningful.\n",
    "# 3 is chosen as the best option."
   ]
  },
  {
   "cell_type": "code",
   "execution_count": 89,
   "id": "55c6abdf",
   "metadata": {},
   "outputs": [],
   "source": [
    "rfc = RandomForestClassifier(n_estimators = 250,random_state = 7, min_samples_leaf = 5, max_features = 3)"
   ]
  },
  {
   "cell_type": "code",
   "execution_count": 104,
   "id": "38f20f18",
   "metadata": {},
   "outputs": [
    {
     "name": "stdout",
     "output_type": "stream",
     "text": [
      "Accuracy Score on Test Data:  0.7337857142857143\n"
     ]
    }
   ],
   "source": [
    "rfc.fit(X_train,y_train)\n",
    "\n",
    "pred = rfc.predict(X_test)\n",
    "\n",
    "print(\"Accuracy Score on Test Data: \", met.accuracy_score(y_test,pred))"
   ]
  },
  {
   "cell_type": "code",
   "execution_count": 105,
   "id": "6a2f15e7",
   "metadata": {},
   "outputs": [
    {
     "data": {
      "text/plain": [
       "array([[5427, 1577],\n",
       "       [2150, 4846]])"
      ]
     },
     "execution_count": 105,
     "metadata": {},
     "output_type": "execute_result"
    }
   ],
   "source": [
    "met.confusion_matrix(y_test,pred)"
   ]
  },
  {
   "cell_type": "code",
   "execution_count": 118,
   "id": "7628fbf9",
   "metadata": {},
   "outputs": [
    {
     "data": {
      "text/plain": [
       "0.796554923364873"
      ]
     },
     "execution_count": 118,
     "metadata": {},
     "output_type": "execute_result"
    }
   ],
   "source": [
    "met.roc_auc_score(y_test,rfc.predict_proba(X_test)[:,1])"
   ]
  },
  {
   "cell_type": "code",
   "execution_count": 111,
   "id": "9fd40706",
   "metadata": {},
   "outputs": [
    {
     "data": {
      "text/plain": [
       "<sklearn.metrics._plot.roc_curve.RocCurveDisplay at 0x7f8ba3da18e0>"
      ]
     },
     "execution_count": 111,
     "metadata": {},
     "output_type": "execute_result"
    },
    {
     "data": {
      "image/png": "[encoded data removed]",
      "text/plain": [
       "<Figure size 432x288 with 1 Axes>"
      ]
     },
     "metadata": {
      "needs_background": "light"
     },
     "output_type": "display_data"
    }
   ],
   "source": [
    "fig,ax = plt.subplots() # Compare different algorithms.\n",
    "\n",
    "met.plot_roc_curve(dtc,X_test,y_test,ax=ax)\n",
    "met.plot_roc_curve(bc,X_test,y_test,ax=ax)\n",
    "met.plot_roc_curve(rfc,X_test,y_test,ax=ax)"
   ]
  },
  {
   "cell_type": "code",
   "execution_count": 97,
   "id": "aeb15713",
   "metadata": {},
   "outputs": [
    {
     "data": {
      "text/plain": [
       "Text(0.5, 0, 'Importance')"
      ]
     },
     "execution_count": 97,
     "metadata": {},
     "output_type": "execute_result"
    },
    {
     "data": {
      "image/png": "[encoded data removed]",
      "text/plain": [
       "<Figure size 720x432 with 1 Axes>"
      ]
     },
     "metadata": {
      "needs_background": "light"
     },
     "output_type": "display_data"
    }
   ],
   "source": [
    "features = X_train.columns # FEATURE IMPORTANCE ACCORDING TO GINI.\n",
    "\n",
    "importances = rfc.feature_importances_ \n",
    "\n",
    "indices = np.argsort(importances)\n",
    "\n",
    "plt.figure(figsize = (10,6))\n",
    "plt.title(\"Random Forest Feature Importance\")\n",
    "plt.barh(range(len(indices)),importances[indices],color = \"b\",align = \"center\") \n",
    "\n",
    "plt.yticks(range(len(indices)),[features[i] for i in indices])\n",
    "plt.xlabel(\"Importance\")"
   ]
  },
  {
   "cell_type": "code",
   "execution_count": null,
   "id": "6c98b4e6",
   "metadata": {},
   "outputs": [],
   "source": []
  }
 ],
 "metadata": {
  "kernelspec": {
   "display_name": "Python 3 (ipykernel)",
   "language": "python",
   "name": "python3"
  },
  "language_info": {
   "codemirror_mode": {
    "name": "ipython",
    "version": 3
   },
   "file_extension": ".py",
   "mimetype": "text/x-python",
   "name": "python",
   "nbconvert_exporter": "python",
   "pygments_lexer": "ipython3",
   "version": "3.9.7"
  }
 },
 "nbformat": 4,
 "nbformat_minor": 5
}
