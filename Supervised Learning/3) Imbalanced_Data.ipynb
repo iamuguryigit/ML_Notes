{
 "cells": [
  {
   "cell_type": "code",
   "execution_count": 25,
   "id": "f9349a97",
   "metadata": {},
   "outputs": [],
   "source": [
    "import pandas as pd\n",
    "import numpy as np\n",
    "from matplotlib import pyplot as plt\n",
    "from sklearn import model_selection as mod\n",
    "import seaborn as sns\n",
    "\n",
    "from sklearn import datasets as dat\n",
    "from sklearn import tree\n",
    "from sklearn import metrics as met \n",
    "from sklearn import linear_model as lin\n",
    "from sklearn import preprocessing as pre\n",
    "from sklearn import pipeline as pip\n",
    "from sklearn import ensemble as ens\n",
    "from tensorflow.keras.datasets import mnist\n",
    "from imblearn import under_sampling as und\n",
    "from imblearn import over_sampling as over\n",
    "from imblearn import pipeline as imb\n",
    "from imblearn import combine as com\n"
   ]
  },
  {
   "cell_type": "code",
   "execution_count": 2,
   "id": "8d65f458",
   "metadata": {},
   "outputs": [],
   "source": [
    "data = dat.fetch_openml(\"mnist_784\")\n",
    "#(X_train,y_train),(X_test,y_test) = mnist.load_data()  You can get the data also in this way.\n",
    "X = data.data\n",
    "y = data.target"
   ]
  },
  {
   "cell_type": "code",
   "execution_count": 4,
   "id": "1734ae66",
   "metadata": {},
   "outputs": [],
   "source": [
    "X_train,X_test,y_train,y_test = mod.train_test_split(X,y,test_size = 0.15 , random_state = 42)"
   ]
  },
  {
   "cell_type": "code",
   "execution_count": 5,
   "id": "b4282b57",
   "metadata": {},
   "outputs": [],
   "source": [
    "y_train_5 = (y_train == '5')\n",
    "y_test_5 = (y_test == '5')"
   ]
  },
  {
   "cell_type": "code",
   "execution_count": null,
   "id": "c891b3ed",
   "metadata": {},
   "outputs": [],
   "source": [
    "# IMBALANCE LEARNING:\n",
    "\n",
    "# If there is imbalanced data, accuracy may not be a good method. instead, f1 score, auc score etc. are looked at.\n",
    "\n",
    "# Algorithms generally tend to predict the majority class if there is unbalanced data.\n",
    "\n",
    "# Resampling :\n",
    "     # Undersampling : Remove records from majority class\n",
    "         # RandomUnderSampler,TomekLinks\n",
    "     # Oversampling : Duplicates records from minority class\n",
    "         #RandomOverSampler\n",
    "    "
   ]
  },
  {
   "cell_type": "code",
   "execution_count": null,
   "id": "a3de3714",
   "metadata": {},
   "outputs": [],
   "source": [
    "# RandomUnderSampler:\n",
    "     # You are deleting random data from the majority class until there is a certain rate. We don't want to lose too much more.\n",
    "     # We usually use it when we have a lot of data."
   ]
  },
  {
   "cell_type": "code",
   "execution_count": 6,
   "id": "0d7c41d0",
   "metadata": {},
   "outputs": [
    {
     "data": {
      "text/plain": [
       "0.09865760658825268"
      ]
     },
     "execution_count": 6,
     "metadata": {},
     "output_type": "execute_result"
    }
   ],
   "source": [
    "pd.Series(y_train_5).value_counts().min() / pd.Series(y_train_5).value_counts().max() # imbalanced data\n"
   ]
  },
  {
   "cell_type": "code",
   "execution_count": 12,
   "id": "93fac2dc",
   "metadata": {},
   "outputs": [],
   "source": [
    "#stratifiedkfold : kfold splits data randomly into folds. class distributions may not be the same. but stratified kfold\n",
    "# while dividing into different folds, the class distribution within each fold is tried to converge to that of all data distributions. more reliable.\n",
    "\n",
    "skf = mod.StratifiedKFold(n_splits = 3,random_state = 42,shuffle= True)"
   ]
  },
  {
   "cell_type": "code",
   "execution_count": 27,
   "id": "26ede3d1",
   "metadata": {},
   "outputs": [],
   "source": [
    "pipe_sgd = imb.Pipeline([\n",
    "     (\"scaler\",pre.StandardScaler()),\n",
    "     (\"undersampler\",und.RandomUnderSampler(sampling_strategy = 0.25,random_state = 42)), #samplingstrategy : minority class count / majority class count after resampling\n",
    "     (\"sgd_clf\",lin.SGDClassifier(random_state = 42))])"
   ]
  },
  {
   "cell_type": "code",
   "execution_count": 28,
   "id": "9be6be99",
   "metadata": {},
   "outputs": [
    {
     "data": {
      "text/html": [
       "<style>#sk-container-id-1 {color: black;background-color: white;}#sk-container-id-1 pre{padding: 0;}#sk-container-id-1 div.sk-toggleable {background-color: white;}#sk-container-id-1 label.sk-toggleable__label {cursor: pointer;display: block;width: 100%;margin-bottom: 0;padding: 0.3em;box-sizing: border-box;text-align: center;}#sk-container-id-1 label.sk-toggleable__label-arrow:before {content: \"▸\";float: left;margin-right: 0.25em;color: #696969;}#sk-container-id-1 label.sk-toggleable__label-arrow:hover:before {color: black;}#sk-container-id-1 div.sk-estimator:hover label.sk-toggleable__label-arrow:before {color: black;}#sk-container-id-1 div.sk-toggleable__content {max-height: 0;max-width: 0;overflow: hidden;text-align: left;background-color: #f0f8ff;}#sk-container-id-1 div.sk-toggleable__content pre {margin: 0.2em;color: black;border-radius: 0.25em;background-color: #f0f8ff;}#sk-container-id-1 input.sk-toggleable__control:checked~div.sk-toggleable__content {max-height: 200px;max-width: 100%;overflow: auto;}#sk-container-id-1 input.sk-toggleable__control:checked~label.sk-toggleable__label-arrow:before {content: \"▾\";}#sk-container-id-1 div.sk-estimator input.sk-toggleable__control:checked~label.sk-toggleable__label {background-color: #d4ebff;}#sk-container-id-1 div.sk-label input.sk-toggleable__control:checked~label.sk-toggleable__label {background-color: #d4ebff;}#sk-container-id-1 input.sk-hidden--visually {border: 0;clip: rect(1px 1px 1px 1px);clip: rect(1px, 1px, 1px, 1px);height: 1px;margin: -1px;overflow: hidden;padding: 0;position: absolute;width: 1px;}#sk-container-id-1 div.sk-estimator {font-family: monospace;background-color: #f0f8ff;border: 1px dotted black;border-radius: 0.25em;box-sizing: border-box;margin-bottom: 0.5em;}#sk-container-id-1 div.sk-estimator:hover {background-color: #d4ebff;}#sk-container-id-1 div.sk-parallel-item::after {content: \"\";width: 100%;border-bottom: 1px solid gray;flex-grow: 1;}#sk-container-id-1 div.sk-label:hover label.sk-toggleable__label {background-color: #d4ebff;}#sk-container-id-1 div.sk-serial::before {content: \"\";position: absolute;border-left: 1px solid gray;box-sizing: border-box;top: 0;bottom: 0;left: 50%;z-index: 0;}#sk-container-id-1 div.sk-serial {display: flex;flex-direction: column;align-items: center;background-color: white;padding-right: 0.2em;padding-left: 0.2em;position: relative;}#sk-container-id-1 div.sk-item {position: relative;z-index: 1;}#sk-container-id-1 div.sk-parallel {display: flex;align-items: stretch;justify-content: center;background-color: white;position: relative;}#sk-container-id-1 div.sk-item::before, #sk-container-id-1 div.sk-parallel-item::before {content: \"\";position: absolute;border-left: 1px solid gray;box-sizing: border-box;top: 0;bottom: 0;left: 50%;z-index: -1;}#sk-container-id-1 div.sk-parallel-item {display: flex;flex-direction: column;z-index: 1;position: relative;background-color: white;}#sk-container-id-1 div.sk-parallel-item:first-child::after {align-self: flex-end;width: 50%;}#sk-container-id-1 div.sk-parallel-item:last-child::after {align-self: flex-start;width: 50%;}#sk-container-id-1 div.sk-parallel-item:only-child::after {width: 0;}#sk-container-id-1 div.sk-dashed-wrapped {border: 1px dashed gray;margin: 0 0.4em 0.5em 0.4em;box-sizing: border-box;padding-bottom: 0.4em;background-color: white;}#sk-container-id-1 div.sk-label label {font-family: monospace;font-weight: bold;display: inline-block;line-height: 1.2em;}#sk-container-id-1 div.sk-label-container {text-align: center;}#sk-container-id-1 div.sk-container {/* jupyter's `normalize.less` sets `[hidden] { display: none; }` but bootstrap.min.css set `[hidden] { display: none !important; }` so we also need the `!important` here to be able to override the default hidden behavior on the sphinx rendered scikit-learn.org. See: https://github.com/scikit-learn/scikit-learn/issues/21755 */display: inline-block !important;position: relative;}#sk-container-id-1 div.sk-text-repr-fallback {display: none;}</style><div id=\"sk-container-id-1\" class=\"sk-top-container\"><div class=\"sk-text-repr-fallback\"><pre>Pipeline(steps=[(&#x27;scaler&#x27;, StandardScaler()),\n",
       "                (&#x27;undersampler&#x27;,\n",
       "                 RandomUnderSampler(random_state=42, sampling_strategy=0.25)),\n",
       "                (&#x27;sgd_clf&#x27;, SGDClassifier(random_state=42))])</pre><b>In a Jupyter environment, please rerun this cell to show the HTML representation or trust the notebook. <br />On GitHub, the HTML representation is unable to render, please try loading this page with nbviewer.org.</b></div><div class=\"sk-container\" hidden><div class=\"sk-item sk-dashed-wrapped\"><div class=\"sk-label-container\"><div class=\"sk-label sk-toggleable\"><input class=\"sk-toggleable__control sk-hidden--visually\" id=\"sk-estimator-id-1\" type=\"checkbox\" ><label for=\"sk-estimator-id-1\" class=\"sk-toggleable__label sk-toggleable__label-arrow\">Pipeline</label><div class=\"sk-toggleable__content\"><pre>Pipeline(steps=[(&#x27;scaler&#x27;, StandardScaler()),\n",
       "                (&#x27;undersampler&#x27;,\n",
       "                 RandomUnderSampler(random_state=42, sampling_strategy=0.25)),\n",
       "                (&#x27;sgd_clf&#x27;, SGDClassifier(random_state=42))])</pre></div></div></div><div class=\"sk-serial\"><div class=\"sk-item\"><div class=\"sk-estimator sk-toggleable\"><input class=\"sk-toggleable__control sk-hidden--visually\" id=\"sk-estimator-id-2\" type=\"checkbox\" ><label for=\"sk-estimator-id-2\" class=\"sk-toggleable__label sk-toggleable__label-arrow\">StandardScaler</label><div class=\"sk-toggleable__content\"><pre>StandardScaler()</pre></div></div></div><div class=\"sk-item\"><div class=\"sk-estimator sk-toggleable\"><input class=\"sk-toggleable__control sk-hidden--visually\" id=\"sk-estimator-id-3\" type=\"checkbox\" ><label for=\"sk-estimator-id-3\" class=\"sk-toggleable__label sk-toggleable__label-arrow\">RandomUnderSampler</label><div class=\"sk-toggleable__content\"><pre>RandomUnderSampler(random_state=42, sampling_strategy=0.25)</pre></div></div></div><div class=\"sk-item\"><div class=\"sk-estimator sk-toggleable\"><input class=\"sk-toggleable__control sk-hidden--visually\" id=\"sk-estimator-id-4\" type=\"checkbox\" ><label for=\"sk-estimator-id-4\" class=\"sk-toggleable__label sk-toggleable__label-arrow\">SGDClassifier</label><div class=\"sk-toggleable__content\"><pre>SGDClassifier(random_state=42)</pre></div></div></div></div></div></div></div>"
      ],
      "text/plain": [
       "Pipeline(steps=[('scaler', StandardScaler()),\n",
       "                ('undersampler',\n",
       "                 RandomUnderSampler(random_state=42, sampling_strategy=0.25)),\n",
       "                ('sgd_clf', SGDClassifier(random_state=42))])"
      ]
     },
     "execution_count": 28,
     "metadata": {},
     "output_type": "execute_result"
    }
   ],
   "source": [
    "pipe_sgd.fit(X_train,y_train_5)"
   ]
  },
  {
   "cell_type": "code",
   "execution_count": 30,
   "id": "e16de4ed",
   "metadata": {},
   "outputs": [
    {
     "name": "stderr",
     "output_type": "stream",
     "text": [
      "C:\\Users\\ugury\\Anaconda3\\lib\\site-packages\\sklearn\\linear_model\\_stochastic_gradient.py:705: ConvergenceWarning: Maximum number of iteration reached before convergence. Consider increasing max_iter to improve the fit.\n",
      "  warnings.warn(\n"
     ]
    },
    {
     "data": {
      "text/plain": [
       "0.8077093908313767"
      ]
     },
     "execution_count": 30,
     "metadata": {},
     "output_type": "execute_result"
    }
   ],
   "source": [
    "skf = mod.StratifiedKFold(n_splits = 3, shuffle = True, random_state = 42)   \n",
    "mod.cross_val_score(pipe_sgd,X_train,y_train_5,cv=skf,scoring = \"f1\").mean()"
   ]
  },
  {
   "cell_type": "code",
   "execution_count": 31,
   "id": "643e4a53",
   "metadata": {},
   "outputs": [
    {
     "name": "stderr",
     "output_type": "stream",
     "text": [
      "C:\\Users\\ugury\\Anaconda3\\lib\\site-packages\\sklearn\\linear_model\\_stochastic_gradient.py:705: ConvergenceWarning: Maximum number of iteration reached before convergence. Consider increasing max_iter to improve the fit.\n",
      "  warnings.warn(\n"
     ]
    },
    {
     "name": "stdout",
     "output_type": "stream",
     "text": [
      "f1 score: 0.8076647564469913\n"
     ]
    }
   ],
   "source": [
    "y_pred = mod.cross_val_predict(pipe_sgd,X_train,y_train_5,cv = skf)\n",
    "print(\"f1 score:\",met.f1_score(y_train_5,y_pred))"
   ]
  },
  {
   "cell_type": "code",
   "execution_count": 32,
   "id": "804ab75b",
   "metadata": {},
   "outputs": [],
   "source": [
    "params = {\n",
    "     \"undersampler__sampling_strategy\":[0.15,0.25,0.5],\n",
    "     \"sgd_clf__alpha\": [0.0001, 0.001,0.01,0.1]\n",
    "     }\n"
   ]
  },
  {
   "cell_type": "code",
   "execution_count": 34,
   "id": "86723b31",
   "metadata": {
    "collapsed": true
   },
   "outputs": [
    {
     "ename": "AttributeError",
     "evalue": "'GridSearchCV' object has no attribute 'best_score__'",
     "output_type": "error",
     "traceback": [
      "\u001b[1;31m---------------------------------------------------------------------------\u001b[0m",
      "\u001b[1;31mAttributeError\u001b[0m                            Traceback (most recent call last)",
      "Input \u001b[1;32mIn [34]\u001b[0m, in \u001b[0;36m<cell line: 3>\u001b[1;34m()\u001b[0m\n\u001b[0;32m      1\u001b[0m grid \u001b[38;5;241m=\u001b[39m mod\u001b[38;5;241m.\u001b[39mGridSearchCV(pipe_sgd,params,scoring \u001b[38;5;241m=\u001b[39m \u001b[38;5;124m\"\u001b[39m\u001b[38;5;124mf1\u001b[39m\u001b[38;5;124m\"\u001b[39m,cv \u001b[38;5;241m=\u001b[39m skf,n_jobs \u001b[38;5;241m=\u001b[39m \u001b[38;5;241m-\u001b[39m\u001b[38;5;241m1\u001b[39m)\n\u001b[0;32m      2\u001b[0m grid\u001b[38;5;241m.\u001b[39mfit(X_train,y_train_5)\n\u001b[1;32m----> 3\u001b[0m \u001b[38;5;28mprint\u001b[39m(\u001b[43mgrid\u001b[49m\u001b[38;5;241;43m.\u001b[39;49m\u001b[43mbest_score__\u001b[49m)\n\u001b[0;32m      4\u001b[0m \u001b[38;5;28mprint\u001b[39m(grid\u001b[38;5;241m.\u001b[39mbest_params_)\n\u001b[0;32m      5\u001b[0m y_pred \u001b[38;5;241m=\u001b[39m grid\u001b[38;5;241m.\u001b[39mbest_estimator_\u001b[38;5;241m.\u001b[39mpredict(X_test)\n",
      "\u001b[1;31mAttributeError\u001b[0m: 'GridSearchCV' object has no attribute 'best_score__'"
     ]
    }
   ],
   "source": [
    "grid = mod.GridSearchCV(pipe_sgd,params,scoring = \"f1\",cv = skf,n_jobs = -1)\n",
    "grid.fit(X_train,y_train_5)"
   ]
  },
  {
   "cell_type": "code",
   "execution_count": 36,
   "id": "66d949eb",
   "metadata": {},
   "outputs": [
    {
     "name": "stdout",
     "output_type": "stream",
     "text": [
      "0.8263877419801794\n",
      "{'sgd_clf__alpha': 0.0001, 'undersampler__sampling_strategy': 0.15}\n",
      "0.8305263157894737\n"
     ]
    }
   ],
   "source": [
    "print(grid.best_score_)\n",
    "print(grid.best_params_)\n",
    "y_pred = grid.best_estimator_.predict(X_test)\n",
    "print(met.f1_score(y_test_5,y_pred))"
   ]
  },
  {
   "cell_type": "code",
   "execution_count": null,
   "id": "160d01bb",
   "metadata": {},
   "outputs": [],
   "source": [
    "# RandomOverSampler can cause overfitting.\n",
    "# TomekLinks : An undersampling method. Checks all the points in the data, finds the closest point to that point, each of these points has to be closest ones to each other. \n",
    "# These are called as tomeklinks. Also these two points should belong to different classes. Finding tomeklikns and deleting the one belonging to majority class or deleting both of them. It can be used as a data cleaning technique.  \n",
    "# Classlar arasındaki overlap'i azaltmak için clustering de. Oran vermiyoruz burda. Çok çıkmıyor zaten."
   ]
  },
  {
   "cell_type": "code",
   "execution_count": 39,
   "id": "54fda9b6",
   "metadata": {},
   "outputs": [],
   "source": [
    "sampler = und.TomekLinks() #does not delete from minority class. You have to scale the data since you are using a distance metric.\n"
   ]
  },
  {
   "cell_type": "code",
   "execution_count": 40,
   "id": "30b88924",
   "metadata": {},
   "outputs": [
    {
     "data": {
      "text/html": [
       "<style>#sk-container-id-2 {color: black;background-color: white;}#sk-container-id-2 pre{padding: 0;}#sk-container-id-2 div.sk-toggleable {background-color: white;}#sk-container-id-2 label.sk-toggleable__label {cursor: pointer;display: block;width: 100%;margin-bottom: 0;padding: 0.3em;box-sizing: border-box;text-align: center;}#sk-container-id-2 label.sk-toggleable__label-arrow:before {content: \"▸\";float: left;margin-right: 0.25em;color: #696969;}#sk-container-id-2 label.sk-toggleable__label-arrow:hover:before {color: black;}#sk-container-id-2 div.sk-estimator:hover label.sk-toggleable__label-arrow:before {color: black;}#sk-container-id-2 div.sk-toggleable__content {max-height: 0;max-width: 0;overflow: hidden;text-align: left;background-color: #f0f8ff;}#sk-container-id-2 div.sk-toggleable__content pre {margin: 0.2em;color: black;border-radius: 0.25em;background-color: #f0f8ff;}#sk-container-id-2 input.sk-toggleable__control:checked~div.sk-toggleable__content {max-height: 200px;max-width: 100%;overflow: auto;}#sk-container-id-2 input.sk-toggleable__control:checked~label.sk-toggleable__label-arrow:before {content: \"▾\";}#sk-container-id-2 div.sk-estimator input.sk-toggleable__control:checked~label.sk-toggleable__label {background-color: #d4ebff;}#sk-container-id-2 div.sk-label input.sk-toggleable__control:checked~label.sk-toggleable__label {background-color: #d4ebff;}#sk-container-id-2 input.sk-hidden--visually {border: 0;clip: rect(1px 1px 1px 1px);clip: rect(1px, 1px, 1px, 1px);height: 1px;margin: -1px;overflow: hidden;padding: 0;position: absolute;width: 1px;}#sk-container-id-2 div.sk-estimator {font-family: monospace;background-color: #f0f8ff;border: 1px dotted black;border-radius: 0.25em;box-sizing: border-box;margin-bottom: 0.5em;}#sk-container-id-2 div.sk-estimator:hover {background-color: #d4ebff;}#sk-container-id-2 div.sk-parallel-item::after {content: \"\";width: 100%;border-bottom: 1px solid gray;flex-grow: 1;}#sk-container-id-2 div.sk-label:hover label.sk-toggleable__label {background-color: #d4ebff;}#sk-container-id-2 div.sk-serial::before {content: \"\";position: absolute;border-left: 1px solid gray;box-sizing: border-box;top: 0;bottom: 0;left: 50%;z-index: 0;}#sk-container-id-2 div.sk-serial {display: flex;flex-direction: column;align-items: center;background-color: white;padding-right: 0.2em;padding-left: 0.2em;position: relative;}#sk-container-id-2 div.sk-item {position: relative;z-index: 1;}#sk-container-id-2 div.sk-parallel {display: flex;align-items: stretch;justify-content: center;background-color: white;position: relative;}#sk-container-id-2 div.sk-item::before, #sk-container-id-2 div.sk-parallel-item::before {content: \"\";position: absolute;border-left: 1px solid gray;box-sizing: border-box;top: 0;bottom: 0;left: 50%;z-index: -1;}#sk-container-id-2 div.sk-parallel-item {display: flex;flex-direction: column;z-index: 1;position: relative;background-color: white;}#sk-container-id-2 div.sk-parallel-item:first-child::after {align-self: flex-end;width: 50%;}#sk-container-id-2 div.sk-parallel-item:last-child::after {align-self: flex-start;width: 50%;}#sk-container-id-2 div.sk-parallel-item:only-child::after {width: 0;}#sk-container-id-2 div.sk-dashed-wrapped {border: 1px dashed gray;margin: 0 0.4em 0.5em 0.4em;box-sizing: border-box;padding-bottom: 0.4em;background-color: white;}#sk-container-id-2 div.sk-label label {font-family: monospace;font-weight: bold;display: inline-block;line-height: 1.2em;}#sk-container-id-2 div.sk-label-container {text-align: center;}#sk-container-id-2 div.sk-container {/* jupyter's `normalize.less` sets `[hidden] { display: none; }` but bootstrap.min.css set `[hidden] { display: none !important; }` so we also need the `!important` here to be able to override the default hidden behavior on the sphinx rendered scikit-learn.org. See: https://github.com/scikit-learn/scikit-learn/issues/21755 */display: inline-block !important;position: relative;}#sk-container-id-2 div.sk-text-repr-fallback {display: none;}</style><div id=\"sk-container-id-2\" class=\"sk-top-container\"><div class=\"sk-text-repr-fallback\"><pre>TomekLinks()</pre><b>In a Jupyter environment, please rerun this cell to show the HTML representation or trust the notebook. <br />On GitHub, the HTML representation is unable to render, please try loading this page with nbviewer.org.</b></div><div class=\"sk-container\" hidden><div class=\"sk-item\"><div class=\"sk-estimator sk-toggleable\"><input class=\"sk-toggleable__control sk-hidden--visually\" id=\"sk-estimator-id-5\" type=\"checkbox\" checked><label for=\"sk-estimator-id-5\" class=\"sk-toggleable__label sk-toggleable__label-arrow\">TomekLinks</label><div class=\"sk-toggleable__content\"><pre>TomekLinks()</pre></div></div></div></div></div>"
      ],
      "text/plain": [
       "TomekLinks()"
      ]
     },
     "execution_count": 40,
     "metadata": {},
     "output_type": "execute_result"
    }
   ],
   "source": [
    "sampler"
   ]
  },
  {
   "cell_type": "code",
   "execution_count": null,
   "id": "439b5f30",
   "metadata": {},
   "outputs": [],
   "source": [
    "# SMOTE : An oversampling method and it is the most used one. Synthetic Minority Oversampling Technique.\n",
    "# k_neighbors = 5. Chooses a random point from the minority class  and finds the closest k neighbors to that point, determines the center point of these k closest points and produces a new point to the data. It finds the closest points with knn and therefore it can work slower compared to others.\n"
   ]
  },
  {
   "cell_type": "code",
   "execution_count": 41,
   "id": "07f89758",
   "metadata": {},
   "outputs": [],
   "source": [
    "pipe_sgd = imb.Pipeline([\n",
    "     (\"scaler\",pre.StandardScaler()),\n",
    "     (\"smote\",over.SMOTE(sampling_strategy = 0.25,random_state = 42,k_neighbors = 5)), \n",
    "     (\"sgd_clf\",lin.SGDClassifier(random_state = 42))])\n"
   ]
  },
  {
   "cell_type": "code",
   "execution_count": 42,
   "id": "20cd1fb8",
   "metadata": {},
   "outputs": [
    {
     "data": {
      "text/html": [
       "<style>#sk-container-id-3 {color: black;background-color: white;}#sk-container-id-3 pre{padding: 0;}#sk-container-id-3 div.sk-toggleable {background-color: white;}#sk-container-id-3 label.sk-toggleable__label {cursor: pointer;display: block;width: 100%;margin-bottom: 0;padding: 0.3em;box-sizing: border-box;text-align: center;}#sk-container-id-3 label.sk-toggleable__label-arrow:before {content: \"▸\";float: left;margin-right: 0.25em;color: #696969;}#sk-container-id-3 label.sk-toggleable__label-arrow:hover:before {color: black;}#sk-container-id-3 div.sk-estimator:hover label.sk-toggleable__label-arrow:before {color: black;}#sk-container-id-3 div.sk-toggleable__content {max-height: 0;max-width: 0;overflow: hidden;text-align: left;background-color: #f0f8ff;}#sk-container-id-3 div.sk-toggleable__content pre {margin: 0.2em;color: black;border-radius: 0.25em;background-color: #f0f8ff;}#sk-container-id-3 input.sk-toggleable__control:checked~div.sk-toggleable__content {max-height: 200px;max-width: 100%;overflow: auto;}#sk-container-id-3 input.sk-toggleable__control:checked~label.sk-toggleable__label-arrow:before {content: \"▾\";}#sk-container-id-3 div.sk-estimator input.sk-toggleable__control:checked~label.sk-toggleable__label {background-color: #d4ebff;}#sk-container-id-3 div.sk-label input.sk-toggleable__control:checked~label.sk-toggleable__label {background-color: #d4ebff;}#sk-container-id-3 input.sk-hidden--visually {border: 0;clip: rect(1px 1px 1px 1px);clip: rect(1px, 1px, 1px, 1px);height: 1px;margin: -1px;overflow: hidden;padding: 0;position: absolute;width: 1px;}#sk-container-id-3 div.sk-estimator {font-family: monospace;background-color: #f0f8ff;border: 1px dotted black;border-radius: 0.25em;box-sizing: border-box;margin-bottom: 0.5em;}#sk-container-id-3 div.sk-estimator:hover {background-color: #d4ebff;}#sk-container-id-3 div.sk-parallel-item::after {content: \"\";width: 100%;border-bottom: 1px solid gray;flex-grow: 1;}#sk-container-id-3 div.sk-label:hover label.sk-toggleable__label {background-color: #d4ebff;}#sk-container-id-3 div.sk-serial::before {content: \"\";position: absolute;border-left: 1px solid gray;box-sizing: border-box;top: 0;bottom: 0;left: 50%;z-index: 0;}#sk-container-id-3 div.sk-serial {display: flex;flex-direction: column;align-items: center;background-color: white;padding-right: 0.2em;padding-left: 0.2em;position: relative;}#sk-container-id-3 div.sk-item {position: relative;z-index: 1;}#sk-container-id-3 div.sk-parallel {display: flex;align-items: stretch;justify-content: center;background-color: white;position: relative;}#sk-container-id-3 div.sk-item::before, #sk-container-id-3 div.sk-parallel-item::before {content: \"\";position: absolute;border-left: 1px solid gray;box-sizing: border-box;top: 0;bottom: 0;left: 50%;z-index: -1;}#sk-container-id-3 div.sk-parallel-item {display: flex;flex-direction: column;z-index: 1;position: relative;background-color: white;}#sk-container-id-3 div.sk-parallel-item:first-child::after {align-self: flex-end;width: 50%;}#sk-container-id-3 div.sk-parallel-item:last-child::after {align-self: flex-start;width: 50%;}#sk-container-id-3 div.sk-parallel-item:only-child::after {width: 0;}#sk-container-id-3 div.sk-dashed-wrapped {border: 1px dashed gray;margin: 0 0.4em 0.5em 0.4em;box-sizing: border-box;padding-bottom: 0.4em;background-color: white;}#sk-container-id-3 div.sk-label label {font-family: monospace;font-weight: bold;display: inline-block;line-height: 1.2em;}#sk-container-id-3 div.sk-label-container {text-align: center;}#sk-container-id-3 div.sk-container {/* jupyter's `normalize.less` sets `[hidden] { display: none; }` but bootstrap.min.css set `[hidden] { display: none !important; }` so we also need the `!important` here to be able to override the default hidden behavior on the sphinx rendered scikit-learn.org. See: https://github.com/scikit-learn/scikit-learn/issues/21755 */display: inline-block !important;position: relative;}#sk-container-id-3 div.sk-text-repr-fallback {display: none;}</style><div id=\"sk-container-id-3\" class=\"sk-top-container\"><div class=\"sk-text-repr-fallback\"><pre>Pipeline(steps=[(&#x27;scaler&#x27;, StandardScaler()),\n",
       "                (&#x27;smote&#x27;, SMOTE(random_state=42, sampling_strategy=0.25)),\n",
       "                (&#x27;sgd_clf&#x27;, SGDClassifier(random_state=42))])</pre><b>In a Jupyter environment, please rerun this cell to show the HTML representation or trust the notebook. <br />On GitHub, the HTML representation is unable to render, please try loading this page with nbviewer.org.</b></div><div class=\"sk-container\" hidden><div class=\"sk-item sk-dashed-wrapped\"><div class=\"sk-label-container\"><div class=\"sk-label sk-toggleable\"><input class=\"sk-toggleable__control sk-hidden--visually\" id=\"sk-estimator-id-6\" type=\"checkbox\" ><label for=\"sk-estimator-id-6\" class=\"sk-toggleable__label sk-toggleable__label-arrow\">Pipeline</label><div class=\"sk-toggleable__content\"><pre>Pipeline(steps=[(&#x27;scaler&#x27;, StandardScaler()),\n",
       "                (&#x27;smote&#x27;, SMOTE(random_state=42, sampling_strategy=0.25)),\n",
       "                (&#x27;sgd_clf&#x27;, SGDClassifier(random_state=42))])</pre></div></div></div><div class=\"sk-serial\"><div class=\"sk-item\"><div class=\"sk-estimator sk-toggleable\"><input class=\"sk-toggleable__control sk-hidden--visually\" id=\"sk-estimator-id-7\" type=\"checkbox\" ><label for=\"sk-estimator-id-7\" class=\"sk-toggleable__label sk-toggleable__label-arrow\">StandardScaler</label><div class=\"sk-toggleable__content\"><pre>StandardScaler()</pre></div></div></div><div class=\"sk-item\"><div class=\"sk-estimator sk-toggleable\"><input class=\"sk-toggleable__control sk-hidden--visually\" id=\"sk-estimator-id-8\" type=\"checkbox\" ><label for=\"sk-estimator-id-8\" class=\"sk-toggleable__label sk-toggleable__label-arrow\">SMOTE</label><div class=\"sk-toggleable__content\"><pre>SMOTE(random_state=42, sampling_strategy=0.25)</pre></div></div></div><div class=\"sk-item\"><div class=\"sk-estimator sk-toggleable\"><input class=\"sk-toggleable__control sk-hidden--visually\" id=\"sk-estimator-id-9\" type=\"checkbox\" ><label for=\"sk-estimator-id-9\" class=\"sk-toggleable__label sk-toggleable__label-arrow\">SGDClassifier</label><div class=\"sk-toggleable__content\"><pre>SGDClassifier(random_state=42)</pre></div></div></div></div></div></div></div>"
      ],
      "text/plain": [
       "Pipeline(steps=[('scaler', StandardScaler()),\n",
       "                ('smote', SMOTE(random_state=42, sampling_strategy=0.25)),\n",
       "                ('sgd_clf', SGDClassifier(random_state=42))])"
      ]
     },
     "execution_count": 42,
     "metadata": {},
     "output_type": "execute_result"
    }
   ],
   "source": [
    "pipe_sgd.fit(X_train,y_train_5)"
   ]
  },
  {
   "cell_type": "code",
   "execution_count": 43,
   "id": "7f17dc33",
   "metadata": {},
   "outputs": [
    {
     "data": {
      "text/plain": [
       "0.8253886636350217"
      ]
     },
     "execution_count": 43,
     "metadata": {},
     "output_type": "execute_result"
    }
   ],
   "source": [
    "mod.cross_val_score(pipe_sgd,X_train,y_train_5,cv=skf,scoring = \"f1\").mean()"
   ]
  },
  {
   "cell_type": "code",
   "execution_count": null,
   "id": "9af9ba0c",
   "metadata": {},
   "outputs": [],
   "source": [
    "#Combining Under/Over Sampling:\n",
    "# SMOTETomek\n",
    "# SMOTEENN : Edited Nearest Neighbour. Finds 3 closest points to a point. if two of them belong to different class it tends to delete. Generally it tends to delete a point. Tries to increase minority while decreasing majority class. \n",
    "# Slows fast.\n"
   ]
  },
  {
   "cell_type": "code",
   "execution_count": 44,
   "id": "a4d86f57",
   "metadata": {},
   "outputs": [],
   "source": [
    "pipe_sgd = imb.Pipeline([\n",
    "     (\"scaler\",pre.StandardScaler()),\n",
    "     (\"smoteenn\",com.SMOTEENN(sampling_strategy = 0.25,random_state = 42)),\n",
    "     (\"sgd_clf\",lin.SGDClassifier(random_state = 42))])\n"
   ]
  },
  {
   "cell_type": "code",
   "execution_count": 45,
   "id": "1df2c453",
   "metadata": {},
   "outputs": [
    {
     "data": {
      "text/plain": [
       "0.8193828973454226"
      ]
     },
     "execution_count": 45,
     "metadata": {},
     "output_type": "execute_result"
    }
   ],
   "source": [
    "mod.cross_val_score(pipe_sgd,X_train,y_train_5,cv=skf,scoring = \"f1\").mean()"
   ]
  },
  {
   "cell_type": "code",
   "execution_count": 46,
   "id": "af270263",
   "metadata": {},
   "outputs": [
    {
     "data": {
      "text/html": [
       "<style>#sk-container-id-4 {color: black;background-color: white;}#sk-container-id-4 pre{padding: 0;}#sk-container-id-4 div.sk-toggleable {background-color: white;}#sk-container-id-4 label.sk-toggleable__label {cursor: pointer;display: block;width: 100%;margin-bottom: 0;padding: 0.3em;box-sizing: border-box;text-align: center;}#sk-container-id-4 label.sk-toggleable__label-arrow:before {content: \"▸\";float: left;margin-right: 0.25em;color: #696969;}#sk-container-id-4 label.sk-toggleable__label-arrow:hover:before {color: black;}#sk-container-id-4 div.sk-estimator:hover label.sk-toggleable__label-arrow:before {color: black;}#sk-container-id-4 div.sk-toggleable__content {max-height: 0;max-width: 0;overflow: hidden;text-align: left;background-color: #f0f8ff;}#sk-container-id-4 div.sk-toggleable__content pre {margin: 0.2em;color: black;border-radius: 0.25em;background-color: #f0f8ff;}#sk-container-id-4 input.sk-toggleable__control:checked~div.sk-toggleable__content {max-height: 200px;max-width: 100%;overflow: auto;}#sk-container-id-4 input.sk-toggleable__control:checked~label.sk-toggleable__label-arrow:before {content: \"▾\";}#sk-container-id-4 div.sk-estimator input.sk-toggleable__control:checked~label.sk-toggleable__label {background-color: #d4ebff;}#sk-container-id-4 div.sk-label input.sk-toggleable__control:checked~label.sk-toggleable__label {background-color: #d4ebff;}#sk-container-id-4 input.sk-hidden--visually {border: 0;clip: rect(1px 1px 1px 1px);clip: rect(1px, 1px, 1px, 1px);height: 1px;margin: -1px;overflow: hidden;padding: 0;position: absolute;width: 1px;}#sk-container-id-4 div.sk-estimator {font-family: monospace;background-color: #f0f8ff;border: 1px dotted black;border-radius: 0.25em;box-sizing: border-box;margin-bottom: 0.5em;}#sk-container-id-4 div.sk-estimator:hover {background-color: #d4ebff;}#sk-container-id-4 div.sk-parallel-item::after {content: \"\";width: 100%;border-bottom: 1px solid gray;flex-grow: 1;}#sk-container-id-4 div.sk-label:hover label.sk-toggleable__label {background-color: #d4ebff;}#sk-container-id-4 div.sk-serial::before {content: \"\";position: absolute;border-left: 1px solid gray;box-sizing: border-box;top: 0;bottom: 0;left: 50%;z-index: 0;}#sk-container-id-4 div.sk-serial {display: flex;flex-direction: column;align-items: center;background-color: white;padding-right: 0.2em;padding-left: 0.2em;position: relative;}#sk-container-id-4 div.sk-item {position: relative;z-index: 1;}#sk-container-id-4 div.sk-parallel {display: flex;align-items: stretch;justify-content: center;background-color: white;position: relative;}#sk-container-id-4 div.sk-item::before, #sk-container-id-4 div.sk-parallel-item::before {content: \"\";position: absolute;border-left: 1px solid gray;box-sizing: border-box;top: 0;bottom: 0;left: 50%;z-index: -1;}#sk-container-id-4 div.sk-parallel-item {display: flex;flex-direction: column;z-index: 1;position: relative;background-color: white;}#sk-container-id-4 div.sk-parallel-item:first-child::after {align-self: flex-end;width: 50%;}#sk-container-id-4 div.sk-parallel-item:last-child::after {align-self: flex-start;width: 50%;}#sk-container-id-4 div.sk-parallel-item:only-child::after {width: 0;}#sk-container-id-4 div.sk-dashed-wrapped {border: 1px dashed gray;margin: 0 0.4em 0.5em 0.4em;box-sizing: border-box;padding-bottom: 0.4em;background-color: white;}#sk-container-id-4 div.sk-label label {font-family: monospace;font-weight: bold;display: inline-block;line-height: 1.2em;}#sk-container-id-4 div.sk-label-container {text-align: center;}#sk-container-id-4 div.sk-container {/* jupyter's `normalize.less` sets `[hidden] { display: none; }` but bootstrap.min.css set `[hidden] { display: none !important; }` so we also need the `!important` here to be able to override the default hidden behavior on the sphinx rendered scikit-learn.org. See: https://github.com/scikit-learn/scikit-learn/issues/21755 */display: inline-block !important;position: relative;}#sk-container-id-4 div.sk-text-repr-fallback {display: none;}</style><div id=\"sk-container-id-4\" class=\"sk-top-container\"><div class=\"sk-text-repr-fallback\"><pre>SGDClassifier(class_weight=&#x27;balanced&#x27;, random_state=42)</pre><b>In a Jupyter environment, please rerun this cell to show the HTML representation or trust the notebook. <br />On GitHub, the HTML representation is unable to render, please try loading this page with nbviewer.org.</b></div><div class=\"sk-container\" hidden><div class=\"sk-item\"><div class=\"sk-estimator sk-toggleable\"><input class=\"sk-toggleable__control sk-hidden--visually\" id=\"sk-estimator-id-10\" type=\"checkbox\" checked><label for=\"sk-estimator-id-10\" class=\"sk-toggleable__label sk-toggleable__label-arrow\">SGDClassifier</label><div class=\"sk-toggleable__content\"><pre>SGDClassifier(class_weight=&#x27;balanced&#x27;, random_state=42)</pre></div></div></div></div></div>"
      ],
      "text/plain": [
       "SGDClassifier(class_weight='balanced', random_state=42)"
      ]
     },
     "execution_count": 46,
     "metadata": {},
     "output_type": "execute_result"
    }
   ],
   "source": [
    "lin.SGDClassifier(random_state = 42,class_weight = \"balanced\")\n",
    "# You can also use the hyperparameters in the models to solve the imbalance problem.\n",
    "# class_weight = {0:1,1:5} it is related to the coefficients in the loss function.\n",
    "# it determines how sensitive you are for the incorrect prediction in different classes.\n",
    "# 1 is the minority class.\n",
    " "
   ]
  },
  {
   "cell_type": "code",
   "execution_count": 47,
   "id": "39dc221f",
   "metadata": {},
   "outputs": [
    {
     "data": {
      "text/plain": [
       "(13233, 2914)"
      ]
     },
     "execution_count": 47,
     "metadata": {},
     "output_type": "execute_result"
    }
   ],
   "source": [
    "people = dat.fetch_lfw_people()\n",
    " \n",
    "X = people.data \n",
    "y = people.target\n",
    "\n",
    "X.shape"
   ]
  },
  {
   "cell_type": "code",
   "execution_count": 48,
   "id": "6c1b0df9",
   "metadata": {},
   "outputs": [
    {
     "data": {
      "text/html": [
       "<div>\n",
       "<style scoped>\n",
       "    .dataframe tbody tr th:only-of-type {\n",
       "        vertical-align: middle;\n",
       "    }\n",
       "\n",
       "    .dataframe tbody tr th {\n",
       "        vertical-align: top;\n",
       "    }\n",
       "\n",
       "    .dataframe thead th {\n",
       "        text-align: right;\n",
       "    }\n",
       "</style>\n",
       "<table border=\"1\" class=\"dataframe\">\n",
       "  <thead>\n",
       "    <tr style=\"text-align: right;\">\n",
       "      <th></th>\n",
       "      <th>0</th>\n",
       "      <th>1</th>\n",
       "      <th>2</th>\n",
       "      <th>3</th>\n",
       "      <th>4</th>\n",
       "      <th>5</th>\n",
       "      <th>6</th>\n",
       "      <th>7</th>\n",
       "      <th>8</th>\n",
       "      <th>9</th>\n",
       "      <th>...</th>\n",
       "      <th>2905</th>\n",
       "      <th>2906</th>\n",
       "      <th>2907</th>\n",
       "      <th>2908</th>\n",
       "      <th>2909</th>\n",
       "      <th>2910</th>\n",
       "      <th>2911</th>\n",
       "      <th>2912</th>\n",
       "      <th>2913</th>\n",
       "      <th>y</th>\n",
       "    </tr>\n",
       "  </thead>\n",
       "  <tbody>\n",
       "    <tr>\n",
       "      <th>0</th>\n",
       "      <td>0.000000</td>\n",
       "      <td>0.000000</td>\n",
       "      <td>0.000000</td>\n",
       "      <td>0.000000</td>\n",
       "      <td>0.000000</td>\n",
       "      <td>0.000000</td>\n",
       "      <td>0.000000</td>\n",
       "      <td>0.000000</td>\n",
       "      <td>0.000000</td>\n",
       "      <td>0.000000</td>\n",
       "      <td>...</td>\n",
       "      <td>0.030065</td>\n",
       "      <td>0.030065</td>\n",
       "      <td>0.030065</td>\n",
       "      <td>0.030065</td>\n",
       "      <td>0.030065</td>\n",
       "      <td>0.026144</td>\n",
       "      <td>0.030065</td>\n",
       "      <td>0.030065</td>\n",
       "      <td>0.028758</td>\n",
       "      <td>5360</td>\n",
       "    </tr>\n",
       "    <tr>\n",
       "      <th>1</th>\n",
       "      <td>0.000000</td>\n",
       "      <td>0.000000</td>\n",
       "      <td>0.000000</td>\n",
       "      <td>0.000000</td>\n",
       "      <td>0.000000</td>\n",
       "      <td>0.000000</td>\n",
       "      <td>0.000000</td>\n",
       "      <td>0.000000</td>\n",
       "      <td>0.000000</td>\n",
       "      <td>0.000000</td>\n",
       "      <td>...</td>\n",
       "      <td>0.000000</td>\n",
       "      <td>0.000000</td>\n",
       "      <td>0.000000</td>\n",
       "      <td>0.000000</td>\n",
       "      <td>0.000000</td>\n",
       "      <td>0.000000</td>\n",
       "      <td>0.000000</td>\n",
       "      <td>0.000000</td>\n",
       "      <td>0.000000</td>\n",
       "      <td>3434</td>\n",
       "    </tr>\n",
       "    <tr>\n",
       "      <th>2</th>\n",
       "      <td>0.000000</td>\n",
       "      <td>0.000000</td>\n",
       "      <td>0.000000</td>\n",
       "      <td>0.000000</td>\n",
       "      <td>0.000000</td>\n",
       "      <td>0.000000</td>\n",
       "      <td>0.000000</td>\n",
       "      <td>0.000000</td>\n",
       "      <td>0.000000</td>\n",
       "      <td>0.001307</td>\n",
       "      <td>...</td>\n",
       "      <td>0.547712</td>\n",
       "      <td>0.539869</td>\n",
       "      <td>0.524183</td>\n",
       "      <td>0.537255</td>\n",
       "      <td>0.539869</td>\n",
       "      <td>0.529412</td>\n",
       "      <td>0.522876</td>\n",
       "      <td>0.518954</td>\n",
       "      <td>0.149020</td>\n",
       "      <td>3807</td>\n",
       "    </tr>\n",
       "    <tr>\n",
       "      <th>3</th>\n",
       "      <td>0.044444</td>\n",
       "      <td>0.056209</td>\n",
       "      <td>0.052288</td>\n",
       "      <td>0.056209</td>\n",
       "      <td>0.056209</td>\n",
       "      <td>0.054902</td>\n",
       "      <td>0.052288</td>\n",
       "      <td>0.052288</td>\n",
       "      <td>0.052288</td>\n",
       "      <td>0.052288</td>\n",
       "      <td>...</td>\n",
       "      <td>0.167320</td>\n",
       "      <td>0.155556</td>\n",
       "      <td>0.156863</td>\n",
       "      <td>0.184314</td>\n",
       "      <td>0.202614</td>\n",
       "      <td>0.173856</td>\n",
       "      <td>0.152941</td>\n",
       "      <td>0.193464</td>\n",
       "      <td>0.228758</td>\n",
       "      <td>26</td>\n",
       "    </tr>\n",
       "    <tr>\n",
       "      <th>4</th>\n",
       "      <td>0.465360</td>\n",
       "      <td>0.416993</td>\n",
       "      <td>0.447059</td>\n",
       "      <td>0.498039</td>\n",
       "      <td>0.504575</td>\n",
       "      <td>0.501961</td>\n",
       "      <td>0.513726</td>\n",
       "      <td>0.500654</td>\n",
       "      <td>0.491503</td>\n",
       "      <td>0.491503</td>\n",
       "      <td>...</td>\n",
       "      <td>0.385621</td>\n",
       "      <td>0.466667</td>\n",
       "      <td>0.495425</td>\n",
       "      <td>0.487582</td>\n",
       "      <td>0.529412</td>\n",
       "      <td>0.518954</td>\n",
       "      <td>0.466667</td>\n",
       "      <td>0.398693</td>\n",
       "      <td>0.256209</td>\n",
       "      <td>3957</td>\n",
       "    </tr>\n",
       "  </tbody>\n",
       "</table>\n",
       "<p>5 rows × 2915 columns</p>\n",
       "</div>"
      ],
      "text/plain": [
       "          0         1         2         3         4         5         6  \\\n",
       "0  0.000000  0.000000  0.000000  0.000000  0.000000  0.000000  0.000000   \n",
       "1  0.000000  0.000000  0.000000  0.000000  0.000000  0.000000  0.000000   \n",
       "2  0.000000  0.000000  0.000000  0.000000  0.000000  0.000000  0.000000   \n",
       "3  0.044444  0.056209  0.052288  0.056209  0.056209  0.054902  0.052288   \n",
       "4  0.465360  0.416993  0.447059  0.498039  0.504575  0.501961  0.513726   \n",
       "\n",
       "          7         8         9  ...      2905      2906      2907      2908  \\\n",
       "0  0.000000  0.000000  0.000000  ...  0.030065  0.030065  0.030065  0.030065   \n",
       "1  0.000000  0.000000  0.000000  ...  0.000000  0.000000  0.000000  0.000000   \n",
       "2  0.000000  0.000000  0.001307  ...  0.547712  0.539869  0.524183  0.537255   \n",
       "3  0.052288  0.052288  0.052288  ...  0.167320  0.155556  0.156863  0.184314   \n",
       "4  0.500654  0.491503  0.491503  ...  0.385621  0.466667  0.495425  0.487582   \n",
       "\n",
       "       2909      2910      2911      2912      2913     y  \n",
       "0  0.030065  0.026144  0.030065  0.030065  0.028758  5360  \n",
       "1  0.000000  0.000000  0.000000  0.000000  0.000000  3434  \n",
       "2  0.539869  0.529412  0.522876  0.518954  0.149020  3807  \n",
       "3  0.202614  0.173856  0.152941  0.193464  0.228758    26  \n",
       "4  0.529412  0.518954  0.466667  0.398693  0.256209  3957  \n",
       "\n",
       "[5 rows x 2915 columns]"
      ]
     },
     "execution_count": 48,
     "metadata": {},
     "output_type": "execute_result"
    }
   ],
   "source": [
    "data = pd.DataFrame(X)\n",
    "data[\"y\"] = y\n",
    "data.head()"
   ]
  },
  {
   "cell_type": "code",
   "execution_count": 49,
   "id": "569bb330",
   "metadata": {},
   "outputs": [],
   "source": [
    "bush_id = 1871\n",
    "clinton_id = 531"
   ]
  },
  {
   "cell_type": "code",
   "execution_count": 50,
   "id": "6441ffc7",
   "metadata": {},
   "outputs": [
    {
     "name": "stderr",
     "output_type": "stream",
     "text": [
      "C:\\Users\\ugury\\AppData\\Local\\Temp\\ipykernel_3288\\368140467.py:3: SettingWithCopyWarning: \n",
      "A value is trying to be set on a copy of a slice from a DataFrame.\n",
      "Try using .loc[row_indexer,col_indexer] = value instead\n",
      "\n",
      "See the caveats in the documentation: https://pandas.pydata.org/pandas-docs/stable/user_guide/indexing.html#returning-a-view-versus-a-copy\n",
      "  bush_data[\"y\"] = 0\n",
      "C:\\Users\\ugury\\AppData\\Local\\Temp\\ipykernel_3288\\368140467.py:4: SettingWithCopyWarning: \n",
      "A value is trying to be set on a copy of a slice from a DataFrame.\n",
      "Try using .loc[row_indexer,col_indexer] = value instead\n",
      "\n",
      "See the caveats in the documentation: https://pandas.pydata.org/pandas-docs/stable/user_guide/indexing.html#returning-a-view-versus-a-copy\n",
      "  clinton_data[\"y\"] = 1\n"
     ]
    }
   ],
   "source": [
    "bush_data = data[data.y == bush_id]\n",
    "clinton_data = data[data.y == clinton_id]\n",
    "bush_data[\"y\"] = 0\n",
    "clinton_data[\"y\"] = 1"
   ]
  },
  {
   "cell_type": "code",
   "execution_count": 51,
   "id": "46f0ae60",
   "metadata": {},
   "outputs": [],
   "source": [
    "data = pd.concat((bush_data,clinton_data),axis = 0)\n",
    "X = data.drop(\"y\",axis = 1).values\n",
    "y = data[\"y\"].values"
   ]
  },
  {
   "cell_type": "code",
   "execution_count": 52,
   "id": "119219b5",
   "metadata": {},
   "outputs": [
    {
     "data": {
      "text/plain": [
       "<matplotlib.image.AxesImage at 0x247a7869d00>"
      ]
     },
     "execution_count": 52,
     "metadata": {},
     "output_type": "execute_result"
    },
    {
     "data": {
      "image/png": "[encoded data removed]",
      "text/plain": [
       "<Figure size 432x288 with 1 Axes>"
      ]
     },
     "metadata": {
      "needs_background": "light"
     },
     "output_type": "display_data"
    }
   ],
   "source": [
    "plt.imshow(X[0].reshape(62,47))"
   ]
  },
  {
   "cell_type": "code",
   "execution_count": 53,
   "id": "b0149482",
   "metadata": {},
   "outputs": [
    {
     "data": {
      "text/plain": [
       "<matplotlib.image.AxesImage at 0x247a79c9610>"
      ]
     },
     "execution_count": 53,
     "metadata": {},
     "output_type": "execute_result"
    },
    {
     "data": {
      "image/png": "[encoded data removed]",
      "text/plain": [
       "<Figure size 432x288 with 1 Axes>"
      ]
     },
     "metadata": {
      "needs_background": "light"
     },
     "output_type": "display_data"
    }
   ],
   "source": [
    "plt.imshow(X[-1].reshape(62,47))"
   ]
  },
  {
   "cell_type": "code",
   "execution_count": null,
   "id": "8fa9c686",
   "metadata": {},
   "outputs": [],
   "source": [
    "# I wont distribute the data as train and test since we don't have too much data and the purpose of following is just show case."
   ]
  },
  {
   "cell_type": "code",
   "execution_count": 55,
   "id": "abab6e74",
   "metadata": {},
   "outputs": [],
   "source": [
    "y_scores = mod.cross_val_predict(tree.DecisionTreeClassifier(random_state = 42), X,y,cv=3,method = \"predict_proba\")[:,1]"
   ]
  },
  {
   "cell_type": "code",
   "execution_count": 56,
   "id": "94013b96",
   "metadata": {},
   "outputs": [],
   "source": [
    "fpr,tpr,thresholds = met.roc_curve(y,y_scores)"
   ]
  },
  {
   "cell_type": "code",
   "execution_count": 57,
   "id": "ef4d9e9f",
   "metadata": {},
   "outputs": [
    {
     "name": "stdout",
     "output_type": "stream",
     "text": [
      "Classical: 0.667957059206246\n"
     ]
    },
    {
     "data": {
      "text/plain": [
       "[<matplotlib.lines.Line2D at 0x247a7a45760>]"
      ]
     },
     "execution_count": 57,
     "metadata": {},
     "output_type": "execute_result"
    },
    {
     "data": {
      "image/png": "[encoded data removed]",
      "text/plain": [
       "<Figure size 432x288 with 1 Axes>"
      ]
     },
     "metadata": {
      "needs_background": "light"
     },
     "output_type": "display_data"
    }
   ],
   "source": [
    "print(\"Classical:\", met.roc_auc_score(y,y_scores))\n",
    "plt.plot(fpr,tpr,label = \"classical\")\n",
    "plt.xlabel(\"FPR\")\n",
    "plt.ylabel(\"TPR\")\n",
    "plt.plot([0,1],[0,1],\"r--\")"
   ]
  },
  {
   "cell_type": "code",
   "execution_count": 58,
   "id": "67d6fc96",
   "metadata": {},
   "outputs": [
    {
     "name": "stdout",
     "output_type": "stream",
     "text": [
      "c_weight:balanced 0.6899154196486662\n",
      "c_weight:{0: 1, 1: 10} 0.6353610930383865\n"
     ]
    },
    {
     "data": {
      "image/png": "[encoded data removed]",
      "text/plain": [
       "<Figure size 432x288 with 1 Axes>"
      ]
     },
     "metadata": {
      "needs_background": "light"
     },
     "output_type": "display_data"
    }
   ],
   "source": [
    "for w in [\"balanced\",{0:1,1:10}]:\n",
    "     y_scores = mod.cross_val_predict(tree.DecisionTreeClassifier(random_state = 42,class_weight = w), X,y,cv=3,method = \"predict_proba\")[:,1]\n",
    "\n",
    "     fpr,tpr,thresholds = met.roc_curve(y,y_scores)\n",
    "    \n",
    "     print(\"c_weight:\" + str(w), met.roc_auc_score(y,y_scores))\n",
    "     plt.plot(fpr,tpr,label = \"c_weight\" + str(w))"
   ]
  },
  {
   "cell_type": "code",
   "execution_count": 64,
   "id": "f9440ca7",
   "metadata": {},
   "outputs": [
    {
     "name": "stdout",
     "output_type": "stream",
     "text": [
      "RandomUnderSampler0.25 0.6831489915419648\n",
      "SMOTE0.25 0.6278139232270658\n",
      "TomekLinks0.25 0.667957059206246\n",
      "SMOTEENN0.25 0.7823031880286272\n",
      "RandomUnderSampler0.4 0.671665582303188\n",
      "SMOTE0.4 0.686402081977879\n",
      "TomekLinks0.4 0.667957059206246\n",
      "SMOTEENN0.4 0.6876057254391672\n"
     ]
    },
    {
     "data": {
      "image/png": "[encoded data removed]",
      "text/plain": [
       "<Figure size 432x288 with 1 Axes>"
      ]
     },
     "metadata": {
      "needs_background": "light"
     },
     "output_type": "display_data"
    }
   ],
   "source": [
    "for ratio in [0.25,0.4]:\n",
    "     estimators = [und.RandomUnderSampler(sampling_strategy = ratio,random_state = 42),\n",
    "                   over.SMOTE(sampling_strategy = ratio,random_state = 42,k_neighbors = 5),\n",
    "                   und.TomekLinks(),\n",
    "                   com.SMOTEENN(sampling_strategy = ratio,random_state = 42)]\n",
    "    \n",
    "     for est in estimators:\n",
    "         pipe_dct = imb.Pipeline([\n",
    "             (\"est\", est),\n",
    "             (\"dct\",tree.DecisionTreeClassifier(random_state = 42))\n",
    "             ])\n",
    "        \n",
    "         y_scores = mod.cross_val_predict(pipe_dct, X,y,cv=3,method = \"predict_proba\")[:,1]\n",
    "        \n",
    "         fpr,tpr,thresholds = met.roc_curve(y,y_scores)\n",
    "        \n",
    "         print(est.__class__.__name__ + str(ratio), met.roc_auc_score(y,y_scores))\n",
    "         plt.plot(fpr,tpr,label = est.__class__.__name__ + str(ratio))"
   ]
  }
 ],
 "metadata": {
  "kernelspec": {
   "display_name": "Python 3 (ipykernel)",
   "language": "python",
   "name": "python3"
  },
  "language_info": {
   "codemirror_mode": {
    "name": "ipython",
    "version": 3
   },
   "file_extension": ".py",
   "mimetype": "text/x-python",
   "name": "python",
   "nbconvert_exporter": "python",
   "pygments_lexer": "ipython3",
   "version": "3.9.12"
  }
 },
 "nbformat": 4,
 "nbformat_minor": 5
}
