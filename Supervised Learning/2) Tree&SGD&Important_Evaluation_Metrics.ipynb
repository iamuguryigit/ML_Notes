{
 "cells": [
  {
   "cell_type": "code",
   "execution_count": 16,
   "id": "403d5966",
   "metadata": {},
   "outputs": [],
   "source": [
    "import pandas as pd\n",
    "import numpy as np\n",
    "from matplotlib import pyplot as plt\n",
    "from sklearn import model_selection as mod\n",
    "import seaborn as sns\n",
    "\n",
    "from sklearn import datasets as dat\n",
    "from sklearn import tree\n",
    "from sklearn import metrics as met \n",
    "from sklearn import linear_model as lin\n",
    "from sklearn import preprocessing as pre\n",
    "from sklearn import pipeline as pip\n",
    "from sklearn import ensemble as ens\n",
    "from tensorflow.keras.datasets import mnist\n",
    "\n"
   ]
  },
  {
   "cell_type": "code",
   "execution_count": 18,
   "id": "3189d8ba",
   "metadata": {},
   "outputs": [
    {
     "name": "stdout",
     "output_type": "stream",
     "text": [
      "Downloading data from https://storage.googleapis.com/tensorflow/tf-keras-datasets/mnist.npz\n",
      "11490434/11490434 [==============================] - 5s 0us/step\n"
     ]
    }
   ],
   "source": [
    "data = dat.fetch_openml(\"mnist_784\")\n",
    "#(X_train,y_train),(X_test,y_test) = mnist.load_data()  You can get the data also in this way.\n",
    "X = data.data\n",
    "y = data.target"
   ]
  },
  {
   "cell_type": "code",
   "execution_count": 20,
   "id": "cd8f0b5d",
   "metadata": {},
   "outputs": [],
   "source": [
    "X_train,X_test,y_train,y_test = mod.train_test_split(X,y,test_size = 0.15 , random_state = 42)"
   ]
  },
  {
   "cell_type": "code",
   "execution_count": 23,
   "id": "74aea8b1",
   "metadata": {},
   "outputs": [
    {
     "data": {
      "text/plain": [
       "<AxesSubplot:>"
      ]
     },
     "execution_count": 23,
     "metadata": {},
     "output_type": "execute_result"
    },
    {
     "data": {
      "image/png": "[encoded data removed]",
      "text/plain": [
       "<Figure size 432x288 with 1 Axes>"
      ]
     },
     "metadata": {
      "needs_background": "light"
     },
     "output_type": "display_data"
    }
   ],
   "source": [
    "y_train.value_counts().plot(kind = \"bar\") # is there an imbalance in the target ? "
   ]
  },
  {
   "cell_type": "code",
   "execution_count": 34,
   "id": "bfb92973",
   "metadata": {},
   "outputs": [
    {
     "name": "stdout",
     "output_type": "stream",
     "text": [
      "0.9102016806722689\n"
     ]
    }
   ],
   "source": [
    "y_train_5 = (y_train == '5')\n",
    "y_test_5 = (y_test == '5')\n",
    "base_accuracy = pd.Series(y_train_5).value_counts().max() / pd.Series(y_train_5).value_counts().sum()\n",
    "print(base_accuracy)"
   ]
  },
  {
   "cell_type": "code",
   "execution_count": 38,
   "id": "77c87ea7",
   "metadata": {},
   "outputs": [],
   "source": [
    "tree_clf = tree.DecisionTreeClassifier(random_state = 42)"
   ]
  },
  {
   "cell_type": "code",
   "execution_count": 39,
   "id": "a94a8566",
   "metadata": {},
   "outputs": [
    {
     "data": {
      "text/plain": [
       "0.9730588266212651"
      ]
     },
     "execution_count": 39,
     "metadata": {},
     "output_type": "execute_result"
    }
   ],
   "source": [
    "mod.cross_val_score(tree_clf,X_train,y_train_5,cv=3,scoring = \"accuracy\").mean()\n"
   ]
  },
  {
   "cell_type": "code",
   "execution_count": 40,
   "id": "94ef4946",
   "metadata": {},
   "outputs": [],
   "source": [
    "y_pred = mod.cross_val_predict(tree_clf,X_train,y_train_5,cv=3)"
   ]
  },
  {
   "cell_type": "code",
   "execution_count": 44,
   "id": "ca027601",
   "metadata": {},
   "outputs": [],
   "source": [
    "mat = met.confusion_matrix(y_train_5,y_pred)"
   ]
  },
  {
   "cell_type": "code",
   "execution_count": 45,
   "id": "f46cda96",
   "metadata": {},
   "outputs": [
    {
     "data": {
      "text/plain": [
       "<AxesSubplot:>"
      ]
     },
     "execution_count": 45,
     "metadata": {},
     "output_type": "execute_result"
    },
    {
     "data": {
      "image/png": "[encoded data removed]",
      "text/plain": [
       "<Figure size 432x288 with 2 Axes>"
      ]
     },
     "metadata": {
      "needs_background": "light"
     },
     "output_type": "display_data"
    }
   ],
   "source": [
    "sns.heatmap(mat,cmap = \"RdBu_r\",annot = True, fmt = \"d\")"
   ]
  },
  {
   "cell_type": "code",
   "execution_count": 46,
   "id": "75bf7235",
   "metadata": {},
   "outputs": [
    {
     "data": {
      "text/plain": [
       "0.9730588235294118"
      ]
     },
     "execution_count": 46,
     "metadata": {},
     "output_type": "execute_result"
    }
   ],
   "source": [
    "met.accuracy_score(y_train_5,y_pred)"
   ]
  },
  {
   "cell_type": "code",
   "execution_count": 48,
   "id": "6be1b7f4",
   "metadata": {},
   "outputs": [
    {
     "name": "stdout",
     "output_type": "stream",
     "text": [
      "Accuracy score: 0.9730588235294118\n",
      "Precision score: 0.8487504662439388\n",
      "Recall score: 0.8517686692869174\n",
      "F1 score: 0.8502568893040635\n"
     ]
    }
   ],
   "source": [
    "print(\"Accuracy score:\", met.accuracy_score(y_train_5,y_pred))\n",
    "print(\"Precision score:\",met.precision_score(y_train_5,y_pred)) \n",
    "print(\"Recall score:\",met.recall_score(y_train_5,y_pred))\n",
    "print(\"F1 score:\",met.f1_score(y_train_5,y_pred))\n",
    "\n"
   ]
  },
  {
   "cell_type": "code",
   "execution_count": 49,
   "id": "debe56a2",
   "metadata": {},
   "outputs": [
    {
     "name": "stdout",
     "output_type": "stream",
     "text": [
      "              precision    recall  f1-score   support\n",
      "\n",
      "       False       0.99      0.99      0.99     54157\n",
      "        True       0.85      0.85      0.85      5343\n",
      "\n",
      "    accuracy                           0.97     59500\n",
      "   macro avg       0.92      0.92      0.92     59500\n",
      "weighted avg       0.97      0.97      0.97     59500\n",
      "\n"
     ]
    }
   ],
   "source": [
    "print(met.classification_report(y_train_5,y_pred))"
   ]
  },
  {
   "cell_type": "code",
   "execution_count": 50,
   "id": "807efe20",
   "metadata": {},
   "outputs": [],
   "source": [
    "# Pipeline for training SGD Classifier. Since it uses Gradient Descent algorithm inside, scaling is important factor.\n",
    "\n",
    "pipe_sgd = pip.Pipeline([\n",
    "     (\"scaler\",pre.StandardScaler()),\n",
    "     (\"sgd_clf\", lin.SGDClassifier(random_state = 42))\n",
    "     ])\n",
    "\n",
    "y_pred2 = mod.cross_val_predict(pipe_sgd,X_train,y_train_5,cv=3)"
   ]
  },
  {
   "cell_type": "code",
   "execution_count": 52,
   "id": "da27245b",
   "metadata": {},
   "outputs": [
    {
     "name": "stdout",
     "output_type": "stream",
     "text": [
      "              precision    recall  f1-score   support\n",
      "\n",
      "       False       0.98      0.99      0.98     54157\n",
      "        True       0.87      0.78      0.82      5343\n",
      "\n",
      "    accuracy                           0.97     59500\n",
      "   macro avg       0.93      0.88      0.90     59500\n",
      "weighted avg       0.97      0.97      0.97     59500\n",
      "\n"
     ]
    },
    {
     "data": {
      "text/plain": [
       "array([False, False,  True, ..., False, False, False])"
      ]
     },
     "execution_count": 52,
     "metadata": {},
     "output_type": "execute_result"
    }
   ],
   "source": [
    "print(met.classification_report(y_train_5,y_pred2))\n",
    "\n",
    "pipe_sgd.fit(X_train,y_train_5)\n",
    "pipe_sgd.predict(X_test)"
   ]
  },
  {
   "cell_type": "code",
   "execution_count": 53,
   "id": "40572b93",
   "metadata": {},
   "outputs": [
    {
     "data": {
      "text/plain": [
       "array([-352.77578696, -358.52267011,   31.65450876, ..., -520.69750312,\n",
       "       -567.437772  , -237.69020815])"
      ]
     },
     "execution_count": 53,
     "metadata": {},
     "output_type": "execute_result"
    }
   ],
   "source": [
    "pipe_sgd.decision_function(X_test) # Returns a confidence score for each sample. true if the confidence score is above a threshold, false if it is below a threshold"
   ]
  },
  {
   "cell_type": "code",
   "execution_count": 55,
   "id": "b682d9a1",
   "metadata": {},
   "outputs": [
    {
     "data": {
      "text/plain": [
       "array([False, False, False, ..., False, False, False])"
      ]
     },
     "execution_count": 55,
     "metadata": {},
     "output_type": "execute_result"
    }
   ],
   "source": [
    "tree_clf.fit(X_train,y_train_5)\n",
    "tree_clf.predict(X_test)"
   ]
  },
  {
   "cell_type": "code",
   "execution_count": 60,
   "id": "4ca990ca",
   "metadata": {},
   "outputs": [
    {
     "data": {
      "text/plain": [
       "array([[1., 0.],\n",
       "       [1., 0.],\n",
       "       [1., 0.],\n",
       "       ...,\n",
       "       [1., 0.],\n",
       "       [1., 0.],\n",
       "       [1., 0.]])"
      ]
     },
     "execution_count": 60,
     "metadata": {},
     "output_type": "execute_result"
    }
   ],
   "source": [
    "tree_clf.predict_proba(X_test) # It returns the prob of predictions."
   ]
  },
  {
   "cell_type": "code",
   "execution_count": 61,
   "id": "8dcb0366",
   "metadata": {},
   "outputs": [
    {
     "data": {
      "text/plain": [
       "True"
      ]
     },
     "execution_count": 61,
     "metadata": {},
     "output_type": "execute_result"
    }
   ],
   "source": [
    "hasattr(tree.DecisionTreeClassifier(),\"predict_proba\") #It returns true if that function exists in that classifier."
   ]
  },
  {
   "cell_type": "code",
   "execution_count": 62,
   "id": "1c513f28",
   "metadata": {},
   "outputs": [],
   "source": [
    "y_score = mod.cross_val_predict(pipe_sgd,X_train,y_train_5,cv=3,method =\"decision_function\")"
   ]
  },
  {
   "cell_type": "code",
   "execution_count": 63,
   "id": "3e2d0737",
   "metadata": {},
   "outputs": [],
   "source": [
    "precision,recall,threshold = met.precision_recall_curve(y_train_5,y_score) #Precision recall changes according to different threshold values"
   ]
  },
  {
   "cell_type": "code",
   "execution_count": 64,
   "id": "708a455c",
   "metadata": {},
   "outputs": [
    {
     "name": "stdout",
     "output_type": "stream",
     "text": [
      "Precision: 59152\n",
      "Recall: 59152\n",
      "Threshold: 59151\n"
     ]
    }
   ],
   "source": [
    "print(\"Precision:\" ,len(precision))\n",
    "print(\"Recall:\" ,len(recall))\n",
    "print(\"Threshold:\" ,len(threshold)) #The number of threshold is 1 less than the others. The last element is not taken."
   ]
  },
  {
   "cell_type": "code",
   "execution_count": 65,
   "id": "efbf252b",
   "metadata": {},
   "outputs": [
    {
     "data": {
      "text/plain": [
       "[<matplotlib.lines.Line2D at 0x193894726a0>]"
      ]
     },
     "execution_count": 65,
     "metadata": {},
     "output_type": "execute_result"
    },
    {
     "data": {
      "image/png": "[encoded data removed]",
      "text/plain": [
       "<Figure size 432x288 with 1 Axes>"
      ]
     },
     "metadata": {
      "needs_background": "light"
     },
     "output_type": "display_data"
    }
   ],
   "source": [
    "plt.plot(threshold,precision[:-1],label = \"precision\")\n",
    "plt.plot(threshold,recall[:-1],label = \"recall\") # choose the point where they intersect as threshold"
   ]
  },
  {
   "cell_type": "code",
   "execution_count": 69,
   "id": "665b9a7a",
   "metadata": {},
   "outputs": [
    {
     "name": "stdout",
     "output_type": "stream",
     "text": [
      "              precision    recall  f1-score   support\n",
      "\n",
      "       False       0.98      0.98      0.98     54157\n",
      "        True       0.84      0.81      0.82      5343\n",
      "\n",
      "    accuracy                           0.97     59500\n",
      "   macro avg       0.91      0.90      0.90     59500\n",
      "weighted avg       0.97      0.97      0.97     59500\n",
      "\n"
     ]
    }
   ],
   "source": [
    "thr = -20\n",
    "y_pred = y_score > thr\n",
    "print(met.classification_report(y_train_5,y_pred)) # you get same scores for precision and recall.\n",
    "# We can set a recall according to the threshold as we want. make sure the precision doesn't drop too much while increasing the recall."
   ]
  },
  {
   "cell_type": "code",
   "execution_count": 70,
   "id": "80e5063b",
   "metadata": {},
   "outputs": [
    {
     "data": {
      "text/plain": [
       "Text(0.5, 0, 'Precision')"
      ]
     },
     "execution_count": 70,
     "metadata": {},
     "output_type": "execute_result"
    },
    {
     "data": {
      "image/png": "[encoded data removed]",
      "text/plain": [
       "<Figure size 432x288 with 1 Axes>"
      ]
     },
     "metadata": {
      "needs_background": "light"
     },
     "output_type": "display_data"
    }
   ],
   "source": [
    "plt.plot(precision,recall) # used too much. The area between the rectangle and the curve shows how much room to develop. The closer it is to the rectangle, the better the algorithm.\n",
    "# if there is an imbalanced data set and the minorty is true then use it.\n",
    "plt.ylabel(\"Recall\")\n",
    "plt.xlabel(\"Precision\")"
   ]
  },
  {
   "cell_type": "code",
   "execution_count": null,
   "id": "e5094dab",
   "metadata": {},
   "outputs": [],
   "source": [
    "# ROC Curve -- ROC Curve -- tpr vs fpr you try to go top left. Receiver Operating Characteristics. It is the most used model for any classification model evaluation.\n",
    "# True Positive Rate / Recall / Sensitivity = TP / (TP + FN) More is better.\n",
    "# Specificity = TN / (TN + FP)   \n",
    "# False Positive Rate = 1-Specificity = FP / (TN + FP)    Less is better.\n",
    "# This graph is drawn according to the thresholds. combination of points formed according to thresholds, roc curve.\n",
    "# The area under the roc curve is called AUC, and we want the AUC to be very large. max 1. min 0.\n",
    "# The value Auc gives us measures how separable these classes are. If it is 0.71, then there is a 71 percent probability that my guess is correct. It means I can separate the class. \n",
    "# Linear line has an AUC of 0.5. If I have 2 classes and my AUC is 0.5, it means my model hasn't learned anything.\n"
   ]
  },
  {
   "cell_type": "code",
   "execution_count": 71,
   "id": "b29f6301",
   "metadata": {},
   "outputs": [
    {
     "data": {
      "image/png": "[encoded data removed]",
      "text/plain": [
       "<Figure size 432x288 with 1 Axes>"
      ]
     },
     "metadata": {
      "needs_background": "light"
     },
     "output_type": "display_data"
    }
   ],
   "source": [
    "fpr , tpr ,  thresholds = met.roc_curve(y_train_5,y_score)\n",
    "plt.plot(fpr,tpr)\n",
    "plt.xlabel(\"FPR\")\n",
    "plt.ylabel(\"TPR\")\n",
    "plt.title(\"ROC Curve\")\n",
    "plt.show()\n"
   ]
  },
  {
   "cell_type": "code",
   "execution_count": 72,
   "id": "6870fcd9",
   "metadata": {},
   "outputs": [
    {
     "data": {
      "text/plain": [
       "0.9726355967898367"
      ]
     },
     "execution_count": 72,
     "metadata": {},
     "output_type": "execute_result"
    }
   ],
   "source": [
    "met.roc_auc_score(y_train_5,y_score)"
   ]
  },
  {
   "cell_type": "code",
   "execution_count": 74,
   "id": "4b603e5d",
   "metadata": {},
   "outputs": [
    {
     "data": {
      "image/png": "[encoded data removed]",
      "text/plain": [
       "<Figure size 432x288 with 1 Axes>"
      ]
     },
     "metadata": {
      "needs_background": "light"
     },
     "output_type": "display_data"
    }
   ],
   "source": [
    "y_scores_tree = mod.cross_val_predict(tree_clf,X_train,y_train_5,cv=3,method =\"predict_proba\")[:,1]\n",
    "#modellere koymak için sadece true scoreları gerekiyor bize. 0'lar değil 1'ler.\n",
    "fpr1,tpr1,thresholds = met.roc_curve(y_train_5,y_scores_tree)\n",
    "plt.plot(fpr1,tpr1)\n",
    "plt.xlabel(\"FPR\")\n",
    "plt.ylabel(\"TPR\")\n",
    "plt.title(\"ROC Curve\") \n",
    "plt.show()"
   ]
  },
  {
   "cell_type": "code",
   "execution_count": null,
   "id": "9522908c",
   "metadata": {},
   "outputs": [],
   "source": [
    "# ROC curves are appropriate when the observations are balanced between each class, whereas precision-recall curves are appropriate for imbalanced datasets\n"
   ]
  },
  {
   "cell_type": "code",
   "execution_count": 75,
   "id": "3fd9c8ee",
   "metadata": {},
   "outputs": [
    {
     "data": {
      "text/plain": [
       "0.9183968445683068"
      ]
     },
     "execution_count": 75,
     "metadata": {},
     "output_type": "execute_result"
    }
   ],
   "source": [
    "met.roc_auc_score(y_train_5,y_scores_tree)\n"
   ]
  },
  {
   "cell_type": "code",
   "execution_count": 77,
   "id": "c545a802",
   "metadata": {},
   "outputs": [
    {
     "name": "stdout",
     "output_type": "stream",
     "text": [
      "DecisionTreeClassifier auc score 0.9183691473177206\n",
      "SGDClassifier auc score 0.9726355967898367\n"
     ]
    },
    {
     "data": {
      "image/png": "[encoded data removed]",
      "text/plain": [
       "<Figure size 432x288 with 1 Axes>"
      ]
     },
     "metadata": {
      "needs_background": "light"
     },
     "output_type": "display_data"
    }
   ],
   "source": [
    "for est in [tree.DecisionTreeClassifier(random_state = 42),lin.SGDClassifier(random_state =42)]:\n",
    "\n",
    "     pipe = pip.Pipeline([\n",
    "         (\"scaler\",pre.StandardScaler()),\n",
    "         (\"clf\", est)\n",
    "         ])\n",
    "     if hasattr(est,\"predict_proba\"):\n",
    "         mymethod = \"predict_proba\"\n",
    "     else: mymethod = \"decision_function\"    \n",
    "    \n",
    "     y_scores = mod.cross_val_predict(pipe,X_train,y_train_5,cv=3, method = mymethod)\n",
    "    \n",
    "     if hasattr(est,\"predict_proba\"):\n",
    "         y_scores = y_scores[:,1]\n",
    "        \n",
    "     fpr,tpr,threshold = met.roc_curve(y_train_5,y_scores)    \n",
    "    \n",
    "     plt.plot(fpr,tpr,label = est.__class__.__name__)\n",
    "     print(est.__class__.__name__,\"auc score\",met.roc_auc_score(y_train_5,y_scores))\n",
    "\n",
    "plt.title(\"ROC Curve\")\n",
    "plt.xlabel(\"fpr\")\n",
    "plt.ylabel(\"tpr\")\n",
    "plt.legend()\n",
    "plt.show()\n"
   ]
  },
  {
   "cell_type": "code",
   "execution_count": 78,
   "id": "1c93310e",
   "metadata": {},
   "outputs": [],
   "source": [
    "def plotLearningCurveClassification(est,X_train,y_train,X_test,y_test,y_lower = 0, y_upper = 1.05):\n",
    "     x_values= []\n",
    "     y_values_train = []\n",
    "     y_values_test = []\n",
    "    \n",
    "     for j in np.linspace(100,len(X_train),20):\n",
    "         i = int(j)\n",
    "         x_values.append(i)\n",
    "        \n",
    "         X_train_sample = X_train[:i]\n",
    "         y_train_sample = y_train[:i]\n",
    "        \n",
    "         est.fit(X_train_sample,y_train_sample)\n",
    "        \n",
    "         y_train_scores = est.predict_proba(X_train_sample)[:,1]\n",
    "         train_score = met.roc_auc_score(y_train_sample,y_train_scores)\n",
    "         y_values_train.append(train_score)\n",
    "        \n",
    "        \n",
    "         y_test_scores = est.predict_proba(X_test)[:,1]\n",
    "         test_score = met.roc_auc_score(y_test,y_test_scores)\n",
    "         y_values_test.append(test_score)\n",
    "        \n",
    "     plt.plot(x_values,y_values_train,label=\"train\")\n",
    "     plt.plot(x_values,y_values_test,label = \"test\")\n",
    "     plt.xlabel(\"Train Size\")\n",
    "     plt.ylabel(\"AUC Score\")\n",
    "     plt.legend()\n",
    "     plt.grid(True)\n",
    "     plt.ylim(y_lower,y_upper)\n",
    "     plt.show()   "
   ]
  },
  {
   "cell_type": "code",
   "execution_count": 79,
   "id": "f553bc11",
   "metadata": {},
   "outputs": [
    {
     "data": {
      "image/png": "[encoded data removed]",
      "text/plain": [
       "<Figure size 432x288 with 1 Axes>"
      ]
     },
     "metadata": {
      "needs_background": "light"
     },
     "output_type": "display_data"
    }
   ],
   "source": [
    "plotLearningCurveClassification(tree.DecisionTreeClassifier(random_state = 42,max_depth = 4),X_train,y_train_5,X_test,y_test_5,y_lower = 0, y_upper = 1.05)\n",
    "\n",
    "\n",
    "# After seeing the model results and deciding on the model, take all the data, train it and use it on the real data. \n",
    "# You can have a chance to see underfitting | overfitting problems."
   ]
  },
  {
   "cell_type": "code",
   "execution_count": null,
   "id": "88bb4443",
   "metadata": {},
   "outputs": [],
   "source": []
  }
 ],
 "metadata": {
  "kernelspec": {
   "display_name": "Python 3 (ipykernel)",
   "language": "python",
   "name": "python3"
  },
  "language_info": {
   "codemirror_mode": {
    "name": "ipython",
    "version": 3
   },
   "file_extension": ".py",
   "mimetype": "text/x-python",
   "name": "python",
   "nbconvert_exporter": "python",
   "pygments_lexer": "ipython3",
   "version": "3.9.12"
  }
 },
 "nbformat": 4,
 "nbformat_minor": 5
}
