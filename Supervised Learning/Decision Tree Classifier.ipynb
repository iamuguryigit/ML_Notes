{
 "cells": [
  {
   "cell_type": "code",
   "execution_count": null,
   "id": "35605dc8",
   "metadata": {},
   "outputs": [],
   "source": [
    "#gini/entropy attribute given in each node represents the impurity of the node. \n",
    "#less gini more purity. \n",
    "#Gi = 1- sum ((pi)**2)      samples = 54   0,49,5     1- (0/54)**2 - (49/54)**2 - (5/54)**2  = 0.168 gini.\n",
    "#Sklearn uses Cart algorithm which always generates a binary tree. every non leaf node has exactly 2 children.\n",
    "#ID3 composes a node with more than 2 children.\n",
    "#in sklearn, we use predict_proba to calculate class probabilities."
   ]
  },
  {
   "cell_type": "code",
   "execution_count": 20,
   "id": "7478401b",
   "metadata": {
    "collapsed": true
   },
   "outputs": [
    {
     "name": "stdout",
     "output_type": "stream",
     "text": [
      ".. _iris_dataset:\n",
      "\n",
      "Iris plants dataset\n",
      "--------------------\n",
      "\n",
      "**Data Set Characteristics:**\n",
      "\n",
      "    :Number of Instances: 150 (50 in each of three classes)\n",
      "    :Number of Attributes: 4 numeric, predictive attributes and the class\n",
      "    :Attribute Information:\n",
      "        - sepal length in cm\n",
      "        - sepal width in cm\n",
      "        - petal length in cm\n",
      "        - petal width in cm\n",
      "        - class:\n",
      "                - Iris-Setosa\n",
      "                - Iris-Versicolour\n",
      "                - Iris-Virginica\n",
      "                \n",
      "    :Summary Statistics:\n",
      "\n",
      "    ============== ==== ==== ======= ===== ====================\n",
      "                    Min  Max   Mean    SD   Class Correlation\n",
      "    ============== ==== ==== ======= ===== ====================\n",
      "    sepal length:   4.3  7.9   5.84   0.83    0.7826\n",
      "    sepal width:    2.0  4.4   3.05   0.43   -0.4194\n",
      "    petal length:   1.0  6.9   3.76   1.76    0.9490  (high!)\n",
      "    petal width:    0.1  2.5   1.20   0.76    0.9565  (high!)\n",
      "    ============== ==== ==== ======= ===== ====================\n",
      "\n",
      "    :Missing Attribute Values: None\n",
      "    :Class Distribution: 33.3% for each of 3 classes.\n",
      "    :Creator: R.A. Fisher\n",
      "    :Donor: Michael Marshall (MARSHALL%PLU@io.arc.nasa.gov)\n",
      "    :Date: July, 1988\n",
      "\n",
      "The famous Iris database, first used by Sir R.A. Fisher. The dataset is taken\n",
      "from Fisher's paper. Note that it's the same as in R, but not as in the UCI\n",
      "Machine Learning Repository, which has two wrong data points.\n",
      "\n",
      "This is perhaps the best known database to be found in the\n",
      "pattern recognition literature.  Fisher's paper is a classic in the field and\n",
      "is referenced frequently to this day.  (See Duda & Hart, for example.)  The\n",
      "data set contains 3 classes of 50 instances each, where each class refers to a\n",
      "type of iris plant.  One class is linearly separable from the other 2; the\n",
      "latter are NOT linearly separable from each other.\n",
      "\n",
      ".. topic:: References\n",
      "\n",
      "   - Fisher, R.A. \"The use of multiple measurements in taxonomic problems\"\n",
      "     Annual Eugenics, 7, Part II, 179-188 (1936); also in \"Contributions to\n",
      "     Mathematical Statistics\" (John Wiley, NY, 1950).\n",
      "   - Duda, R.O., & Hart, P.E. (1973) Pattern Classification and Scene Analysis.\n",
      "     (Q327.D83) John Wiley & Sons.  ISBN 0-471-22361-1.  See page 218.\n",
      "   - Dasarathy, B.V. (1980) \"Nosing Around the Neighborhood: A New System\n",
      "     Structure and Classification Rule for Recognition in Partially Exposed\n",
      "     Environments\".  IEEE Transactions on Pattern Analysis and Machine\n",
      "     Intelligence, Vol. PAMI-2, No. 1, 67-71.\n",
      "   - Gates, G.W. (1972) \"The Reduced Nearest Neighbor Rule\".  IEEE Transactions\n",
      "     on Information Theory, May 1972, 431-433.\n",
      "   - See also: 1988 MLC Proceedings, 54-64.  Cheeseman et al\"s AUTOCLASS II\n",
      "     conceptual clustering system finds 3 classes in the data.\n",
      "   - Many, many more ...\n",
      "['setosa' 'versicolor' 'virginica']\n",
      "['sepal length (cm)', 'sepal width (cm)', 'petal length (cm)', 'petal width (cm)']\n"
     ]
    }
   ],
   "source": [
    "import pandas as pd\n",
    "import numpy as np\n",
    "from matplotlib import pyplot as plt\n",
    "\n",
    "from sklearn import datasets as dat\n",
    "from sklearn import model_selection as mod \n",
    "from sklearn import metrics as met \n",
    "\n",
    "from sklearn import tree \n",
    "from sklearn.tree import export_graphviz\n",
    "\n",
    "data = dat.load_iris()   \n",
    "print(data.DESCR)\n",
    "print(data.target_names) # you can get the target name.\n",
    "print(data.feature_names) # you can get the feature names."
   ]
  },
  {
   "cell_type": "code",
   "execution_count": 28,
   "id": "a4849b78",
   "metadata": {},
   "outputs": [],
   "source": [
    "X = data.data[:,:]\n",
    "y = data.target "
   ]
  },
  {
   "cell_type": "code",
   "execution_count": 29,
   "id": "914c89bd",
   "metadata": {},
   "outputs": [
    {
     "data": {
      "image/png": "[encoded data removed]",
      "text/plain": [
       "<Figure size 432x288 with 1 Axes>"
      ]
     },
     "metadata": {
      "needs_background": "light"
     },
     "output_type": "display_data"
    }
   ],
   "source": [
    "plt.scatter(X[:,0],X[:,1], c = y) #c is the color code and give different colors according to the target. 3 different targets in data.\n",
    "plt.show()"
   ]
  },
  {
   "cell_type": "code",
   "execution_count": 31,
   "id": "d31bbfb4",
   "metadata": {},
   "outputs": [],
   "source": [
    "X_train,X_test,y_train,y_test = mod.train_test_split(X,y,test_size = 0.33 , random_state = 42) # dividing data into train and test set.\n"
   ]
  },
  {
   "cell_type": "code",
   "execution_count": 32,
   "id": "192cf65b",
   "metadata": {},
   "outputs": [
    {
     "data": {
      "text/plain": [
       "DecisionTreeClassifier(max_depth=2)"
      ]
     },
     "execution_count": 32,
     "metadata": {},
     "output_type": "execute_result"
    }
   ],
   "source": [
    "tree_clf = tree.DecisionTreeClassifier(max_depth = 2) # choose estimator.\n",
    "tree_clf.fit(X_train,y_train) # fit the data.\n"
   ]
  },
  {
   "cell_type": "code",
   "execution_count": 33,
   "id": "5917cbbe",
   "metadata": {},
   "outputs": [],
   "source": [
    "y_pred = tree_clf.predict(X_test) # make the prediction."
   ]
  },
  {
   "cell_type": "code",
   "execution_count": 34,
   "id": "294e52ba",
   "metadata": {
    "collapsed": true
   },
   "outputs": [
    {
     "data": {
      "text/plain": [
       "array([[0.        , 0.89473684, 0.10526316],\n",
       "       [1.        , 0.        , 0.        ],\n",
       "       [0.        , 0.03225806, 0.96774194],\n",
       "       [0.        , 0.89473684, 0.10526316],\n",
       "       [0.        , 0.89473684, 0.10526316],\n",
       "       [1.        , 0.        , 0.        ],\n",
       "       [0.        , 0.89473684, 0.10526316],\n",
       "       [0.        , 0.03225806, 0.96774194],\n",
       "       [0.        , 0.89473684, 0.10526316],\n",
       "       [0.        , 0.89473684, 0.10526316],\n",
       "       [0.        , 0.03225806, 0.96774194],\n",
       "       [1.        , 0.        , 0.        ],\n",
       "       [1.        , 0.        , 0.        ],\n",
       "       [1.        , 0.        , 0.        ],\n",
       "       [1.        , 0.        , 0.        ],\n",
       "       [0.        , 0.89473684, 0.10526316],\n",
       "       [0.        , 0.03225806, 0.96774194],\n",
       "       [0.        , 0.89473684, 0.10526316],\n",
       "       [0.        , 0.89473684, 0.10526316],\n",
       "       [0.        , 0.03225806, 0.96774194],\n",
       "       [1.        , 0.        , 0.        ],\n",
       "       [0.        , 0.03225806, 0.96774194],\n",
       "       [1.        , 0.        , 0.        ],\n",
       "       [0.        , 0.03225806, 0.96774194],\n",
       "       [0.        , 0.03225806, 0.96774194],\n",
       "       [0.        , 0.03225806, 0.96774194],\n",
       "       [0.        , 0.03225806, 0.96774194],\n",
       "       [0.        , 0.03225806, 0.96774194],\n",
       "       [1.        , 0.        , 0.        ],\n",
       "       [1.        , 0.        , 0.        ],\n",
       "       [1.        , 0.        , 0.        ],\n",
       "       [1.        , 0.        , 0.        ],\n",
       "       [0.        , 0.89473684, 0.10526316],\n",
       "       [1.        , 0.        , 0.        ],\n",
       "       [1.        , 0.        , 0.        ],\n",
       "       [0.        , 0.03225806, 0.96774194],\n",
       "       [0.        , 0.89473684, 0.10526316],\n",
       "       [1.        , 0.        , 0.        ],\n",
       "       [1.        , 0.        , 0.        ],\n",
       "       [1.        , 0.        , 0.        ],\n",
       "       [0.        , 0.03225806, 0.96774194],\n",
       "       [0.        , 0.89473684, 0.10526316],\n",
       "       [0.        , 0.89473684, 0.10526316],\n",
       "       [1.        , 0.        , 0.        ],\n",
       "       [1.        , 0.        , 0.        ],\n",
       "       [0.        , 0.89473684, 0.10526316],\n",
       "       [0.        , 0.89473684, 0.10526316],\n",
       "       [0.        , 0.03225806, 0.96774194],\n",
       "       [0.        , 0.89473684, 0.10526316],\n",
       "       [0.        , 0.03225806, 0.96774194]])"
      ]
     },
     "execution_count": 34,
     "metadata": {},
     "output_type": "execute_result"
    }
   ],
   "source": [
    "tree_clf.predict_proba(X_test) # you can see the predictions with the probability assigned to it. How much you believe in prediction."
   ]
  },
  {
   "cell_type": "code",
   "execution_count": null,
   "id": "8d66cafe",
   "metadata": {},
   "outputs": [],
   "source": [
    "# accuracy : By what percentage do the actual labels agree with the predictions?\n",
    "# confusion matrix : \n",
    "#      True Negatives : Actual 0 and prediction 0\n",
    "#      True positive : Actual 1 and prediction 1\n",
    "#      False positive : Actual 0 and prediction 1\n",
    "#      False negative : Actual 1 and prediction 0\n",
    "\n",
    "\n",
    "# precision : How many of those I guessed are true?. True positive / (True positive + False positive)  \n",
    "# recall : How many of those who were truly true did I say true.  True positive / (True positive + False negative)\n",
    "\n",
    "# F1 score : harmonic mean of recall with precision.  2 / (1/p + 1/r)    = 2*p*r/(r+p)"
   ]
  },
  {
   "cell_type": "code",
   "execution_count": null,
   "id": "529088aa",
   "metadata": {},
   "outputs": [],
   "source": [
    "# before evaluating the result you should know the base accuracy. Data can be highly imbalanced and accuracy means nothing there.\n",
    "# According to the problem & priority, evaluation metric can be changed."
   ]
  },
  {
   "cell_type": "code",
   "execution_count": 35,
   "id": "790be331",
   "metadata": {},
   "outputs": [
    {
     "name": "stdout",
     "output_type": "stream",
     "text": [
      "0.98\n"
     ]
    }
   ],
   "source": [
    "print(met.accuracy_score(y_test, y_pred))"
   ]
  },
  {
   "cell_type": "code",
   "execution_count": null,
   "id": "a23bf879",
   "metadata": {},
   "outputs": [],
   "source": [
    "# choosing which feature to use by minimizing the cost function in Cart. Bütün feature ve thresholdlara bakıyor.\n",
    "# J = (mleft/m) *Gleft  + (mright/m) * Gright\n",
    "# Regularization : \n",
    "# max_depth parameter :  prevents the tree from branching. to avoid dealing with overfitting.\n",
    "# min_samples_split : the minimum number of samples a node must have before it can be split.\n",
    "# min_samples_leaf : the minimum number of samples a leaf node must have.\n",
    "# greedy algorithm which may not find the optimal tree. but find an efficient one. "
   ]
  },
  {
   "cell_type": "code",
   "execution_count": 38,
   "id": "87930209",
   "metadata": {},
   "outputs": [],
   "source": [
    "export_graphviz(\n",
    "     tree_clf, #model name\n",
    "     out_file = \"iris_tree.dot\",\n",
    "     feature_names = data.feature_names[:],\n",
    "     class_names = data.target_names,\n",
    "     rounded = True,\n",
    "     filled = True\n",
    "     )"
   ]
  },
  {
   "cell_type": "code",
   "execution_count": 40,
   "id": "64dc0b95",
   "metadata": {},
   "outputs": [
    {
     "name": "stderr",
     "output_type": "stream",
     "text": [
      "'dot' is not recognized as an internal or external command,\n",
      "operable program or batch file.\n"
     ]
    }
   ],
   "source": [
    "! dot -Tpng iris_tree.dot -o iris_tree.png   # convert dot file to png."
   ]
  },
  {
   "cell_type": "code",
   "execution_count": 41,
   "id": "001309ec",
   "metadata": {},
   "outputs": [
    {
     "data": {
      "text/plain": [
       "array([[19,  0,  0],\n",
       "       [ 0, 15,  0],\n",
       "       [ 0,  1, 15]], dtype=int64)"
      ]
     },
     "execution_count": 41,
     "metadata": {},
     "output_type": "execute_result"
    }
   ],
   "source": [
    "met.confusion_matrix(y_test,y_pred) # the confusion matrix"
   ]
  },
  {
   "cell_type": "code",
   "execution_count": 51,
   "id": "561027bd",
   "metadata": {},
   "outputs": [
    {
     "data": {
      "image/png": "[encoded data removed]",
      "text/plain": [
       "<Figure size 432x288 with 1 Axes>"
      ]
     },
     "metadata": {
      "needs_background": "light"
     },
     "output_type": "display_data"
    },
    {
     "name": "stdout",
     "output_type": "stream",
     "text": [
      "Test f1 score is 0.98\n"
     ]
    },
    {
     "data": {
      "text/plain": [
       "{'max_depth': 4}"
      ]
     },
     "execution_count": 51,
     "metadata": {},
     "output_type": "execute_result"
    }
   ],
   "source": [
    "#Regression with Decision Trees : instead of gini mse will be used.\n",
    "\n",
    "#It takes the average of how many samples there are in each leaf node, and\n",
    "#that average is your guess when going to that leaf. You can still regularize the tree with max depth etc.\n",
    "\n",
    "# decision tree loves orthogonal decision boundaries terefore they may not be able to generalize a model perfectly. PCA can be effective to solve it.\n",
    "\n",
    "# for imbalanced data you should not use accuracy as an evaulation metric. F1 can be better choice. \n",
    "\n",
    "\n",
    "# HyperParameter Optimization with GridSearchCV\n",
    "\n",
    "params = { \n",
    "     \"max_depth\": range (2,30,2)\n",
    "     }\n",
    "\n",
    "# You can use GridSearchCV for hyperparameter optimization as shown below.\n",
    "\n",
    "grid = mod.GridSearchCV(tree.DecisionTreeClassifier(random_state = 42),params,scoring = \"accuracy\")\n",
    "grid.fit(X_train,y_train)\n",
    "\n",
    "df = pd.DataFrame(grid.cv_results_)\n",
    "plt.plot(df[\"param_max_depth\"],df[\"mean_test_score\"])\n",
    "plt.grid()\n",
    "plt.ylabel(\"F1 Score\")\n",
    "plt.xlabel(\"Max Depth Values\")\n",
    "plt.show()\n",
    "\n",
    "y_pred = grid.best_estimator_.predict(X_test) # It predicts using the best estimator returning from the grid.\n",
    "print(\"Test f1 score is\", met.accuracy_score(y_test,y_pred))\n",
    "grid.best_params_ # It gives the best parameters, whatever you are looking for in the grid."
   ]
  },
  {
   "cell_type": "code",
   "execution_count": 52,
   "id": "51ca57c8",
   "metadata": {},
   "outputs": [
    {
     "data": {
      "text/plain": [
       "array([1, 0, 2, 1, 1, 0, 1, 2, 1, 1, 2, 0, 0, 0, 0, 1, 2, 1, 1, 2, 0, 2,\n",
       "       0, 2, 2, 2, 2, 2, 0, 0, 0, 0, 1, 0, 0, 2, 1, 0, 0, 0, 2, 1, 1, 0,\n",
       "       0, 1, 1, 2, 1, 2])"
      ]
     },
     "execution_count": 52,
     "metadata": {},
     "output_type": "execute_result"
    }
   ],
   "source": [
    "y_pred"
   ]
  },
  {
   "cell_type": "code",
   "execution_count": null,
   "id": "5e480823",
   "metadata": {},
   "outputs": [],
   "source": []
  }
 ],
 "metadata": {
  "kernelspec": {
   "display_name": "Python 3 (ipykernel)",
   "language": "python",
   "name": "python3"
  },
  "language_info": {
   "codemirror_mode": {
    "name": "ipython",
    "version": 3
   },
   "file_extension": ".py",
   "mimetype": "text/x-python",
   "name": "python",
   "nbconvert_exporter": "python",
   "pygments_lexer": "ipython3",
   "version": "3.9.12"
  }
 },
 "nbformat": 4,
 "nbformat_minor": 5
}
